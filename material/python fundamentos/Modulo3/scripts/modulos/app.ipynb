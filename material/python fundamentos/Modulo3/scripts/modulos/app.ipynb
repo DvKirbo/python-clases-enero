{
 "cells": [
  {
   "cell_type": "code",
   "execution_count": 1,
   "id": "f6fcb866-eab2-4e62-8b42-a256ddbecd95",
   "metadata": {},
   "outputs": [],
   "source": [
    "\n",
    "# import <nombre_archivo> |as <alias>\n",
    "import ingreso_datos \n",
    "import ingreso_datos as ing\n",
    "\n",
    "# from <nombre_carpeta> import <nombre_archivo> | as <alias>\n",
    "from librerias import funciones_mate as mate\n",
    "from librerias import triangulos\n",
    "\n",
    "# 2. Declaración de constantes\n",
    "MSG_BIENVENIDA = \"Bienvenido al menú interactivo\"\n",
    "OPCIONES_MENU = \"\"\"¿Qué quieres hacer? Escribe una opción\n",
    "    1) Sumar dos numero\n",
    "    2) Calcular el factorial de un número\n",
    "    3) Indicar si numero es primo o no\n",
    "    4) Mostrar un triangulo de altura h\n",
    "    5) Salir\n",
    "    \"\"\""
   ]
  },
  {
   "cell_type": "code",
   "execution_count": 2,
   "id": "df91693f-d547-400a-99fa-bf346b26180e",
   "metadata": {},
   "outputs": [],
   "source": [
    "\n",
    "# 3. Declaro funciones y/o clases\n",
    "\n",
    "def opcion_1():\n",
    "    # llamo <modulo|alias>.<funcion>\n",
    "    num1 =  ing.ingreso_decimal(\"Ingrese el primero numero: \")\n",
    "    num2 = ingreso_datos.ingreso_decimal(\"Ingrese el segundo número: \")\n",
    "    \n",
    "    s = num1 + num2\n",
    "    print(f'La suma de los número {num1} + {num2} = {s}')\n",
    "    pass\n",
    "\n",
    "def opcion_2():\n",
    "    \n",
    "    n = ing.ingreso_entero()\n",
    "    factorial = mate.factorial(n)\n",
    "    \n",
    "    print(f'{n}! = {factorial}')\n",
    "    pass\n",
    "\n",
    "def opcion_3():\n",
    "    n = ing.ingreso_entero()\n",
    "    primo = mate.valida_primo(n)\n",
    "    \n",
    "    if primo:\n",
    "        print('El número es Primo')\n",
    "        pass\n",
    "    else:\n",
    "        print('El número no es primo')\n",
    "    pass\n",
    "\n",
    "def opcion_4():\n",
    "    \n",
    "    h = ing.ingreso_entero('Ingrese la altura del triangulo: ')\n",
    "    triangulos.mostrar_triangulo(h)\n",
    "    \n",
    "    pass\n"
   ]
  },
  {
   "cell_type": "code",
   "execution_count": 3,
   "id": "021c92c9-db23-4297-80c5-79c12fe075cf",
   "metadata": {},
   "outputs": [],
   "source": [
    "def main():\n",
    "    \n",
    "    # contiene la lógica principal\n",
    "    print(MSG_BIENVENIDA)\n",
    "    while True:\n",
    "        opcion = input(OPCIONES_MENU) # me devuelve un string ''\n",
    "        if opcion == '1':\n",
    "            opcion_1()\n",
    "        elif opcion == '2':\n",
    "            opcion_2()\n",
    "        elif opcion =='3':\n",
    "            opcion_3()\n",
    "        elif opcion=='4':\n",
    "            opcion_4()\n",
    "        elif opcion=='5':\n",
    "            break\n",
    "        else:\n",
    "            print(\"Comando desconocido, vuelve a intentarlo\")\n",
    "    pass"
   ]
  },
  {
   "cell_type": "code",
   "execution_count": 4,
   "id": "d4430d95-2080-4590-a7fd-ac6eb36fb679",
   "metadata": {},
   "outputs": [
    {
     "name": "stdout",
     "output_type": "stream",
     "text": [
      "Bienvenido al menú interactivo\n"
     ]
    },
    {
     "name": "stdin",
     "output_type": "stream",
     "text": [
      "¿Qué quieres hacer? Escribe una opción\n",
      "    1) Sumar dos numero\n",
      "    2) Calcular el factorial de un número\n",
      "    3) Indicar si numero es primo o no\n",
      "    4) Mostrar un triangulo de altura h\n",
      "    5) Salir\n",
      "     4\n",
      "Ingrese la altura del triangulo:  7\n"
     ]
    },
    {
     "name": "stdout",
     "output_type": "stream",
     "text": [
      "#\n",
      "##\n",
      "###\n",
      "####\n",
      "#####\n",
      "######\n",
      "#######\n"
     ]
    },
    {
     "name": "stdin",
     "output_type": "stream",
     "text": [
      "¿Qué quieres hacer? Escribe una opción\n",
      "    1) Sumar dos numero\n",
      "    2) Calcular el factorial de un número\n",
      "    3) Indicar si numero es primo o no\n",
      "    4) Mostrar un triangulo de altura h\n",
      "    5) Salir\n",
      "     5\n"
     ]
    }
   ],
   "source": [
    "main()"
   ]
  },
  {
   "cell_type": "code",
   "execution_count": null,
   "id": "b6dfcb7c-b165-4485-ba4f-7780d18867fa",
   "metadata": {},
   "outputs": [],
   "source": []
  }
 ],
 "metadata": {
  "kernelspec": {
   "display_name": "Python 3 (ipykernel)",
   "language": "python",
   "name": "python3"
  },
  "language_info": {
   "codemirror_mode": {
    "name": "ipython",
    "version": 3
   },
   "file_extension": ".py",
   "mimetype": "text/x-python",
   "name": "python",
   "nbconvert_exporter": "python",
   "pygments_lexer": "ipython3",
   "version": "3.8.12"
  }
 },
 "nbformat": 4,
 "nbformat_minor": 5
}
