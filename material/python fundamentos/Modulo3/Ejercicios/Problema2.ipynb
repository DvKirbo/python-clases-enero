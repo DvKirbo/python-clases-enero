{
 "cells": [
  {
   "cell_type": "markdown",
   "id": "d4415acc-62a1-4594-8e2f-3d9066788ae7",
   "metadata": {},
   "source": [
    "# Teoria Previa\n",
    "--------------------------"
   ]
  },
  {
   "cell_type": "markdown",
   "id": "860aa488-c212-4010-bd9d-7589669bd769",
   "metadata": {},
   "source": [
    "En este ejercicio vas a trabajar el concepto de puntos, coordenadas y vectores sobre el plano cartesiano y cómo la programación Orientada a Objetos puede ser una excelente aliada para trabajar con ellos. No está pensado para que hagas ningún tipo de cálculo sino para que practiques la automatización de tareas.\n",
    "\n"
   ]
  },
  {
   "cell_type": "markdown",
   "id": "39fc7700-5334-4e05-afe8-e4c36d294e8c",
   "metadata": {},
   "source": [
    "## El plano cartesiano"
   ]
  },
  {
   "cell_type": "markdown",
   "id": "0ced67ec-e5b8-4a36-ba98-dedb74bd51ba",
   "metadata": {},
   "source": [
    "Representa un espacio bidimensional (en 2 dimensiones), formado por dos rectas perpendiculares, una horizontal y otra vertical que se cortan en un punto. La recta horizontal se denomina eje de las abscisas o **eje X**, mientras que la vertical recibe el nombre de eje de las ordenadas o simplemente **eje Y**. En cuanto al punto donde se cortan, se conoce como el **punto de origen O**."
   ]
  },
  {
   "cell_type": "markdown",
   "id": "433a0f47-7d12-4958-a805-ba8cebc3c6a0",
   "metadata": {},
   "source": [
    "<div style=\"text-align:center\">\n",
    "  <img src=\"img/Ejercicio2_part1.jpg\" />\n",
    "</div>"
   ]
  },
  {
   "cell_type": "markdown",
   "id": "d417ec74-8805-40a1-afae-f7be871b6009",
   "metadata": {},
   "source": [
    "Es importante remarcar que el plano se divide en 4 cuadrantes:"
   ]
  },
  {
   "cell_type": "markdown",
   "id": "24104c77-4f8a-4c23-87fc-478ee106d1ac",
   "metadata": {},
   "source": [
    "<div style=\"text-align:center\">\n",
    "  <img src=\"img/Ejercicio2_part2.jpg\" />\n",
    "</div>"
   ]
  },
  {
   "cell_type": "markdown",
   "id": "528993fb-0399-401a-98bf-c16dd38941b9",
   "metadata": {},
   "source": [
    "## Puntos y coordenadas"
   ]
  },
  {
   "cell_type": "markdown",
   "id": "5350c859-ae39-41ac-a9d4-2018711c0810",
   "metadata": {},
   "source": [
    "El objetivo de todo esto es describir la posición de **puntos** sobre el plano en forma de **coordenadas**, que se forman asociando el valor del eje de las X (horizontal) con el valor del eje Y (vertical).\n",
    "\n",
    "La representación de un punto es sencilla: **P(X,Y)** dónde X y la Y son la distancia horizontal (izquierda o derecha) y vertical (arriba o abajo) respectivamente, utilizando como referencia el punto de origen (0,0), justo en el centro del plano."
   ]
  },
  {
   "cell_type": "markdown",
   "id": "18ebd6cb-ec8a-444c-a506-ff4faba21be2",
   "metadata": {},
   "source": [
    "<div style=\"text-align:center\">\n",
    "  <img src=\"img/Ejercicio2_part3.png\" />\n",
    "</div>"
   ]
  },
  {
   "cell_type": "markdown",
   "id": "b064e396-df7e-4ca4-a477-98ea5c03ea63",
   "metadata": {},
   "source": [
    "## Vectores en el plano"
   ]
  },
  {
   "cell_type": "markdown",
   "id": "904741e1-bfe0-4366-aef6-243a332a39c7",
   "metadata": {},
   "source": [
    "Finalmente, un vector en el plano hace referencia a un segmento orientado, generado a partir de dos puntos distintos.\n",
    "\n",
    "A efectos prácticos no deja de ser una línea formada desde un punto inicial en dirección a otro punto final, por lo que se entiende que un vector tiene longitud y dirección/sentido."
   ]
  },
  {
   "cell_type": "markdown",
   "id": "acecc9c3-acf9-4fbb-a216-d87d30758192",
   "metadata": {},
   "source": [
    "<div style=\"text-align:center\">\n",
    "  <img src=\"img/Ejercicio2_part4.png\" />\n",
    "</div>"
   ]
  },
  {
   "cell_type": "markdown",
   "id": "94c23eb4-88a4-4dca-8834-03e147ac60a6",
   "metadata": {},
   "source": [
    "En esta figura, podemos observar dos puntos A y B que podríamos definir de la siguiente forma:\n",
    "\n",
    "- **A(x1, y1) => A(2, 3)**\n",
    "- **B(x2, y2) => B(5, 5)**\n",
    "\n",
    "Y el vector se representaría como la diferencia entre las coordendas del segundo punto respecto al primero (el segundo menos el primero):\n",
    "\n",
    "- **AB = (x2 - x1, y2 - y1) => (5-2, 5-3) => (3,2)**\n",
    "\n",
    "Lo que en definitiva no deja de ser: 3 a la derecha y 2 arriba.\n",
    "\n",
    "Y con esto finalizamos este mini repaso.\n",
    "\n"
   ]
  },
  {
   "cell_type": "markdown",
   "id": "0f0e672c-3baf-4968-8b3b-f6e23bf43495",
   "metadata": {},
   "source": [
    "# Ejercicio\n",
    "--------------------------"
   ]
  },
  {
   "cell_type": "markdown",
   "id": "40e8cc0e-7264-42fb-9555-9ce015bccd42",
   "metadata": {},
   "source": [
    "- Crea una clase llamada **Punto** con sus dos coordenadas X e Y.\n",
    "- Añade un método **constructor** para crear puntos fácilmente. Si no se reciben una coordenada, su valor será cero.\n",
    "- Sobreescribe el método **string**, para que al imprimir por pantalla un punto aparezca en formato (X,Y)\n",
    "- Añade un método llamado **cuadrante** que indique a qué cuadrante pertenece el punto, teniendo en cuenta que si X == 0 e Y != 0 se sitúa sobre el eje Y, si X != 0 e Y == 0 se sitúa sobre el eje X y si X == 0 e Y == 0 está sobre el origen.\n",
    "- Añade un método llamado **vector**, que tome otro punto y calcule el vector resultante entre los dos puntos.\n",
    "- **(Optativo)** Añade un método llamado **distancia**, que tome otro punto y calcule la distancia entre los dos puntos y la muestre por pantalla. La fórmula es la siguiente:\n"
   ]
  },
  {
   "cell_type": "markdown",
   "id": "9f28c750-b9fc-4be3-a6c9-8492083e47bf",
   "metadata": {},
   "source": [
    "$$\n",
    "  d = \\sqrt{ (({x2 - x1}){^2} + ({y2 - y1}){^2} ) }\n",
    "$$"
   ]
  },
  {
   "cell_type": "markdown",
   "id": "983fafee-6193-42ca-8647-4b6e3a97b161",
   "metadata": {},
   "source": [
    "- Crea una clase llamada **Rectangulo** con dos puntos (inicial y final) que formarán la diagonal del rectángulo.\n",
    "- Añade un método **constructor** para crear ambos puntos fácilmente, si no se envían se crearán dos puntos en el origen por defecto.\n",
    "- Añade al rectángulo un método llamado **base** que muestre la base.\n",
    "- Añade al rectángulo un método llamado **altura** que muestre la altura.\n",
    "- Añade al rectángulo un método llamado **area** que muestre el area."
   ]
  },
  {
   "cell_type": "markdown",
   "id": "d8728083-f4ab-41a5-8071-fd1fc5515357",
   "metadata": {},
   "source": [
    "## Recuerde"
   ]
  },
  {
   "cell_type": "code",
   "execution_count": 4,
   "id": "bab850d9-2800-4f87-a05f-b80842d0a325",
   "metadata": {},
   "outputs": [
    {
     "name": "stdout",
     "output_type": "stream",
     "text": [
      "3.0\n",
      "4\n"
     ]
    }
   ],
   "source": [
    "import math\n",
    "# raiz cuadrada\n",
    "print(math.sqrt(9))\n",
    "\n",
    "# valor absoluto\n",
    "print(abs(-4)) \n"
   ]
  },
  {
   "cell_type": "markdown",
   "id": "64fffa38-f3c6-45f1-80f9-4c43011c454b",
   "metadata": {},
   "source": [
    "## Experimentación"
   ]
  },
  {
   "cell_type": "markdown",
   "id": "1ac29da3-7961-44c5-9b02-4f0167945080",
   "metadata": {},
   "source": [
    "- Crea los puntos A(2, 3), B(5,5), C(-3, -1) y D(0,0) e imprimelos por pantalla.\n",
    "- Consulta a que cuadrante pertenecen el punto A, C y D.\n",
    "- Consulta los vectores AB y BA.\n",
    "- **(Optativo)** Consulta la distancia entre los puntos 'A y B' y 'B y A'.\n",
    "- **(Optativo)** Determina cual de los 3 puntos A, B o C, se encuentra más lejos del origen, punto (0,0).\n",
    "- Crea un rectángulo utilizando los puntos A y B.\n",
    "- Consulta la base, altura y área del rectángulo."
   ]
  },
  {
   "cell_type": "markdown",
   "id": "c17717f8-2579-433a-8c25-2400d662c50a",
   "metadata": {},
   "source": [
    "## Soluciones"
   ]
  },
  {
   "cell_type": "code",
   "execution_count": null,
   "id": "fd53d6a6-b90c-44a7-9d33-73155d660f4e",
   "metadata": {},
   "outputs": [],
   "source": []
  },
  {
   "cell_type": "code",
   "execution_count": null,
   "id": "0ca8f083-673d-4d9f-ba89-5f951b7112ae",
   "metadata": {},
   "outputs": [],
   "source": []
  },
  {
   "cell_type": "code",
   "execution_count": null,
   "id": "a0f95e9d-5d60-4c46-a1a1-123c9dc47cc4",
   "metadata": {},
   "outputs": [],
   "source": []
  }
 ],
 "metadata": {
  "kernelspec": {
   "display_name": "Python 3",
   "language": "python",
   "name": "python3"
  },
  "language_info": {
   "codemirror_mode": {
    "name": "ipython",
    "version": 3
   },
   "file_extension": ".py",
   "mimetype": "text/x-python",
   "name": "python",
   "nbconvert_exporter": "python",
   "pygments_lexer": "ipython3",
   "version": "3.8.11"
  }
 },
 "nbformat": 4,
 "nbformat_minor": 5
}
