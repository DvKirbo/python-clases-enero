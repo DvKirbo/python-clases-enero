{
 "cells": [
  {
   "cell_type": "markdown",
   "metadata": {},
   "source": [
    "# CIFRADO CESAR"
   ]
  },
  {
   "cell_type": "markdown",
   "metadata": {},
   "source": [
    "Implemente un programa que encripte mensajes usando el cifrado de Caesar, según lo siguiente."
   ]
  },
  {
   "cell_type": "markdown",
   "metadata": {},
   "source": [
    "<code> caesar.py 13\n",
    "plaintext:  HELLO\n",
    "ciphertext: URYYB </code>"
   ]
  },
  {
   "cell_type": "markdown",
   "metadata": {},
   "source": [
    "## ANTECEDENTES"
   ]
  },
  {
   "cell_type": "markdown",
   "metadata": {},
   "source": [
    "Supuestamente, César (sí, ese César) solía “encriptar” (es decir, ocultar de manera reversible) mensajes confidenciales desplazando cada letra en un número de lugares. Por ejemplo, podría escribir A como B, B como C, C como D,… y, en orden alfabético, Z como A. Y entonces, para decir HOLA a alguien, César podría escribir IFMMP. Al recibir tales mensajes de César, los destinatarios tendrían que \"descifrarlos\" cambiando las letras en la dirección opuesta en el mismo número de lugares."
   ]
  },
  {
   "cell_type": "markdown",
   "metadata": {},
   "source": [
    "El secreto de este \"criptosistema\" dependía de que sólo César y los destinatarios conocieran un secreto, el número de lugares por los que César había cambiado sus letras (por ejemplo, 1). No es particularmente seguro para los estándares modernos, pero, bueno, si tal vez eres el primero en el mundo en hacerlo, ¡bastante seguro!"
   ]
  },
  {
   "cell_type": "markdown",
   "metadata": {},
   "source": [
    "El texto no cifrado generalmente se denomina texto sin formato . El texto cifrado generalmente se denomina texto cifrado . Y el secreto utilizado se llama clave ."
   ]
  },
  {
   "cell_type": "markdown",
   "metadata": {},
   "source": [
    "Para ser claros, entonces, así es como se <code>HELLO</code> obtiene el cifrado con una clave de 1 <code>IFMMP</code>:"
   ]
  },
  {
   "cell_type": "markdown",
   "metadata": {},
   "source": [
    "<img src='./img/ejercicio2.png'>"
   ]
  },
  {
   "cell_type": "markdown",
   "metadata": {},
   "source": [
    "Más formalmente, el algoritmo de César (es decir, el cifrado) cifra los mensajes \"rotando\" cada letra en k posiciones. Más formalmente, si p es un texto plano (es decir, un mensaje no cifrado), p i es el i- ésimo carácter en p , y k es una clave secreta (es decir, un número entero no negativo), entonces cada letra, c i , en el texto cifrado, c , se calcula como"
   ]
  },
  {
   "cell_type": "markdown",
   "metadata": {},
   "source": [
    "<img src='./img/ejercicio2_2.png'>"
   ]
  },
  {
   "cell_type": "markdown",
   "metadata": {},
   "source": [
    "donde <code>% 26</code> aquí significa \"resto al dividir por 26\". Esta fórmula quizás hace que el cifrado parezca más complicado de lo que es, pero en realidad es solo una forma concisa de expresar el algoritmo con precisión. De hecho, en aras de la discusión, piense en A (o a) como 0, B (o b) como 1,…, H (oh) como 7, I (o i) como 8,… y Z (o z) como 25. Suponga que César solo quiere saludar a alguien que usa de manera confidencial, esta vez, una clave, k , de 3. Y entonces su texto llano, p , es Hola, en cuyo caso el primer carácter de su texto llano, p 0 , es H (también conocido como 7), y el segundo carácter de su texto sin formato, p 1 , es i (también conocido como 8). El primer carácter de su texto cifrado, c 0, es así K, y el segundo carácter de su texto cifrado, c 1 , es así L. ¿Puedes ver por qué?"
   ]
  },
  {
   "cell_type": "markdown",
   "metadata": {},
   "source": [
    "Escribamos un programa llamado <code>caesar</code> que le permita cifrar mensajes usando el cifrado de Caesar. En el momento en que el usuario ejecuta el programa, debe decidir, proporcionando un argumento de línea de comandos, cuál debe ser la clave en el mensaje secreto que proporcionará en tiempo de ejecución. No debemos asumir necesariamente que la clave del usuario va a ser un número; aunque puede suponer que, si es un número, será un entero positivo."
   ]
  },
  {
   "cell_type": "markdown",
   "metadata": {},
   "source": [
    "A continuación se muestran algunos ejemplos de cómo podría funcionar el programa. Por ejemplo, si el usuario ingresa una clave de <code>1</code> y un texto sin formato de <code>HELLO</code>:"
   ]
  },
  {
   "cell_type": "markdown",
   "metadata": {},
   "source": [
    "<code>caesar.py 1\n",
    "plaintext:  HELLO\n",
    "ciphertext: IFMMP"
   ]
  },
  {
   "cell_type": "markdown",
   "metadata": {},
   "source": [
    "Así es como el programa podría funcionar si el usuario proporciona una clave <code>13</code> y un texto sin formato de <code>hello, world</code>:"
   ]
  },
  {
   "cell_type": "markdown",
   "metadata": {},
   "source": [
    "<code>caesar.py 13\n",
    "plaintext:  hello, world\n",
    "ciphertext: uryyb, jbeyq"
   ]
  },
  {
   "cell_type": "markdown",
   "metadata": {},
   "source": [
    "Observe que ni la coma ni el espacio fueron \"desplazados\" por el cifrado. ¡Solo rota los caracteres alfabéticos!\n",
    "\n"
   ]
  },
  {
   "cell_type": "markdown",
   "metadata": {},
   "source": [
    "¿Qué tal uno más? Así es como el programa podría funcionar si el usuario proporciona una clave de <code>13</code> nuevo, con un texto plano más complejo:\n",
    "\n"
   ]
  },
  {
   "cell_type": "markdown",
   "metadata": {},
   "source": [
    "<code>caesar.py 13\n",
    "plaintext:  be sure to drink your Ovaltine\n",
    "ciphertext: or fher gb qevax lbhe Binygvar"
   ]
  },
  {
   "cell_type": "markdown",
   "metadata": {},
   "source": [
    "Observe que se ha conservado el caso del mensaje original. Las letras minúsculas permanecen en minúsculas y las letras mayúsculas permanecen en mayúsculas."
   ]
  },
  {
   "cell_type": "markdown",
   "metadata": {},
   "source": [
    "### Nota\n",
    "\n",
    "Para todos los casos en que no se proporcione una clave válida el programa debe concluir con algún mensaje de error"
   ]
  },
  {
   "cell_type": "markdown",
   "metadata": {},
   "source": [
    "## ESPECIFICACIONES"
   ]
  },
  {
   "cell_type": "markdown",
   "metadata": {},
   "source": [
    "Diseñe e implemente un programa, <code>caesar</code> que encripta mensajes usando el cifrado de Caesar.\n",
    "\n",
    "- Implemente su programa en un archivo llamado <code>caesar.py</code>\n",
    "- Su programa debe aceptar un único argumento de línea de comandos, un entero no negativo. Llamémoslo k por el bien de la discusión.\n",
    "- Si su programa se ejecuta sin ningún argumento de línea de comando o con más de un argumento de línea de comando, su programa debe imprimir un mensaje de error de su elección (con <code>print</code>) y retornar un valor de <code>1</code> (que tiende a significar un error) inmediatamente.\n",
    "- Si alguno de los caracteres del argumento de la línea de comandos no es un dígito decimal, su programa debe imprimir el mensaje <code>Usage: ./caesar key</code> y retornar un valor de <code>1</code>.\n",
    "- No asuma que k será menor o igual a 26. Su programa debería funcionar para todos los valores integrales no negativos de k menores que 2 ^ 31 - 26. En otras palabras, no necesita preocuparse si su programa eventualmente se interrumpe si el usuario elige un valor para k que es demasiado grande o casi demasiado grande para caber en un int. Pero, incluso si k es mayor que 26, los caracteres alfabéticos en la entrada de su programa deben seguir siendo caracteres alfabéticos en la salida de su programa. Por ejemplo, si k es 27, <code>A</code> debería convertirse en <code>B</code>, ya que <code>B</code> está a 27 posiciones de <code>A</code>, siempre que pase de <code>Z</code> a <code>A</code>.\n",
    "- Su programa debe generar <code>plaintext</code>:(sin una nueva línea) y luego solicitar al usuario un <code>string</code> texto plano (usando <code>input</code>).\n",
    "- Su programa debe generar <code>ciphertext</code>:(sin una nueva línea) seguido por el texto cifrado correspondiente del texto sin formato, con cada carácter alfabético en el texto sin formato \"rotado\" por k posiciones; Los caracteres no alfabéticos deben imprimirse sin cambios.\n",
    "- Su programa debe preservar el uso de mayúsculas y minúsculas: las letras mayúsculas, aunque rotas, deben permanecer en mayúscula; las letras minúsculas, aunque estén rotadas, deben permanecer en minúsculas.\n",
    "- Después de generar texto cifrado, debe imprimir una nueva línea. Su programa debería retornar <code>0</code>.\n"
   ]
  },
  {
   "cell_type": "markdown",
   "metadata": {},
   "source": [
    "## Algoritmo\n",
    "\n",
    "Revelación\n",
    "\n",
    "Hay más de una forma de hacer esto, ¡así que aquí tienes solo una!\n",
    "\n",
    "1. Verifique que el programa se ejecutó con un argumento de línea de comando\n",
    "2. Repita el argumento proporcionado para asegurarse de que todos los caracteres sean dígitos\n",
    "3. Convierta ese argumento de la línea de comandos de un stringa unint\n",
    "4. Solicitar al usuario texto sin formato\n",
    "5. Itera sobre cada carácter del texto sin formato:\n",
    "6. Si es una letra mayúscula, gírela, conservando el caso, luego imprima el carácter girado\n",
    "7. Si es una letra minúscula, gírela, conservando el caso, luego imprima el carácter girado\n",
    "8. Si no es ninguno, imprima el carácter como está\n",
    "9. Imprimir una nueva línea"
   ]
  },
  {
   "cell_type": "markdown",
   "metadata": {},
   "source": [
    "## Pruebas"
   ]
  },
  {
   "cell_type": "markdown",
   "metadata": {},
   "source": [
    "Este ejercicio es similar al puesto en el modulo 2"
   ]
  },
  {
   "cell_type": "code",
   "execution_count": 1,
   "metadata": {},
   "outputs": [],
   "source": [
    "import string"
   ]
  },
  {
   "cell_type": "code",
   "execution_count": 2,
   "metadata": {},
   "outputs": [
    {
     "data": {
      "text/plain": [
       "'ABCDEFGHIJKLMNOPQRSTUVWXYZ'"
      ]
     },
     "execution_count": 2,
     "metadata": {},
     "output_type": "execute_result"
    }
   ],
   "source": [
    "# alfabeto ingles\n",
    "abc = string.ascii_uppercase\n",
    "abc"
   ]
  },
  {
   "cell_type": "code",
   "execution_count": 4,
   "metadata": {},
   "outputs": [
    {
     "data": {
      "text/plain": [
       "False"
      ]
     },
     "execution_count": 4,
     "metadata": {},
     "output_type": "execute_result"
    }
   ],
   "source": [
    "\n",
    "'l'.isupper()"
   ]
  }
 ],
 "metadata": {
  "kernelspec": {
   "display_name": "Python 3",
   "language": "python",
   "name": "python3"
  },
  "language_info": {
   "codemirror_mode": {
    "name": "ipython",
    "version": 3
   },
   "file_extension": ".py",
   "mimetype": "text/x-python",
   "name": "python",
   "nbconvert_exporter": "python",
   "pygments_lexer": "ipython3",
   "version": "3.8.11"
  }
 },
 "nbformat": 4,
 "nbformat_minor": 4
}
