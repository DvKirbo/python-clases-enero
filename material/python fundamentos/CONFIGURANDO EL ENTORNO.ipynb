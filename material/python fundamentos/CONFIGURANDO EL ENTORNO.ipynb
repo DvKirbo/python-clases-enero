{
 "cells": [
  {
   "cell_type": "markdown",
   "metadata": {},
   "source": [
    "# EL ENTORNO DE APRENDIZAJE"
   ]
  },
  {
   "cell_type": "markdown",
   "metadata": {},
   "source": [
    "Para preparar nuestro entorno de aprendizaje realizaremos las siguientes instalaciones:\n",
    "\n",
    "1. Anaconda\n",
    "2. Visual Studio Code\n",
    "3. Git\n",
    "\n",
    "Por favor siga cada una de las instrucciones que se mencionan"
   ]
  },
  {
   "cell_type": "markdown",
   "metadata": {},
   "source": [
    "### [1. ANACONDA](https://www.anaconda.com/)"
   ]
  },
  {
   "cell_type": "markdown",
   "metadata": {},
   "source": [
    "Anaconda nos provee de una plataforma muy completa para poder desarrollar nuestros proyectos de Data Science, simplifica la tarea de instalación y configuración de las distintas aplicaciones que necesitaremos usar en nuestro viaje. Podemos utilizarlo tanto por terminal como por interfaz gráfica (GUI). Por el momento avancemos con la segunda opción, es más amigable para quien no está acostumbrado a la línea de comandos.\n",
    "\n",
    "Algunas ventajas de utilizar Anaconda para tus proyectos son:\n",
    "\n",
    "- Manejar los entornos de trabajo con Conda (todas las dependencias de librerías se resuelven en el momento de instalación)\n",
    "- Posibilidad de compartir, colaborar y reproducir los proyectos\n",
    "- Puedes pasar tu proyecto a producción solo con un click (una vez configurado)\n",
    "\n",
    "Dentro de las variadas aplicaciones que nos ofrece Anaconda vamos a utilizar Jupyter Notebooks con Python 3.9."
   ]
  },
  {
   "cell_type": "markdown",
   "metadata": {},
   "source": [
    "<!-- ![Anaconda Imagen]() -->\n",
    "\n",
    "<img src=\"https://docs.anaconda.com/_images/nav-defaults.png\" widht=150>"
   ]
  },
  {
   "cell_type": "markdown",
   "metadata": {},
   "source": [
    "#### INSTALANDO ANACONDA\n",
    "\n",
    "Para realizar la instalación debes seguir los siguientes pasos:\n",
    "\n",
    "1. Ir a https://www.anaconda.com/distribution/\n",
    "1. Selecciona tu versión de Sistema Operativo: Windows - macOS - Linux\n",
    "1. Haz click en Descargar/Download “Python 3.9 version o la última disponible” (o click en la versión adecuada para tu CPU 64-bit o 32-bit)\n",
    "\n",
    "<br>\n",
    "\n",
    "Nota:\n",
    "\n",
    "**De contar con alguna versión de python previamente instalada en su sistema operativo. Igual puede instalar anaconda**"
   ]
  },
  {
   "cell_type": "markdown",
   "metadata": {},
   "source": [
    "<img src=\"./img/anaconda/anaconda_paquetes.jpg\" widht=150 height=\"400\">"
   ]
  },
  {
   "cell_type": "markdown",
   "metadata": {},
   "source": [
    "Después de descargar el instalador gráfico, debes abrirlo y seguir las instrucciones que se presentarán en pantalla. Estas son una serie de preguntas para realizar la instalación, las opciones por defecto están bien, no hay necesidad de cambiarlas.\n",
    "\n",
    "\n",
    "**Se muestran las opciones por defecto**"
   ]
  },
  {
   "cell_type": "markdown",
   "metadata": {},
   "source": [
    "<center><img src='./img/anaconda/instalacion_anaconda_1.png' width=\"500\" height=\"400\"></center>"
   ]
  },
  {
   "cell_type": "markdown",
   "metadata": {},
   "source": [
    "<center><img src='./img/anaconda/instalacion_anaconda_2.png' width=\"500\" height=\"400\"></center>"
   ]
  },
  {
   "cell_type": "markdown",
   "metadata": {},
   "source": [
    "### Iniciando Anaconda\n"
   ]
  },
  {
   "cell_type": "markdown",
   "metadata": {},
   "source": [
    "Una vez que finalice la instalación abriremos el programa Jupyter Notebook (el cual esta incluido en el paquete de anaconda). Ello con el fin de comprobar que hemos realizado una instalación exitosa.\n",
    "\n",
    "Para esto, debemos buscarlo en inicio de windows o por defecto en el buscador que se encuentra en la barra de tareas."
   ]
  },
  {
   "cell_type": "markdown",
   "metadata": {},
   "source": [
    "<center><img src='./img/anaconda/Jupyter.png' width=\"500\" height=\"400\"></center>"
   ]
  },
  {
   "cell_type": "markdown",
   "metadata": {},
   "source": [
    "Esto debería abrir una consola la cual nos debería direccionar a un sitio web de forma automática.\n",
    "\n",
    "Para lo casos en que esto no ocurra:\n",
    "- Si la pantalla de la consola se mantiene en negro deberiamos esperar unos minutos a que ocurra el cambio.\n",
    "- De no aperturar el sitio web, podemos copiar alguna de las url que nos aparezca en la consola en el navegador de nuestra preferencia (se recomienda google chrome) "
   ]
  },
  {
   "cell_type": "markdown",
   "metadata": {},
   "source": [
    "<img src='./img/anaconda/jupyter_consola.jpg' width=\"700\" height=\"500\">"
   ]
  },
  {
   "cell_type": "markdown",
   "metadata": {},
   "source": [
    "<img src='./img/anaconda/jupyter_web.jpg' width=\"700\" height=\"500\">"
   ]
  },
  {
   "cell_type": "markdown",
   "metadata": {},
   "source": [
    "Hasta aqui hemos terminado con la instalación de anaconda."
   ]
  },
  {
   "cell_type": "markdown",
   "metadata": {},
   "source": [
    "### [2. VISUAL STUDIO CODE](https://code.visualstudio.com/)"
   ]
  },
  {
   "cell_type": "markdown",
   "metadata": {},
   "source": [
    "Visual Studio Code es un editor de código fuente desarrollado por Microsoft para Windows, Linux y macOS. Incluye soporte para la depuración, control integrado de [Git](https://git-scm.com/), resaltado de sintaxis, finalización inteligente de código, fragmentos y refactorización de código."
   ]
  },
  {
   "cell_type": "markdown",
   "metadata": {},
   "source": [
    "<center><img src='https://code.visualstudio.com/assets/updates/1_37/icons.gif' width=\"700\" height=\"400\"></center>"
   ]
  },
  {
   "cell_type": "markdown",
   "metadata": {},
   "source": [
    "#### INSTALANDO VSCODE\n",
    "\n",
    "Para realizar la instalación debes seguir los siguientes pasos:\n",
    "\n",
    "1. Ir a https://code.visualstudio.com/download\n",
    "1. Selecciona tu versión de Sistema Operativo: Windows - macOS - Linux"
   ]
  },
  {
   "cell_type": "markdown",
   "metadata": {},
   "source": [
    "\n",
    "<center><img src='./img/vscode/vscode_web.jpg' width=\"700\" height=\"400\"></center>\n",
    "\n"
   ]
  },
  {
   "cell_type": "markdown",
   "metadata": {},
   "source": [
    "3. Una vez descargado le damos a ejecutar y nos aparecera la siguiente pantalla"
   ]
  },
  {
   "cell_type": "markdown",
   "metadata": {},
   "source": [
    "<center><img src='./img/vscode/instalar_vscode_1.png' width=\"500\" height=\"300\"></center>"
   ]
  },
  {
   "cell_type": "markdown",
   "metadata": {},
   "source": [
    "4. Seleccionamos las casilas mostradas en la imagen y damos siguiente"
   ]
  },
  {
   "cell_type": "markdown",
   "metadata": {},
   "source": [
    "<center><img src='./img/vscode/instalar_vscode_2.png' width=\"500\" height=\"300\"></center>"
   ]
  },
  {
   "cell_type": "markdown",
   "metadata": {},
   "source": [
    "4. Una vez instalado inicializamos vscode y marcamos el cuadro rojo"
   ]
  },
  {
   "cell_type": "markdown",
   "metadata": {},
   "source": [
    "<center><img src='./img/vscode/vscode_1.png' width=\"700\" height=\"500\"></center>"
   ]
  },
  {
   "cell_type": "markdown",
   "metadata": {},
   "source": [
    "5. Escribimos <code>python</code> y damos a instalar. "
   ]
  },
  {
   "cell_type": "markdown",
   "metadata": {},
   "source": [
    "<center><img src='./img/vscode/vscode_2.png' width=\"700\" height=\"500\"></center>"
   ]
  },
  {
   "cell_type": "markdown",
   "metadata": {},
   "source": [
    "6. Una vez terminada la instalación podemos cerrar el programa."
   ]
  },
  {
   "cell_type": "markdown",
   "metadata": {},
   "source": [
    "### [3. Git](https://git-scm.com/)"
   ]
  },
  {
   "cell_type": "markdown",
   "metadata": {},
   "source": [
    "Git es un software de control de versiones diseñado por Linus Torvalds, pensando en la eficiencia, la confiabilidad y compatibilidad del mantenimiento de versiones de aplicaciones cuando estas tienen un gran número de archivos de código fuente"
   ]
  },
  {
   "cell_type": "markdown",
   "metadata": {},
   "source": [
    "\n",
    "\n",
    "<center><img src='./img/git/git.jpeg' width=\"500\" height=\"300\"></center>"
   ]
  },
  {
   "cell_type": "markdown",
   "metadata": {},
   "source": [
    "#### INSTALANDO GIT\n",
    "\n",
    "Para realizar la instalación debes seguir los siguientes pasos:\n",
    "\n",
    "1. Ir a https://git-scm.com/\n",
    "1. Selecciona tu versión de Sistema Operativo: Windows - macOS - Linux\n",
    "1. Descargar el sofware que corresponda a su sistema operativo"
   ]
  },
  {
   "cell_type": "markdown",
   "metadata": {},
   "source": [
    "\n",
    "<center><img src='./img/git/descarga.jpg' width=\"500\" height=\"300\"></center>"
   ]
  },
  {
   "cell_type": "markdown",
   "metadata": {},
   "source": [
    "Después de descargar el instalador gráfico, debes abrirlo y seguir las instrucciones que se presentarán en pantalla. Estas son una serie de preguntas para realizar la instalación, las opciones por defecto están bien, no hay necesidad de cambiarlas."
   ]
  },
  {
   "cell_type": "markdown",
   "metadata": {},
   "source": [
    "### Configuracion Final Python"
   ]
  },
  {
   "cell_type": "markdown",
   "metadata": {},
   "source": [
    "Al instalar Anaconda, nuestro python integrado en este no es reconocido por windows. Por lo que si aperturamos un powershell o cmd en windows tendremos el siguiente problema."
   ]
  },
  {
   "cell_type": "markdown",
   "metadata": {},
   "source": [
    "<img src=\"./img/final/python_not_recognized.jpg\">"
   ]
  },
  {
   "cell_type": "markdown",
   "metadata": {},
   "source": [
    "Para solucionar esto debemos realizar lo siguiente:\n",
    "\n",
    "1. Aperturamos Anaconda prompt (podemos localizarlo dentro de los programas de windows en menu inicio o buscarlo por su nombre)\n",
    "\n",
    "2. Una vez abierto la línea de comando escribimos:\n",
    "\n",
    "    <code >where python</code>\n",
    "\n",
    "    o de no funcionar tambien podemos usar\n",
    "\n",
    "    <code>python -c \"import sys; print('\\n'.join(sys.path))\"</code>\n",
    "\n",
    "3. Copiamos la ruta que nos aparezca (fijarse que la ruta contiene la palabra anaconda)"
   ]
  },
  {
   "cell_type": "markdown",
   "metadata": {},
   "source": [
    "\n",
    "<img src=\"./img/final/consola_anaconda.jpg\">"
   ]
  },
  {
   "cell_type": "markdown",
   "metadata": {},
   "source": [
    "4. Una vez obtenida la ruta.Desde el buscador de windows(barra de tareas) abrimos el programa \"variables de entorno\""
   ]
  },
  {
   "cell_type": "markdown",
   "metadata": {},
   "source": [
    "\n",
    "<img src=\"./img/final/variables_entorno.jpg\" height=\"500\">"
   ]
  },
  {
   "cell_type": "markdown",
   "metadata": {},
   "source": [
    "Hacemos click en **\"Variables de Entorno...\"**\n",
    "Buscamos la variable **\"Path\"** y seleccionamos **\"Editar\"** dentro de las opciones\n",
    "\n",
    "Damos click al boton **Nuevo**\n",
    "y en el espacio aperturado **copiamos la ruta del paso previo**\n",
    "\n",
    "Para finalizar damos aceptar en todas las ventanas."
   ]
  },
  {
   "cell_type": "markdown",
   "metadata": {},
   "source": [
    "\n",
    "<img src=\"./img/final/config_variables_entorno.PNG\" height=\"500\">"
   ]
  },
  {
   "cell_type": "markdown",
   "metadata": {},
   "source": [
    "Para comprobar, aperturamos un nuevo CMD en Windows\n",
    "\n",
    "Abrir **CMD Windows**: <code> tecla Windows + R </code> y escribir sobre la ventana abierta <code> cmd</code>\n",
    "\n",
    "Escribimos python y deberia aparecer lo siguiente o algo similar."
   ]
  },
  {
   "cell_type": "markdown",
   "metadata": {},
   "source": [
    "<img src=\"./img/final/cmd_python.jpg\" height=\"300\">"
   ]
  },
  {
   "cell_type": "markdown",
   "metadata": {},
   "source": [
    "https://stackoverflow.com/questions/49616399/windows-anaconda-python-is-not-recognized-as-an-internal-or-external-command"
   ]
  }
 ],
 "metadata": {
  "kernelspec": {
   "display_name": "Python 3",
   "language": "python",
   "name": "python3"
  },
  "language_info": {
   "codemirror_mode": {
    "name": "ipython",
    "version": 3
   },
   "file_extension": ".py",
   "mimetype": "text/x-python",
   "name": "python",
   "nbconvert_exporter": "python",
   "pygments_lexer": "ipython3",
   "version": "3.8.12"
  }
 },
 "nbformat": 4,
 "nbformat_minor": 4
}
