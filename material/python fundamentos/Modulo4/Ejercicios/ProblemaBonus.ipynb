{
 "cells": [
  {
   "cell_type": "markdown",
   "metadata": {},
   "source": [
    "# ADN"
   ]
  },
  {
   "cell_type": "markdown",
   "metadata": {},
   "source": [
    "Implemente un programa que identifique a una persona en función de su ADN, según se indica a continuación."
   ]
  },
  {
   "cell_type": "markdown",
   "metadata": {},
   "source": [
    "<code>$ python dna.py databases/large.csv sequences/5.txt\n",
    "Lavender</code>"
   ]
  },
  {
   "cell_type": "markdown",
   "metadata": {},
   "source": [
    "## Empezando"
   ]
  },
  {
   "cell_type": "markdown",
   "metadata": {},
   "source": [
    "- Dentro de la carpeta data/adn se encuentra la información necesaria para resolver este ejercicio la cual incluye un archivo de base de datos y archivos txt con las cadenas adn"
   ]
  },
  {
   "cell_type": "markdown",
   "metadata": {},
   "source": [
    "## Antecedentes"
   ]
  },
  {
   "cell_type": "markdown",
   "metadata": {},
   "source": [
    "El ADN, el portador de información genética en los seres vivos, se ha utilizado en la justicia penal durante décadas. Pero, ¿cómo funciona exactamente el perfil de ADN? Dada una secuencia de ADN, ¿cómo pueden los investigadores forenses identificar a quién pertenece?\n",
    "\n",
    "Bueno, el ADN es en realidad solo una secuencia de moléculas llamadas nucleótidos, dispuestas en una forma particular (una doble hélice). Cada nucleótido de ADN contiene una de cuatro bases diferentes: adenina (A), citosina (C), guanina (G) o timina (T). Cada célula humana tiene miles de millones de estos nucleótidos ordenados en secuencia. Algunas porciones de esta secuencia (es decir, el genoma) son iguales, o al menos muy similares, en casi todos los seres humanos, pero otras porciones de la secuencia tienen una mayor diversidad genética y, por tanto, varían más en la población.\n",
    "\n",
    "Un lugar donde el ADN tiende a tener una alta diversidad genética es en las repeticiones cortas en tándem (STR). Un STR es una secuencia corta de bases de ADN que tiende a repetirse consecutivamente numerosas veces en lugares específicos dentro del ADN de una persona. El número de veces que se repite un STR en particular varía mucho entre los individuos. En las siguientes muestras de ADN, por ejemplo, Alice tiene el STR <code>AGAT</code> repetido cuatro veces en su ADN, mientras que Bob tiene el mismo STR repetido cinco veces."
   ]
  },
  {
   "cell_type": "markdown",
   "metadata": {},
   "source": [
    "<img src=\"./img/adn.PNG\">"
   ]
  },
  {
   "cell_type": "markdown",
   "metadata": {},
   "source": [
    "El uso de varios STR, en lugar de solo uno, puede mejorar la precisión del perfil de ADN. Si la probabilidad de que dos personas tengan el mismo número de repeticiones para un solo STR es del 5%, y el analista observa 10 STR diferentes, entonces la probabilidad de que dos muestras de ADN coincidan puramente por casualidad es de aproximadamente 1 en 1 billón (asumiendo que todos los STR son independientes entre sí). Entonces, si dos muestras de ADN coinciden en el número de repeticiones para cada uno de los STR, el analista puede estar bastante seguro de que provienen de la misma persona. CODIS, la base de datos de ADN del FBI , utiliza 20 STR diferentes como parte de su proceso de elaboración de perfiles de ADN.\n",
    "\n",
    "¿Cómo sería una base de datos de ADN de este tipo? Bueno, en su forma más simple, podría imaginarse formateando una base de datos de ADN como un archivo CSV, donde cada fila corresponde a un individuo y cada columna corresponde a un STR particular."
   ]
  },
  {
   "cell_type": "markdown",
   "metadata": {},
   "source": [
    "<code>name,AGAT,AATG,TATC\n",
    "Alice,28,42,14\n",
    "Bob,17,22,19\n",
    "Charlie,36,18,25</code>"
   ]
  },
  {
   "cell_type": "markdown",
   "metadata": {},
   "source": [
    "Los datos del archivo anterior sugerirían que Alice tiene la secuencia <code>AGAT</code> repetida 28 veces consecutivamente en algún lugar de su ADN, la secuencia <code>AATG</code> repetida 42 veces y <code>TATC</code> repetida 14 veces. Bob, mientras tanto, tiene esos mismos tres STR repetidos 17, 22 y 19 veces, respectivamente. Y Charlie tiene esos mismos tres STR repetidos 36, 18 y 25 veces, respectivamente.\n",
    "\n",
    "Entonces, dada una secuencia de ADN, ¿cómo podría identificar a quién pertenece? Bueno, imagina que buscas en la secuencia de ADN la secuencia consecutiva más larga de <code>AGAT</code>s repetidos y descubres que la secuencia más larga tiene 17 repeticiones. Si luego encontrara que la secuencia más larga de <code>AATG</code> tiene 22 repeticiones y la secuencia más larga de <code>TATC</code> 19 repeticiones, eso proporcionaría una evidencia bastante buena de que el ADN era de Bob. Por supuesto, también es posible que una vez que tome los recuentos de cada uno de los STR, no coincida con nadie en su base de datos de ADN, en cuyo caso no tendrá ninguna coincidencia.\n",
    "\n",
    "En la práctica, dado que los analistas saben en qué cromosoma y en qué lugar del ADN se encontrará un STR, pueden localizar su búsqueda en una sección limitada del ADN. Pero ignoraremos ese detalle para este problema.\n",
    "\n",
    "Su tarea es escribir un programa que tomará una secuencia de ADN y un archivo CSV que contiene recuentos de STR para una lista de individuos y luego generará a quién pertenece el ADN (lo más probable)."
   ]
  },
  {
   "cell_type": "markdown",
   "metadata": {},
   "source": [
    "## Especificaciones"
   ]
  },
  {
   "cell_type": "markdown",
   "metadata": {},
   "source": [
    "En un archivo llamado <code>dna.py</code>, implementar un programa que identifica a la que pertenece una secuencia de ADN.\n",
    "\n",
    "- El programa debe requerir como primer argumento de línea de comando el nombre de un archivo CSV que contiene los recuentos de STR para una lista de individuos y debe requerir como segundo argumento de línea de comando el nombre de un archivo de texto que contiene la secuencia de ADN para identificar.\n",
    "    \n",
    "    - Si su programa se ejecuta con el número incorrecto de argumentos en la línea de comandos, su programa debería imprimir un mensaje de error de su elección (con <code>print</code>). Si se proporciona el número correcto de argumentos, puede suponer que el primer argumento es de hecho el nombre de archivo de un archivo CSV válido y que el segundo argumento es el nombre de archivo de un archivo de texto válido.\n",
    "    \n",
    "- Su programa debería abrir el archivo CSV y leer su contenido en la memoria.\n",
    "    - Puede suponer que la primera fila del archivo CSV serán los nombres de las columnas. La primera columna será la palabra <code>name</code> y las columnas restantes serán las propias secuencias STR.\n",
    "\n",
    "- Su programa debería abrir la secuencia de ADN y leer su contenido en la memoria.\n",
    "- Para cada uno de los STR (de la primera línea del archivo CSV), su programa debe calcular la ejecución más larga de repeticiones consecutivas del STR en la secuencia de ADN para identificar.\n",
    "- Si los conteos de STR coinciden exactamente con cualquiera de las personas en el archivo CSV, su programa debe imprimir el nombre de la persona que coincide.\n",
    "    - Puede suponer que los recuentos de STR no coincidirán con más de un individuo.\n",
    "    - Si los recuentos de STR no coinciden exactamente con ninguno de los individuos en el archivo CSV, su programa debería imprimir <code>\"No match\"</code>."
   ]
  },
  {
   "cell_type": "markdown",
   "metadata": {},
   "source": [
    "## Uso"
   ]
  },
  {
   "cell_type": "markdown",
   "metadata": {},
   "source": [
    "Su programa debería comportarse según los siguientes ejemplos."
   ]
  },
  {
   "cell_type": "markdown",
   "metadata": {},
   "source": [
    "<code>$ python dna.py databases/large.csv sequences/5.txt\n",
    "Lavender</code>\n",
    "\n",
    "\n",
    "<code>$ python dna.py\n",
    "Usage: python dna.py data.csv sequence.txt </code>\n",
    "\n",
    "<code>$ python dna.py data.csv\n",
    "Usage: python dna.py data.csv sequence.txt</code>"
   ]
  },
  {
   "cell_type": "markdown",
   "metadata": {},
   "source": [
    "## Sugerencia"
   ]
  },
  {
   "cell_type": "markdown",
   "metadata": {},
   "source": [
    "- Puede encontrar <a href='https://docs.python.org/3/library/csv.html'><code>csv</code></a> útil el módulo de Python para leer archivos CSV en la memoria. Es posible que desee aprovechar <a href='https://docs.python.org/3/library/csv.html#csv.reader'><code>csv.reader</code></a> o <a href='https://docs.python.org/3/library/csv.html#csv.DictReader'><code>csv.DictReader</code></a>.\n",
    "\n",
    "- Las funciones <a href='https://docs.python.org/3.3/tutorial/inputoutput.html#reading-and-writing-files'><code>open</code></a> y <a href='https://docs.python.org/3.3/tutorial/inputoutput.html#methods-of-file-objects'><code>read</code></a> pueden resultar útiles para leer archivos de texto en la memoria.\n",
    "- Considere qué estructuras de datos podrían ser útiles para realizar un seguimiento de la información en su programa. A <code>list</code> o a <code>dict</code> pueden resultar útiles."
   ]
  },
  {
   "cell_type": "markdown",
   "metadata": {},
   "source": [
    "## Pruebas"
   ]
  },
  {
   "cell_type": "markdown",
   "metadata": {},
   "source": [
    "Asegúrese de probar su código para cada uno de los siguientes.\n",
    "\n",
    "- Ejecute su programa como <code>python dna.py databases/small.csv sequences/1.txt.</code> Su programa debería generar <code>Bob</code>.\n",
    "- Ejecute su programa como <code>python dna.py databases/small.csv sequences/2.txt.</code> Su programa debería generar <code>No</code> match.\n",
    "- Ejecute su programa como <code>python dna.py databases/small.csv sequences/3.txt.</code> Su programa debería generar <code>No</code> match.\n",
    "- Ejecute su programa como <code>python dna.py databases/small.csv sequences/4.txt.</code> Su programa debería generar <code>Alice</code>.\n",
    "- Ejecute su programa como <code>python dna.py databases/large.csv sequences/5.txt.</code> Su programa debería generar <code>Lavender</code>.\n",
    "- Ejecute su programa como <code>python dna.py databases/large.csv sequences/6.txt.</code> Su programa debería generar <code>Luna</code>.\n",
    "- Ejecute su programa como <code>python dna.py databases/large.csv sequences/7.txt.</code> Su programa debería generar <code>Ron</code>.\n",
    "- Ejecute su programa como <code>python dna.py databases/large.csv sequences/8.txt.</code> Su programa debería generar <code>Ginny</code>.\n",
    "- Ejecute su programa como <code>python dna.py databases/large.csv sequences/9.txt.</code> Su programa debería generar <code>Draco</code>.\n",
    "- Ejecute su programa como <code>python dna.py databases/large.csv sequences/10.txt.</code> Su programa debería generar <code>Albus</code>.\n",
    "- Ejecute su programa como <code>python dna.py databases/large.csv sequences/11.txt.</code> Su programa debería generar <code>Hermione</code>.\n",
    "- Ejecute su programa como <code>python dna.py databases/large.csv sequences/12.txt.</code> Su programa debería generar <code>Lily</code>.\n",
    "- Ejecute su programa como <code>python dna.py databases/large.csv sequences/13.txt.</code> Su programa debería generar <code>No</code> match.\n",
    "- Ejecute su programa como <code>python dna.py databases/large.csv sequences/14.txt.</code> Su programa debería generar <code>Severus</code>.\n",
    "- Ejecute su programa como <code>python dna.py databases/large.csv sequences/15.txt.</code> Su programa debería generar <code>Sirius</code>.\n",
    "- Ejecute su programa como <code>python dna.py databases/large.csv sequences/16.txt.</code> Su programa debería generar <code>No</code> match.\n",
    "- Ejecute su programa como <code>python dna.py databases/large.csv sequences/17.txt.</code> Su programa debería generar <code>Harry</code>.\n",
    "- Ejecute su programa como <code>python dna.py databases/large.csv sequences/18.txt.</code> Su programa debería generar <code>No</code> match.\n",
    "- Ejecute su programa como <code>python dna.py databases/large.csv sequences/19.txt.</code> Su programa debería generar <code>Fred</code>.\n",
    "- Ejecute su programa como <code>python dna.py databases/large.csv sequences/20.txt.</code> Su programa debería generar <code>No</code> match."
   ]
  },
  {
   "cell_type": "code",
   "execution_count": null,
   "metadata": {},
   "outputs": [],
   "source": []
  },
  {
   "cell_type": "code",
   "execution_count": null,
   "metadata": {},
   "outputs": [],
   "source": []
  }
 ],
 "metadata": {
  "kernelspec": {
   "display_name": "Python 3 (ipykernel)",
   "language": "python",
   "name": "python3"
  },
  "language_info": {
   "codemirror_mode": {
    "name": "ipython",
    "version": 3
   },
   "file_extension": ".py",
   "mimetype": "text/x-python",
   "name": "python",
   "nbconvert_exporter": "python",
   "pygments_lexer": "ipython3",
   "version": "3.8.12"
  }
 },
 "nbformat": 4,
 "nbformat_minor": 4
}
