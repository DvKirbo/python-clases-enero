{
 "cells": [
  {
   "cell_type": "markdown",
   "metadata": {},
   "source": [
    "# Manejo de Ficheros"
   ]
  },
  {
   "cell_type": "markdown",
   "metadata": {},
   "source": [
    "Python nos permite trabajar en dos niveles diferentes con respecto al sistema de archivos y directorios. Uno de ellos, es a través del módulo os, que como su nombre lo indica, nos facilita el trabajo con todo el sistema de archivos y directorios, a nivel del propios Sistema Operativo. El segundo nivel -más simple-, es el que nos permite trabajar con archivos, manipulando su lectura y escritura a nivel de la aplicación y tratando a cada archivo como un objeto.\n"
   ]
  },
  {
   "cell_type": "markdown",
   "metadata": {},
   "source": [
    "## Objeto File\n",
    "------------------------------"
   ]
  },
  {
   "cell_type": "markdown",
   "metadata": {},
   "source": [
    "Al igual que sucede con otras variables, manipular una de ellas como un objeto File, es posible, cuando a ésta, se le asigna como valor un archivo. \n",
    "Para asignar a una variable un valor de tipo file, solo es necesario recurrir a la función integrada open(), la cuál está destinada a la apertura de un archivo.\n",
    "\n",
    "- La función integrada open(), recibe dos parámetros: – El primero de ellos, es la ruta hacia el archivo que se desea abrir \n",
    "\n",
    "- Y el segundo, el modo en el cual abrirlo"
   ]
  },
  {
   "cell_type": "code",
   "execution_count": 1,
   "metadata": {},
   "outputs": [],
   "source": [
    "import os"
   ]
  },
  {
   "cell_type": "code",
   "execution_count": 2,
   "metadata": {},
   "outputs": [
    {
     "data": {
      "text/plain": [
       "'C:\\\\Users\\\\gon_2\\\\OneDrive - UNIVERSIDAD NACIONAL DE INGENIERIA\\\\Desktop\\\\PythonFundamentos\\\\Modulo4'"
      ]
     },
     "execution_count": 2,
     "metadata": {},
     "output_type": "execute_result"
    }
   ],
   "source": [
    "os.getcwd()"
   ]
  },
  {
   "cell_type": "code",
   "execution_count": 5,
   "metadata": {},
   "outputs": [
    {
     "name": "stdout",
     "output_type": "stream",
     "text": [
      "['Lorem ipsum dolor sit amet, consectetur adipiscing elit. Phasellus nec elit id est volutpat pretium eu vitae mi. Phasellus a massa ut ligula auctor sollicitudin quis eu felis. Curabitur pellentesque ullamcorper tempor. Nulla ut scelerisque nisl, vel hendrerit libero. Nunc iaculis, enim non gravida suscipit, sem justo ullamcorper risus, eget pulvinar lectus enim a felis. Phasellus efficitur felis vel tincidunt semper. Etiam ipsum nunc, mattis nec molestie et, feugiat et erat.\\n', '\\n', 'Aliquam lorem ex, rhoncus feugiat risus eu, efficitur tincidunt sapien. Integer posuere augue convallis hendrerit pharetra. Ut placerat eget ante vitae pulvinar. Nunc euismod dictum ex, ac lacinia metus egestas vitae. Phasellus fermentum hendrerit sapien nec tincidunt. Orci varius natoque penatibus et magnis dis parturient montes, nascetur ridiculus mus. Pellentesque tempor facilisis mi, vulputate vehicula eros lobortis in. In pulvinar ac sem ac tempus. Integer sed dignissim neque. Praesent libero odio, porta quis dui quis, rutrum dignissim felis.\\n', '\\n', 'Morbi nec nulla at lorem accumsan maximus. In tristique consequat eleifend. Donec eros tortor, pellentesque vitae eleifend sed, porttitor vitae orci. Mauris luctus tincidunt nisl, et blandit felis venenatis a. Suspendisse aliquet venenatis odio, nec consectetur enim placerat ut. In id magna sagittis, egestas sem non, volutpat magna. Praesent commodo vitae lectus a mattis. Sed consequat, nulla eget mollis efficitur, nisi nibh blandit ipsum, in accumsan elit ligula et nulla. Aenean blandit risus ut dolor facilisis, ut posuere nulla pellentesque. Donec commodo arcu vitae turpis pellentesque volutpat. Praesent pretium id felis eget bibendum. Duis lectus mauris, tristique vel facilisis ut, sollicitudin ac massa.\\n', '\\n', 'Sed lacinia, turpis eu ultrices pulvinar, erat ante gravida lectus, nec consectetur libero velit et tellus. Nam at ante vel nisi molestie varius. Maecenas ante purus, luctus a euismod quis, volutpat in sapien. Aenean sagittis lorem lacus. Cras ipsum justo, pharetra nec imperdiet at, laoreet sed ligula. Duis sem sapien, condimentum sit amet nibh quis, vulputate ultricies lectus. Vestibulum a porttitor lacus. Duis varius, nisl non porttitor faucibus, mauris nibh tempus ex, suscipit egestas lectus metus facilisis nunc. Nulla facilisis odio vel turpis cursus venenatis. Integer in pellentesque velit.\\n', '\\n', 'Maecenas ligula risus, varius sit amet maximus et, scelerisque a libero. Integer bibendum faucibus risus, eget eleifend est feugiat vitae. Donec et sapien fermentum, blandit massa in, facilisis felis. Curabitur quis commodo lacus, eu vulputate leo. Aenean velit odio, pretium eu mattis ut, eleifend a lacus. Donec dui mi, commodo eget leo vel, faucibus vestibulum orci. Donec varius diam eu velit tempus, nec placerat ex vulputate. Maecenas in massa varius, convallis urna sit amet, blandit velit. Praesent tristique sapien congue libero gravida molestie. Orci varius natoque penatibus et magnis dis parturient montes, nascetur ridiculus mus. Nunc nec semper ligula, quis aliquet arcu. Quisque lobortis, dui vel vulputate tincidunt, purus urna accumsan enim, vitae rhoncus mi felis ac nisl.']\n"
     ]
    }
   ],
   "source": [
    "# Forma 1 de apertura a partir del método with \n",
    "\n",
    "ruta = os.getcwd()\n",
    "\n",
    "file_path = os.path.join(ruta,'src','texto.txt')\n",
    "\n",
    "with open(file_path,mode='r') as f:\n",
    "    data = f.readlines()\n",
    "    \n",
    "    print(data)\n",
    "    pass\n",
    "# Archivo se cierra de forma automática"
   ]
  },
  {
   "cell_type": "code",
   "execution_count": 6,
   "metadata": {},
   "outputs": [
    {
     "name": "stdout",
     "output_type": "stream",
     "text": [
      "['Lorem ipsum dolor sit amet, consectetur adipiscing elit. Phasellus nec elit id est volutpat pretium eu vitae mi. Phasellus a massa ut ligula auctor sollicitudin quis eu felis. Curabitur pellentesque ullamcorper tempor. Nulla ut scelerisque nisl, vel hendrerit libero. Nunc iaculis, enim non gravida suscipit, sem justo ullamcorper risus, eget pulvinar lectus enim a felis. Phasellus efficitur felis vel tincidunt semper. Etiam ipsum nunc, mattis nec molestie et, feugiat et erat.\\n', '\\n', 'Aliquam lorem ex, rhoncus feugiat risus eu, efficitur tincidunt sapien. Integer posuere augue convallis hendrerit pharetra. Ut placerat eget ante vitae pulvinar. Nunc euismod dictum ex, ac lacinia metus egestas vitae. Phasellus fermentum hendrerit sapien nec tincidunt. Orci varius natoque penatibus et magnis dis parturient montes, nascetur ridiculus mus. Pellentesque tempor facilisis mi, vulputate vehicula eros lobortis in. In pulvinar ac sem ac tempus. Integer sed dignissim neque. Praesent libero odio, porta quis dui quis, rutrum dignissim felis.\\n', '\\n', 'Morbi nec nulla at lorem accumsan maximus. In tristique consequat eleifend. Donec eros tortor, pellentesque vitae eleifend sed, porttitor vitae orci. Mauris luctus tincidunt nisl, et blandit felis venenatis a. Suspendisse aliquet venenatis odio, nec consectetur enim placerat ut. In id magna sagittis, egestas sem non, volutpat magna. Praesent commodo vitae lectus a mattis. Sed consequat, nulla eget mollis efficitur, nisi nibh blandit ipsum, in accumsan elit ligula et nulla. Aenean blandit risus ut dolor facilisis, ut posuere nulla pellentesque. Donec commodo arcu vitae turpis pellentesque volutpat. Praesent pretium id felis eget bibendum. Duis lectus mauris, tristique vel facilisis ut, sollicitudin ac massa.\\n', '\\n', 'Sed lacinia, turpis eu ultrices pulvinar, erat ante gravida lectus, nec consectetur libero velit et tellus. Nam at ante vel nisi molestie varius. Maecenas ante purus, luctus a euismod quis, volutpat in sapien. Aenean sagittis lorem lacus. Cras ipsum justo, pharetra nec imperdiet at, laoreet sed ligula. Duis sem sapien, condimentum sit amet nibh quis, vulputate ultricies lectus. Vestibulum a porttitor lacus. Duis varius, nisl non porttitor faucibus, mauris nibh tempus ex, suscipit egestas lectus metus facilisis nunc. Nulla facilisis odio vel turpis cursus venenatis. Integer in pellentesque velit.\\n', '\\n', 'Maecenas ligula risus, varius sit amet maximus et, scelerisque a libero. Integer bibendum faucibus risus, eget eleifend est feugiat vitae. Donec et sapien fermentum, blandit massa in, facilisis felis. Curabitur quis commodo lacus, eu vulputate leo. Aenean velit odio, pretium eu mattis ut, eleifend a lacus. Donec dui mi, commodo eget leo vel, faucibus vestibulum orci. Donec varius diam eu velit tempus, nec placerat ex vulputate. Maecenas in massa varius, convallis urna sit amet, blandit velit. Praesent tristique sapien congue libero gravida molestie. Orci varius natoque penatibus et magnis dis parturient montes, nascetur ridiculus mus. Nunc nec semper ligula, quis aliquet arcu. Quisque lobortis, dui vel vulputate tincidunt, purus urna accumsan enim, vitae rhoncus mi felis ac nisl.']\n"
     ]
    }
   ],
   "source": [
    "# Forma 2 de apertura\n",
    "f = open('./src/texto.txt') # por defecto el modo de abrir el archivo es \"lectura\"\n",
    "data = f.readlines() # readlines -> permite leer todas las líneas del archivo, en forma de lista\n",
    "print(data)\n",
    "f.close()"
   ]
  },
  {
   "cell_type": "code",
   "execution_count": null,
   "metadata": {},
   "outputs": [],
   "source": [
    "# Valido si archivo se encuentra efectivamente cerrado\n",
    "f.closed"
   ]
  },
  {
   "cell_type": "markdown",
   "metadata": {},
   "source": [
    "### Modos de Apertura"
   ]
  },
  {
   "cell_type": "markdown",
   "metadata": {},
   "source": [
    "Por defecto un archivo se apertura en modo **lectura (r)** pero en la práctica existen muchos más modos los cuales nos permitiran escribir (w) o modificar un archivo ya existente"
   ]
  },
  {
   "cell_type": "markdown",
   "metadata": {},
   "source": [
    "<img src='./img/modo_apertura.PNG'>"
   ]
  },
  {
   "cell_type": "markdown",
   "metadata": {},
   "source": [
    "<img src='./img/modo_apertura2.PNG'>"
   ]
  },
  {
   "cell_type": "markdown",
   "metadata": {},
   "source": [
    "### Métodos de Archivos"
   ]
  },
  {
   "cell_type": "markdown",
   "metadata": {},
   "source": [
    "El objeto file, entre sus métodos más frecuentes, dispone de los siguientes"
   ]
  },
  {
   "cell_type": "markdown",
   "metadata": {},
   "source": [
    "<img src='./img/metodos_files.PNG'>"
   ]
  },
  {
   "cell_type": "markdown",
   "metadata": {
    "tags": []
   },
   "source": [
    "## Lectura"
   ]
  },
  {
   "cell_type": "code",
   "execution_count": 7,
   "metadata": {},
   "outputs": [
    {
     "name": "stdout",
     "output_type": "stream",
     "text": [
      "Lorem ipsum dolor sit amet, consectetur adipiscing elit. Phasellus nec elit id est volutpat pretium eu vitae mi. Phasellus a massa ut ligula auctor sollicitudin quis eu felis. Curabitur pellentesque ullamcorper tempor. Nulla ut scelerisque nisl, vel hendrerit libero. Nunc iaculis, enim non gravida suscipit, sem justo ullamcorper risus, eget pulvinar lectus enim a felis. Phasellus efficitur felis vel tincidunt semper. Etiam ipsum nunc, mattis nec molestie et, feugiat et erat.\n",
      "\n",
      "Aliquam lorem ex, rhoncus feugiat risus eu, efficitur tincidunt sapien. Integer posuere augue convallis hendrerit pharetra. Ut placerat eget ante vitae pulvinar. Nunc euismod dictum ex, ac lacinia metus egestas vitae. Phasellus fermentum hendrerit sapien nec tincidunt. Orci varius natoque penatibus et magnis dis parturient montes, nascetur ridiculus mus. Pellentesque tempor facilisis mi, vulputate vehicula eros lobortis in. In pulvinar ac sem ac tempus. Integer sed dignissim neque. Praesent libero odio, porta quis dui quis, rutrum dignissim felis.\n",
      "\n",
      "Morbi nec nulla at lorem accumsan maximus. In tristique consequat eleifend. Donec eros tortor, pellentesque vitae eleifend sed, porttitor vitae orci. Mauris luctus tincidunt nisl, et blandit felis venenatis a. Suspendisse aliquet venenatis odio, nec consectetur enim placerat ut. In id magna sagittis, egestas sem non, volutpat magna. Praesent commodo vitae lectus a mattis. Sed consequat, nulla eget mollis efficitur, nisi nibh blandit ipsum, in accumsan elit ligula et nulla. Aenean blandit risus ut dolor facilisis, ut posuere nulla pellentesque. Donec commodo arcu vitae turpis pellentesque volutpat. Praesent pretium id felis eget bibendum. Duis lectus mauris, tristique vel facilisis ut, sollicitudin ac massa.\n",
      "\n",
      "Sed lacinia, turpis eu ultrices pulvinar, erat ante gravida lectus, nec consectetur libero velit et tellus. Nam at ante vel nisi molestie varius. Maecenas ante purus, luctus a euismod quis, volutpat in sapien. Aenean sagittis lorem lacus. Cras ipsum justo, pharetra nec imperdiet at, laoreet sed ligula. Duis sem sapien, condimentum sit amet nibh quis, vulputate ultricies lectus. Vestibulum a porttitor lacus. Duis varius, nisl non porttitor faucibus, mauris nibh tempus ex, suscipit egestas lectus metus facilisis nunc. Nulla facilisis odio vel turpis cursus venenatis. Integer in pellentesque velit.\n",
      "\n",
      "Maecenas ligula risus, varius sit amet maximus et, scelerisque a libero. Integer bibendum faucibus risus, eget eleifend est feugiat vitae. Donec et sapien fermentum, blandit massa in, facilisis felis. Curabitur quis commodo lacus, eu vulputate leo. Aenean velit odio, pretium eu mattis ut, eleifend a lacus. Donec dui mi, commodo eget leo vel, faucibus vestibulum orci. Donec varius diam eu velit tempus, nec placerat ex vulputate. Maecenas in massa varius, convallis urna sit amet, blandit velit. Praesent tristique sapien congue libero gravida molestie. Orci varius natoque penatibus et magnis dis parturient montes, nascetur ridiculus mus. Nunc nec semper ligula, quis aliquet arcu. Quisque lobortis, dui vel vulputate tincidunt, purus urna accumsan enim, vitae rhoncus mi felis ac nisl.\n"
     ]
    }
   ],
   "source": [
    "# Ruta donde leeremos el fichero, r indica lectura (por defecto ya es r)\n",
    "fichero = open('./src/texto.txt','r')  \n",
    "\n",
    "# Lectura completa\n",
    "texto = fichero.read() #  read -> Metodo que permite la lectura de todo el archivo\n",
    "\n",
    "# Cerramos el fichero\n",
    "fichero.close()  \n",
    "\n",
    "print(texto)"
   ]
  },
  {
   "cell_type": "code",
   "execution_count": 8,
   "metadata": {},
   "outputs": [
    {
     "data": {
      "text/plain": [
       "'Lorem ipsum dolor sit amet, consectetur adipiscing elit. Phasellus nec elit id est volutpat pretium eu vitae mi. Phasellus a massa ut ligula auctor sollicitudin quis eu felis. Curabitur pellentesque ullamcorper tempor. Nulla ut scelerisque nisl, vel hendrerit libero. Nunc iaculis, enim non gravida suscipit, sem justo ullamcorper risus, eget abcd lectus enim a felis. Phasellus efficitur felis vel tincidunt semper. Etiam ipsum nunc, mattis nec molestie et, feugiat et erat.\\n\\nAliquam lorem ex, rhoncus feugiat risus eu, efficitur tincidunt sapien. Integer posuere augue convallis hendrerit pharetra. Ut placerat eget ante vitae abcd. Nunc euismod dictum ex, ac lacinia metus egestas vitae. Phasellus fermentum hendrerit sapien nec tincidunt. Orci varius natoque penatibus et magnis dis parturient montes, nascetur ridiculus mus. Pellentesque tempor facilisis mi, vulputate vehicula eros lobortis in. In abcd ac sem ac tempus. Integer sed dignissim neque. Praesent libero odio, porta quis dui quis, rutrum dignissim felis.\\n\\nMorbi nec nulla at lorem accumsan maximus. In tristique consequat eleifend. Donec eros tortor, pellentesque vitae eleifend sed, porttitor vitae orci. Mauris luctus tincidunt nisl, et blandit felis venenatis a. Suspendisse aliquet venenatis odio, nec consectetur enim placerat ut. In id magna sagittis, egestas sem non, volutpat magna. Praesent commodo vitae lectus a mattis. Sed consequat, nulla eget mollis efficitur, nisi nibh blandit ipsum, in accumsan elit ligula et nulla. Aenean blandit risus ut dolor facilisis, ut posuere nulla pellentesque. Donec commodo arcu vitae turpis pellentesque volutpat. Praesent pretium id felis eget bibendum. Duis lectus mauris, tristique vel facilisis ut, sollicitudin ac massa.\\n\\nSed lacinia, turpis eu ultrices abcd, erat ante gravida lectus, nec consectetur libero velit et tellus. Nam at ante vel nisi molestie varius. Maecenas ante purus, luctus a euismod quis, volutpat in sapien. Aenean sagittis lorem lacus. Cras ipsum justo, pharetra nec imperdiet at, laoreet sed ligula. Duis sem sapien, condimentum sit amet nibh quis, vulputate ultricies lectus. Vestibulum a porttitor lacus. Duis varius, nisl non porttitor faucibus, mauris nibh tempus ex, suscipit egestas lectus metus facilisis nunc. Nulla facilisis odio vel turpis cursus venenatis. Integer in pellentesque velit.\\n\\nMaecenas ligula risus, varius sit amet maximus et, scelerisque a libero. Integer bibendum faucibus risus, eget eleifend est feugiat vitae. Donec et sapien fermentum, blandit massa in, facilisis felis. Curabitur quis commodo lacus, eu vulputate leo. Aenean velit odio, pretium eu mattis ut, eleifend a lacus. Donec dui mi, commodo eget leo vel, faucibus vestibulum orci. Donec varius diam eu velit tempus, nec placerat ex vulputate. Maecenas in massa varius, convallis urna sit amet, blandit velit. Praesent tristique sapien congue libero gravida molestie. Orci varius natoque penatibus et magnis dis parturient montes, nascetur ridiculus mus. Nunc nec semper ligula, quis aliquet arcu. Quisque lobortis, dui vel vulputate tincidunt, purus urna accumsan enim, vitae rhoncus mi felis ac nisl.'"
      ]
     },
     "execution_count": 8,
     "metadata": {},
     "output_type": "execute_result"
    }
   ],
   "source": [
    "texto.replace('pulvinar', 'abcd')"
   ]
  },
  {
   "cell_type": "markdown",
   "metadata": {},
   "source": [
    "También se puede leer un fichero utilizando la instrucción estándar with de la siguiente forma:"
   ]
  },
  {
   "cell_type": "code",
   "execution_count": 10,
   "metadata": {},
   "outputs": [
    {
     "name": "stdout",
     "output_type": "stream",
     "text": [
      "Lorem ipsum dolor sit amet, consectetur adipiscing elit. Phasellus nec elit id est volutpat pretium eu vitae mi. Phasellus a massa ut ligula auctor sollicitudin quis eu felis. Curabitur pellentesque ullamcorper tempor. Nulla ut scelerisque nisl, vel hendrerit libero. Nunc iaculis, enim non gravida suscipit, sem justo ullamcorper risus, eget pulvinar lectus enim a felis. Phasellus efficitur felis vel tincidunt semper. Etiam ipsum nunc, mattis nec molestie et, feugiat et erat.\n",
      "\n",
      "\n",
      "\n",
      "Aliquam lorem ex, rhoncus feugiat risus eu, efficitur tincidunt sapien. Integer posuere augue convallis hendrerit pharetra. Ut placerat eget ante vitae pulvinar. Nunc euismod dictum ex, ac lacinia metus egestas vitae. Phasellus fermentum hendrerit sapien nec tincidunt. Orci varius natoque penatibus et magnis dis parturient montes, nascetur ridiculus mus. Pellentesque tempor facilisis mi, vulputate vehicula eros lobortis in. In pulvinar ac sem ac tempus. Integer sed dignissim neque. Praesent libero odio, porta quis dui quis, rutrum dignissim felis.\n",
      "\n",
      "\n",
      "\n",
      "Morbi nec nulla at lorem accumsan maximus. In tristique consequat eleifend. Donec eros tortor, pellentesque vitae eleifend sed, porttitor vitae orci. Mauris luctus tincidunt nisl, et blandit felis venenatis a. Suspendisse aliquet venenatis odio, nec consectetur enim placerat ut. In id magna sagittis, egestas sem non, volutpat magna. Praesent commodo vitae lectus a mattis. Sed consequat, nulla eget mollis efficitur, nisi nibh blandit ipsum, in accumsan elit ligula et nulla. Aenean blandit risus ut dolor facilisis, ut posuere nulla pellentesque. Donec commodo arcu vitae turpis pellentesque volutpat. Praesent pretium id felis eget bibendum. Duis lectus mauris, tristique vel facilisis ut, sollicitudin ac massa.\n",
      "\n",
      "\n",
      "\n",
      "Sed lacinia, turpis eu ultrices pulvinar, erat ante gravida lectus, nec consectetur libero velit et tellus. Nam at ante vel nisi molestie varius. Maecenas ante purus, luctus a euismod quis, volutpat in sapien. Aenean sagittis lorem lacus. Cras ipsum justo, pharetra nec imperdiet at, laoreet sed ligula. Duis sem sapien, condimentum sit amet nibh quis, vulputate ultricies lectus. Vestibulum a porttitor lacus. Duis varius, nisl non porttitor faucibus, mauris nibh tempus ex, suscipit egestas lectus metus facilisis nunc. Nulla facilisis odio vel turpis cursus venenatis. Integer in pellentesque velit.\n",
      "\n",
      "\n",
      "\n",
      "Maecenas ligula risus, varius sit amet maximus et, scelerisque a libero. Integer bibendum faucibus risus, eget eleifend est feugiat vitae. Donec et sapien fermentum, blandit massa in, facilisis felis. Curabitur quis commodo lacus, eu vulputate leo. Aenean velit odio, pretium eu mattis ut, eleifend a lacus. Donec dui mi, commodo eget leo vel, faucibus vestibulum orci. Donec varius diam eu velit tempus, nec placerat ex vulputate. Maecenas in massa varius, convallis urna sit amet, blandit velit. Praesent tristique sapien congue libero gravida molestie. Orci varius natoque penatibus et magnis dis parturient montes, nascetur ridiculus mus. Nunc nec semper ligula, quis aliquet arcu. Quisque lobortis, dui vel vulputate tincidunt, purus urna accumsan enim, vitae rhoncus mi felis ac nisl.\n"
     ]
    }
   ],
   "source": [
    "with open('./src/texto.txt', \"r\") as fichero:\n",
    "    # \n",
    "    for linea in fichero:\n",
    "        print(linea)"
   ]
  },
  {
   "cell_type": "markdown",
   "metadata": {},
   "source": [
    "## Escritura"
   ]
  },
  {
   "cell_type": "code",
   "execution_count": 13,
   "metadata": {},
   "outputs": [
    {
     "name": "stdout",
     "output_type": "stream",
     "text": [
      "Una línea \tcon texto\n",
      "Otra línea con texto\n"
     ]
    }
   ],
   "source": [
    "# \\t -> tab\n",
    "# \\n -> salto de linea\n",
    "texto = \"Una línea \\tcon texto\\nOtra línea con texto\"\n",
    "\n",
    "print(texto)"
   ]
  },
  {
   "cell_type": "code",
   "execution_count": 14,
   "metadata": {},
   "outputs": [],
   "source": [
    "texto = \"Una línea con texto\\nOtra línea con texto\"\n",
    "\n",
    "# Ruta donde crearemos el fichero, w indica escritura (puntero al principio)\n",
    "# De existir el archivo, este será eliminado y creado uno nuevo \n",
    "with open('./src/fichero.txt','w') as f:\n",
    "    # Escribimos el texto\n",
    "    f.write(texto)"
   ]
  },
  {
   "cell_type": "code",
   "execution_count": 15,
   "metadata": {},
   "outputs": [],
   "source": [
    "with open('./src/fichero.txt','r') as f:\n",
    "    # Escribimos el texto\n",
    "    data = f.readlines()"
   ]
  },
  {
   "cell_type": "code",
   "execution_count": 16,
   "metadata": {},
   "outputs": [
    {
     "data": {
      "text/plain": [
       "['Una línea con texto\\n', 'Otra línea con texto']"
      ]
     },
     "execution_count": 16,
     "metadata": {},
     "output_type": "execute_result"
    }
   ],
   "source": [
    "data"
   ]
  },
  {
   "cell_type": "code",
   "execution_count": 20,
   "metadata": {},
   "outputs": [],
   "source": [
    "data.append('\\ncontenido a añadir')"
   ]
  },
  {
   "cell_type": "code",
   "execution_count": 21,
   "metadata": {},
   "outputs": [
    {
     "data": {
      "text/plain": [
       "['Una línea con texto\\n',\n",
       " 'Otra línea con texto',\n",
       " 'contenido a añadir',\n",
       " '\\ncontenido a añadir']"
      ]
     },
     "execution_count": 21,
     "metadata": {},
     "output_type": "execute_result"
    }
   ],
   "source": [
    "data"
   ]
  },
  {
   "cell_type": "code",
   "execution_count": 22,
   "metadata": {},
   "outputs": [],
   "source": [
    "with open('./src/fichero.txt','w') as f:\n",
    "    # Escribimos el texto\n",
    "    f.writelines(data)"
   ]
  },
  {
   "cell_type": "markdown",
   "metadata": {},
   "source": [
    "Este modo nos permite añadir datos al final de un fichero:"
   ]
  },
  {
   "cell_type": "code",
   "execution_count": 23,
   "metadata": {},
   "outputs": [],
   "source": [
    "# Ruta donde leeremos el fichero, a indica extensión (puntero al final)\n",
    "with open('./src/fichero.txt','a') as f:\n",
    "    f.write('\\nmás lineas')"
   ]
  },
  {
   "cell_type": "markdown",
   "metadata": {},
   "source": [
    "La variante 'a+' permite crear el fichero si no existe:"
   ]
  },
  {
   "cell_type": "code",
   "execution_count": 24,
   "metadata": {},
   "outputs": [],
   "source": [
    "# Ruta archivo del tipo a\n",
    "with open('./src/fichero_inventado.txt','a') as f:\n",
    "    f.write('\\nhola mundo')\n",
    "    pass"
   ]
  },
  {
   "cell_type": "markdown",
   "metadata": {
    "tags": []
   },
   "source": [
    "## Lectura con escritura"
   ]
  },
  {
   "cell_type": "markdown",
   "metadata": {},
   "source": [
    "Se puede abrir un fichero en modo lectura con escritura, pero éste debe existir préviamente. Además por defecto el puntero estará al principio y si escribimos algo sobreescribiremos el contenido actual, así que prestad atención a los saltos de línea y caracteres especiales:\n"
   ]
  },
  {
   "cell_type": "code",
   "execution_count": 25,
   "metadata": {},
   "outputs": [],
   "source": [
    "# Creamos un fichero de prueba con 4 líneas\n",
    "fichero = open('./src/fichero2.txt','w')\n",
    "texto = \"Línea 1\\nLínea 2\\nLínea 3\\nLínea 4\"\n",
    "fichero.write(texto)\n",
    "fichero.close()"
   ]
  },
  {
   "cell_type": "code",
   "execution_count": 28,
   "metadata": {},
   "outputs": [
    {
     "data": {
      "text/plain": [
       "5"
      ]
     },
     "execution_count": 28,
     "metadata": {},
     "output_type": "execute_result"
    }
   ],
   "source": [
    "# Lo abrimos en lectura con escritura y escribimos algo\n",
    "fichero = open('./src/fichero2.txt','r+')\n",
    "fichero.write(\"01234\")\n"
   ]
  },
  {
   "cell_type": "code",
   "execution_count": 27,
   "metadata": {},
   "outputs": [],
   "source": [
    "# fichero.close()"
   ]
  },
  {
   "cell_type": "code",
   "execution_count": 30,
   "metadata": {},
   "outputs": [
    {
     "data": {
      "text/plain": [
       "' 1\\nLínea 2\\nLínea 3\\nLínea 4'"
      ]
     },
     "execution_count": 30,
     "metadata": {},
     "output_type": "execute_result"
    }
   ],
   "source": [
    "fichero.read()"
   ]
  },
  {
   "cell_type": "code",
   "execution_count": 31,
   "metadata": {},
   "outputs": [
    {
     "name": "stdout",
     "output_type": "stream",
     "text": [
      "01234 1\n",
      "Línea 2\n",
      "Línea 3\n",
      "Línea 4\n"
     ]
    }
   ],
   "source": [
    "# Volvemos a ponter el puntero al inicio y leemos hasta el final\n",
    "fichero.seek(0)\n",
    "l = fichero.read()\n",
    "print(l)\n",
    "fichero.close()"
   ]
  },
  {
   "cell_type": "markdown",
   "metadata": {},
   "source": [
    "### Modificar una línea"
   ]
  },
  {
   "cell_type": "markdown",
   "metadata": {},
   "source": [
    "Para lograr este fin lo mejor es leer todas las líneas en una lista, modificar la línea en la lista, posicionar el puntero al principio y reescribir de nuevo todas las líneas:\n"
   ]
  },
  {
   "cell_type": "code",
   "execution_count": 32,
   "metadata": {},
   "outputs": [
    {
     "data": {
      "text/plain": [
       "['01234 1\\n', 'Línea 2\\n', 'Línea 3\\n', 'Línea 4']"
      ]
     },
     "execution_count": 32,
     "metadata": {},
     "output_type": "execute_result"
    }
   ],
   "source": [
    "fichero = open('./src/fichero2.txt','r+')\n",
    "texto = fichero.readlines()\n",
    "\n",
    "texto"
   ]
  },
  {
   "cell_type": "code",
   "execution_count": 33,
   "metadata": {},
   "outputs": [
    {
     "name": "stdout",
     "output_type": "stream",
     "text": [
      "01234 1\n",
      "Línea 2\n",
      "Esta es la línea 3 modificada\n",
      "Línea 4\n"
     ]
    }
   ],
   "source": [
    "# Modificamos la línea que queramos a partir del índice\n",
    "texto[2] = \"Esta es la línea 3 modificada\\n\"\n",
    "\n",
    "# Volvemos a ponter el puntero al inicio y reescribimos\n",
    "fichero.seek(0)\n",
    "fichero.writelines(texto)\n",
    "fichero.close()\n",
    "\n",
    "# Leemos el fichero de nuevo\n",
    "with open(\"./src/fichero2.txt\", \"r\") as fichero:\n",
    "    print(fichero.read())"
   ]
  },
  {
   "cell_type": "code",
   "execution_count": 35,
   "metadata": {},
   "outputs": [
    {
     "data": {
      "text/plain": [
       "'01234 1\\nLínea 2\\nEsta es la línea 3 modificada\\nLínea 4'"
      ]
     },
     "execution_count": 35,
     "metadata": {},
     "output_type": "execute_result"
    }
   ],
   "source": [
    "# forma rápida\n",
    "\n",
    "data = open(\"./src/fichero2.txt\").read()\n",
    "data"
   ]
  },
  {
   "cell_type": "code",
   "execution_count": 39,
   "metadata": {},
   "outputs": [
    {
     "data": {
      "text/plain": [
       "'01234 1\\nlinea de prueba 2\\nesta es la linea de prueba 3 modificada\\nlinea de prueba 4'"
      ]
     },
     "execution_count": 39,
     "metadata": {},
     "output_type": "execute_result"
    }
   ],
   "source": [
    "remplazo = data.lower().replace('línea', 'linea de prueba')\n",
    "remplazo"
   ]
  },
  {
   "cell_type": "code",
   "execution_count": 40,
   "metadata": {},
   "outputs": [
    {
     "data": {
      "text/plain": [
       "83"
      ]
     },
     "execution_count": 40,
     "metadata": {},
     "output_type": "execute_result"
    }
   ],
   "source": [
    "open(\"./src/fichero3.txt\", 'w').write(remplazo)"
   ]
  },
  {
   "cell_type": "markdown",
   "metadata": {},
   "source": [
    "### <a href='https://docs.python.org/2.4/lib/standard-encodings.html'>Encoding</a>"
   ]
  },
  {
   "cell_type": "markdown",
   "metadata": {},
   "source": [
    "**encoding** es el nombre de la codificación utilizada para decodificar o codificar el archivo. Esto solo debe usarse en modo texto. La codificación predeterminada es dependiente de la plataforma, pero cualquier codificación compatible con Python se puede utilizar."
   ]
  },
  {
   "cell_type": "markdown",
   "metadata": {},
   "source": [
    "Más conocidos:\n",
    "\n",
    "- utf-8\n",
    "- latin1\n",
    "- ascii\n"
   ]
  },
  {
   "cell_type": "markdown",
   "metadata": {},
   "source": [
    "#### Lectura sin encoding con texto español\n",
    "\n",
    "\n"
   ]
  },
  {
   "cell_type": "code",
   "execution_count": 41,
   "metadata": {},
   "outputs": [
    {
     "name": "stdout",
     "output_type": "stream",
     "text": [
      "ESTE es un fichero en espaÃ±ol\n"
     ]
    }
   ],
   "source": [
    "with open('./src/fichero_esp.txt','r') as f:\n",
    "    texto = f.read()\n",
    "    print(texto)"
   ]
  },
  {
   "cell_type": "markdown",
   "metadata": {},
   "source": [
    "#### Lectura con encoding utf-8"
   ]
  },
  {
   "cell_type": "code",
   "execution_count": 42,
   "metadata": {},
   "outputs": [
    {
     "name": "stdout",
     "output_type": "stream",
     "text": [
      "ESTE es un fichero en español\n"
     ]
    }
   ],
   "source": [
    "with open('./src/fichero_esp.txt',encoding='utf-8') as f:\n",
    "    texto = f.read()\n",
    "    print(texto)"
   ]
  },
  {
   "cell_type": "markdown",
   "metadata": {},
   "source": [
    "# EJERCICIOS\n",
    "----------------------------"
   ]
  },
  {
   "cell_type": "markdown",
   "metadata": {},
   "source": [
    "<h3>1.</h3>\n",
    "\n",
    "En este ejercicio deberás crear un script llamado <code>personas.py</code> que lea los datos de un fichero de texto, que transforme cada fila en un diccionario y lo añada a una lista llamada personas. Luego rocorre las personas de la lista y para cada una muestra de forma amigable todos sus campos.\n",
    "\n",
    "El fichero de texto se denominará <code>personas.txt</code> y tendrá el siguiente contenido en texto plano (créalo previamente):"
   ]
  },
  {
   "cell_type": "markdown",
   "metadata": {},
   "source": [
    "<code>1;Carlos;Pérez;05/01/1989\n",
    "2;Manuel;Heredia;26/12/1973\n",
    "3;Rosa;Campos;12/06/1961\n",
    "4;David;García;25/07/2006</code>"
   ]
  },
  {
   "cell_type": "code",
   "execution_count": null,
   "metadata": {},
   "outputs": [],
   "source": []
  },
  {
   "cell_type": "code",
   "execution_count": null,
   "metadata": {},
   "outputs": [],
   "source": []
  }
 ],
 "metadata": {
  "kernelspec": {
   "display_name": "Python 3 (ipykernel)",
   "language": "python",
   "name": "python3"
  },
  "language_info": {
   "codemirror_mode": {
    "name": "ipython",
    "version": 3
   },
   "file_extension": ".py",
   "mimetype": "text/x-python",
   "name": "python",
   "nbconvert_exporter": "python",
   "pygments_lexer": "ipython3",
   "version": "3.8.12"
  }
 },
 "nbformat": 4,
 "nbformat_minor": 4
}
