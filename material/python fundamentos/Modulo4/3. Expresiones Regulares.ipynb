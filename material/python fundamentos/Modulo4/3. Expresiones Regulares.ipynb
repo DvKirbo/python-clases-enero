{
 "cells": [
  {
   "cell_type": "markdown",
   "metadata": {},
   "source": [
    "## Expresiones Regulares\n",
    "-----------------------------------"
   ]
  },
  {
   "cell_type": "markdown",
   "metadata": {},
   "source": [
    "Las expresiones regulares, también conocidas como 'regex' o 'regexp', son patrones de búsqueda definidos con una sintaxis formal. Siempre que sigamos sus reglas, podremos realizar búsquedas simples y avanzadas, que utilizadas en conjunto con otras funcionalidades, las vuelven una de las opciones más útiles e importantes de cualquier lenguaje.\n",
    "\n"
   ]
  },
  {
   "cell_type": "markdown",
   "metadata": {},
   "source": [
    "<center><img src='./img/regex.PNG'></center>"
   ]
  },
  {
   "cell_type": "code",
   "execution_count": 16,
   "metadata": {},
   "outputs": [],
   "source": [
    "import re"
   ]
  },
  {
   "cell_type": "markdown",
   "metadata": {},
   "source": [
    "**Métodos Básicos**\n",
    "\n",
    "- **search**: busca un patrón en otra cadena"
   ]
  },
  {
   "cell_type": "code",
   "execution_count": 2,
   "metadata": {},
   "outputs": [
    {
     "data": {
      "text/plain": [
       "<re.Match object; span=(40, 46), match='mágica'>"
      ]
     },
     "execution_count": 2,
     "metadata": {},
     "output_type": "execute_result"
    }
   ],
   "source": [
    "texto = \"En esta cadena se encuentra una palabra mágica\"\n",
    "re.search('mágica', texto)"
   ]
  },
  {
   "cell_type": "markdown",
   "metadata": {},
   "source": [
    "Como vemos, al realizar la búsqueda lo que nos encontramos es un objeto de tipo Match (encontrado), en lugar un simple True o False.\n"
   ]
  },
  {
   "cell_type": "code",
   "execution_count": null,
   "metadata": {},
   "outputs": [],
   "source": [
    "palabra = \"mágica\"\n",
    "\n",
    "encontrado = re.search(palabra,  texto)\n",
    "\n",
    "if encontrado:\n",
    "    print(\"Se ha encontrado la palabra:\", palabra)\n",
    "else:\n",
    "    print(\"No se ha encontrado la palabra:\", palabra)"
   ]
  },
  {
   "cell_type": "markdown",
   "metadata": {},
   "source": [
    "Sin embargo, volviendo al objeto devuelto de tipo Match, éste nos ofrece algunas opciones interesantes."
   ]
  },
  {
   "cell_type": "code",
   "execution_count": null,
   "metadata": {},
   "outputs": [],
   "source": [
    "# Posición donde empieza la coincidencia\n",
    "print( encontrado.start() ) \n",
    "# Posición donde termina la coincidencia\n",
    "print( encontrado.end() )  \n",
    "# Tupla con posiciones donde empieza y termina la coincidencia\n",
    "print( encontrado.span() )   \n",
    "# Cadena sobre la que se ha realizado la búsqueda\n",
    "print( encontrado.string )"
   ]
  },
  {
   "cell_type": "markdown",
   "metadata": {},
   "source": [
    "- **findall**: busca todas las coincidencias en una cadena"
   ]
  },
  {
   "cell_type": "code",
   "execution_count": 6,
   "metadata": {},
   "outputs": [
    {
     "data": {
      "text/plain": [
       "['#movies', '#movies']"
      ]
     },
     "execution_count": 6,
     "metadata": {},
     "output_type": "execute_result"
    }
   ],
   "source": [
    "# re.findall(r'regex','string')\n",
    "\n",
    "texto= \"Love #movies! I had fun yesterday going to the #movies\"\n",
    "\n",
    "re.findall(r\"#movies\", texto)"
   ]
  },
  {
   "cell_type": "code",
   "execution_count": 5,
   "metadata": {},
   "outputs": [
    {
     "name": "stdout",
     "output_type": "stream",
     "text": [
      "Hola\\namigos\n"
     ]
    }
   ],
   "source": [
    "print(r'Hola\\namigos')"
   ]
  },
  {
   "cell_type": "code",
   "execution_count": null,
   "metadata": {},
   "outputs": [],
   "source": []
  },
  {
   "cell_type": "code",
   "execution_count": null,
   "metadata": {},
   "outputs": [],
   "source": []
  },
  {
   "cell_type": "markdown",
   "metadata": {},
   "source": [
    "- **split**: divide una cadena de texto según un patrón"
   ]
  },
  {
   "cell_type": "code",
   "execution_count": 7,
   "metadata": {},
   "outputs": [
    {
     "data": {
      "text/plain": [
       "['Nice Place to eat', \" I'll come back\", ' Excellent meat', '']"
      ]
     },
     "execution_count": 7,
     "metadata": {},
     "output_type": "execute_result"
    }
   ],
   "source": [
    "# re.split(r'regex', 'string')\n",
    "texto=\"Nice Place to eat! I'll come back! Excellent meat!\"\n",
    "\n",
    "re.split(r\"!\", texto)"
   ]
  },
  {
   "cell_type": "markdown",
   "metadata": {},
   "source": [
    "- **sub**: substituye parte de un texto por otro"
   ]
  },
  {
   "cell_type": "code",
   "execution_count": 8,
   "metadata": {},
   "outputs": [
    {
     "data": {
      "text/plain": [
       "'I have a nice car and a nice house in a nice neighborhood'"
      ]
     },
     "execution_count": 8,
     "metadata": {},
     "output_type": "execute_result"
    }
   ],
   "source": [
    "# re.sub(r'regex', 'sub' , 'string')\n",
    "\n",
    "texto = \"I have a yellow car and a yellow house in a yellow neighborhood\"\n",
    "\n",
    "sub = 'nice'\n",
    "\n",
    "re.sub(r\"yellow\", sub ,texto)"
   ]
  },
  {
   "cell_type": "markdown",
   "metadata": {},
   "source": [
    "**Metacarácteres**\n",
    "\n",
    "Permite realizar búsquedas de patrones con carácterísticas especiales"
   ]
  },
  {
   "cell_type": "markdown",
   "metadata": {},
   "source": [
    "<img src='./img/codigo_escapado.PNG'>"
   ]
  },
  {
   "cell_type": "code",
   "execution_count": 10,
   "metadata": {},
   "outputs": [
    {
     "name": "stdout",
     "output_type": "stream",
     "text": [
      "['User9', 'User8', 'User6']\n",
      "['UserN', 'UserÑ']\n",
      "['User9', 'UserN', 'User8', 'UserÑ', 'User6']\n"
     ]
    }
   ],
   "source": [
    "texto = \"The winners are: User9, UserN, User8,UserÑ, User61\"\n",
    "\n",
    "# encontrando valores de User[num] en texto\n",
    "patron = r\"User\\d\"\n",
    "print(re.findall(patron, texto))\n",
    "\n",
    "# encontrando valores de User[letra] en texto\n",
    "print(re.findall(r\"User\\D\", texto))\n",
    "\n",
    "print(re.findall(r\"User\\w\", texto))"
   ]
  },
  {
   "cell_type": "code",
   "execution_count": 11,
   "metadata": {},
   "outputs": [
    {
     "data": {
      "text/plain": [
       "['User9', 'UserN', 'User8', 'User6']"
      ]
     },
     "execution_count": 11,
     "metadata": {},
     "output_type": "execute_result"
    }
   ],
   "source": [
    "re.findall(r\"User[0-9a-zA-Z]\", texto)"
   ]
  },
  {
   "cell_type": "markdown",
   "metadata": {},
   "source": [
    "**Repeticiones**"
   ]
  },
  {
   "cell_type": "markdown",
   "metadata": {},
   "source": [
    "Supongamos que tenemos que realizar la validación del siguiente string"
   ]
  },
  {
   "cell_type": "code",
   "execution_count": 12,
   "metadata": {},
   "outputs": [
    {
     "data": {
      "text/plain": [
       "<re.Match object; span=(9, 21), match='password1234'>"
      ]
     },
     "execution_count": 12,
     "metadata": {},
     "output_type": "execute_result"
    }
   ],
   "source": [
    "password = \"el texto password1234\"\n",
    "re.search(r\"password\\d\\d\\d\\d\", password)"
   ]
  },
  {
   "cell_type": "markdown",
   "metadata": {},
   "source": [
    "Para poder facilitar esa búsqueda existen los repetidores, los cuales van a indicar un número de veces en que se repita un carácter o metacarácter en específico.\n",
    "\n",
    "- Con número de repeticiones fijo <code>{n}</code>\n",
    "\n",
    "**n** -> indica la cantidad de veces en que se repite un caracter\n"
   ]
  },
  {
   "cell_type": "code",
   "execution_count": 13,
   "metadata": {},
   "outputs": [
    {
     "data": {
      "text/plain": [
       "<re.Match object; span=(9, 21), match='password1234'>"
      ]
     },
     "execution_count": 13,
     "metadata": {},
     "output_type": "execute_result"
    }
   ],
   "source": [
    "# \n",
    "re.search(r\"password\\d{4}\", password)"
   ]
  },
  {
   "cell_type": "markdown",
   "metadata": {},
   "source": [
    "**Cuantificadores**"
   ]
  },
  {
   "cell_type": "markdown",
   "metadata": {},
   "source": [
    "Al igual que los repetidores nos va a indicar la cantidad de veces en que se repita cierta expresión:\n",
    "\n",
    "- <code>+</code> : una o más veces\n",
    "- <code>*</code> : cero o más veces\n",
    "- <code>?</code> : cero o una vez\n",
    "- <code>{n,m}</code> : al menos n veces, como máximo m veces\n",
    "\n",
    "**nota**\n",
    "\n",
    "<code>r\"apple+\"</code> : <code>+</code> aplica al la expresión de la izquierda\n"
   ]
  },
  {
   "cell_type": "code",
   "execution_count": 14,
   "metadata": {},
   "outputs": [
    {
     "data": {
      "text/plain": [
       "['4-3', '10-04', '100-4']"
      ]
     },
     "execution_count": 14,
     "metadata": {},
     "output_type": "execute_result"
    }
   ],
   "source": [
    "# \"+\" ->digitos se repiten una o más veces \n",
    "text = \"Date of start: 4-3. Date of registration: 10-04 , 100-4., 4-\"\n",
    "re.findall(r\"\\d+-[0-9]+\", text)"
   ]
  },
  {
   "cell_type": "code",
   "execution_count": 15,
   "metadata": {},
   "outputs": [
    {
     "data": {
      "text/plain": [
       "['@ameli!a', '@joh&&n', '@mary90']"
      ]
     },
     "execution_count": 15,
     "metadata": {},
     "output_type": "execute_result"
    }
   ],
   "source": [
    "# \"*\" ->\n",
    "\n",
    "my_string = \"The concert was amazing! @ameli!a @joh&&n @mary90\"\n",
    "re.findall(r\"@\\w+\\W*\\w+\", my_string)\n"
   ]
  },
  {
   "cell_type": "code",
   "execution_count": 17,
   "metadata": {},
   "outputs": [
    {
     "data": {
      "text/plain": [
       "['color', 'colour']"
      ]
     },
     "execution_count": 17,
     "metadata": {},
     "output_type": "execute_result"
    }
   ],
   "source": [
    "# ?\n",
    "text = \"The color of this image is amazing. However, the colour blue could be brighter.\"\n",
    "re.findall(r\"colou?r\", text)"
   ]
  },
  {
   "cell_type": "code",
   "execution_count": 18,
   "metadata": {},
   "outputs": [
    {
     "data": {
      "text/plain": [
       "['1-966-847-3131', '54-908-42-42424']"
      ]
     },
     "execution_count": 18,
     "metadata": {},
     "output_type": "execute_result"
    }
   ],
   "source": [
    "# {n,m}\n",
    "\n",
    "phone_number = \"John: 1-966-847-3131 Michelle: 54-908-42-42424\"\n",
    "re.findall(r\"[0-9]{1,2}-\\d{3}-\\d{2,3}-\\d{4,}\", phone_number)\n"
   ]
  },
  {
   "cell_type": "markdown",
   "metadata": {},
   "source": [
    "### Caracteres Especiales"
   ]
  },
  {
   "cell_type": "markdown",
   "metadata": {},
   "source": [
    "- Match cualquier caracter (excepto salto de línea)  <code>."
   ]
  },
  {
   "cell_type": "code",
   "execution_count": 19,
   "metadata": {},
   "outputs": [
    {
     "data": {
      "text/plain": [
       "['www.amazingpics.com']"
      ]
     },
     "execution_count": 19,
     "metadata": {},
     "output_type": "execute_result"
    }
   ],
   "source": [
    "my_links = \"Just check out this link: www.amazingpics.com. It has amazing photos!\"\n",
    "re.findall(r\"www.+com\", my_links)"
   ]
  },
  {
   "cell_type": "markdown",
   "metadata": {},
   "source": [
    "- Inicio de la cadena de texto <code>^</code>\n",
    "- Fin de cadena de texto <code>$</code>"
   ]
  },
  {
   "cell_type": "code",
   "execution_count": 20,
   "metadata": {},
   "outputs": [
    {
     "name": "stdout",
     "output_type": "stream",
     "text": [
      "['the 80s', 'the 90s']\n",
      "['the 80s']\n"
     ]
    }
   ],
   "source": [
    "my_string = \"the 80s music was much better that the 90s\"\n",
    "\n",
    "# búsca cualquier texto de la forma 'the ..'\n",
    "print(re.findall(r\"the\\s\\d+s\", my_string))\n",
    "# cadena de texto inicia con 'the'\n",
    "print(re.findall(r\"^the\\s\\d+s\", my_string))"
   ]
  },
  {
   "cell_type": "code",
   "execution_count": 21,
   "metadata": {},
   "outputs": [
    {
     "data": {
      "text/plain": [
       "['the 90s']"
      ]
     },
     "execution_count": 21,
     "metadata": {},
     "output_type": "execute_result"
    }
   ],
   "source": [
    "# cadena de texto finaliza con 'the (num)s'\n",
    "re.findall(r\"the\\s\\d+s$\", my_string)"
   ]
  },
  {
   "cell_type": "markdown",
   "metadata": {},
   "source": [
    "- caracter de escape especial <code>\\"
   ]
  },
  {
   "cell_type": "code",
   "execution_count": 22,
   "metadata": {},
   "outputs": [
    {
     "name": "stdout",
     "output_type": "stream",
     "text": [
      "['', 'lov', 'th', 'musi', 'o', 'Mr.Go', 'However', 'th', 'soun', 'wa', 'to', 'loud.']\n",
      "['I love the music of Mr.Go', 'However, the sound was too loud.']\n"
     ]
    }
   ],
   "source": [
    "my_string = \"I love the music of Mr.Go. However, the sound was too loud.\"\n",
    "# Separando texto por '.\\s' -> se pretende separar por '.'\n",
    "print(re.split(r\".\\s\", my_string))\n",
    "\n",
    "# utilizando '\\'\n",
    "print(re.split(r\"\\.\\s\", my_string))"
   ]
  },
  {
   "cell_type": "markdown",
   "metadata": {},
   "source": [
    "- Operador OR <code>|"
   ]
  },
  {
   "cell_type": "code",
   "execution_count": 23,
   "metadata": {},
   "outputs": [
    {
     "data": {
      "text/plain": [
       "['Elephant', 'elephant']"
      ]
     },
     "execution_count": 23,
     "metadata": {},
     "output_type": "execute_result"
    }
   ],
   "source": [
    "my_string = \"Elephants are the world's largest land animal! I would love to see an elephant one day\"\n",
    "\n",
    "# eligiendo entre valor 'Elephant' or 'elephant'\n",
    "re.findall(r\"Elephant|elephant\", my_string)"
   ]
  },
  {
   "cell_type": "code",
   "execution_count": 24,
   "metadata": {},
   "outputs": [
    {
     "data": {
      "text/plain": [
       "['Elephant', 'elephant']"
      ]
     },
     "execution_count": 24,
     "metadata": {},
     "output_type": "execute_result"
    }
   ],
   "source": [
    "re.findall(r\"[Ee]lephant\", my_string)"
   ]
  },
  {
   "cell_type": "markdown",
   "metadata": {},
   "source": [
    "- Conjunto de caracteres <code>[]"
   ]
  },
  {
   "cell_type": "markdown",
   "metadata": {},
   "source": [
    "<img src='./img/rango_regex.PNG'>"
   ]
  },
  {
   "cell_type": "code",
   "execution_count": 25,
   "metadata": {},
   "outputs": [
    {
     "data": {
      "text/plain": [
       "'My name is John Smith. I live in London.'"
      ]
     },
     "execution_count": 25,
     "metadata": {},
     "output_type": "execute_result"
    }
   ],
   "source": [
    "# Reemplzando carácteres especiales en texto por \" \"\n",
    "my_string = \"My&name&is#John Smith. I%live$in#London.\"\n",
    "re.sub(r\"[#$%&]\", \" \", my_string)"
   ]
  },
  {
   "cell_type": "code",
   "execution_count": 26,
   "metadata": {},
   "outputs": [
    {
     "data": {
      "text/plain": [
       "['www.hola.com']"
      ]
     },
     "execution_count": 26,
     "metadata": {},
     "output_type": "execute_result"
    }
   ],
   "source": [
    "# [^] - transforma la expresión a negativa\n",
    "\n",
    "my_links = \"Bad website: www.99.com. Favorite site: www.hola.com\"\n",
    "re.findall(r\"www[^0-9]+com\", my_links)  # link pero que no contenga números"
   ]
  },
  {
   "cell_type": "markdown",
   "metadata": {},
   "source": [
    "## Documentación\n",
    "\n",
    "Hay docenas y docenas de códigos especiales, si deseas echar un vistazo a todos ellos puedes consultar la documentación oficial:\n",
    "- https://docs.python.org/3.5/library/re.html#regular-expression-syntax\n",
    "\n",
    "Un resumen por parte de Google Eduactión:\n",
    "\n",
    "- https://developers.google.com/edu/python/regular-expressions\n",
    "\n",
    "Otro resumen muy interesante sobre el tema:\n",
    "\n",
    "- https://www.tutorialspoint.com/python/python_reg_expressions.htm\n",
    "- http://w3.unpocodetodo.info/utiles/regex.php\n",
    "\n",
    "Un par de documentos muy trabajados con ejemplos básicos y avanzados:\n",
    "\n",
    "- http://www.python-course.eu/python3_re.php\n",
    "- http://www.python-course.eu/python3_re_advanced.php\n",
    "\n",
    "Pruebas\n",
    "- https://regex101.com/"
   ]
  },
  {
   "cell_type": "markdown",
   "metadata": {},
   "source": [
    "# Problemas\n",
    "--------------------------------"
   ]
  },
  {
   "cell_type": "markdown",
   "metadata": {},
   "source": [
    "1. **Validacion de Numeros Telefónicos**: Cree un programa que valide si una cadena de carácteres es un numero telefonico o no\n",
    "    \n",
    "    - Un numero telefonico es aquel que pose 10 carácteres numericos e inicializa con los numeros 7,8 o 9\n",
    "    \n",
    "    Validar los casos:\n",
    "    \n",
    "        - 9587456281 -> YES\n",
    "        - 1252478965 -> NO\n",
    "        - 8F54698745 -> NO\n",
    "        - 9898959398 -> YES\n",
    "        - 879546242  -> NO\n"
   ]
  },
  {
   "cell_type": "code",
   "execution_count": null,
   "metadata": {},
   "outputs": [],
   "source": []
  },
  {
   "cell_type": "code",
   "execution_count": null,
   "metadata": {},
   "outputs": [],
   "source": []
  },
  {
   "cell_type": "markdown",
   "metadata": {},
   "source": [
    "2. Los colores CSS se definen mediante una notación hexadecimal (HEX) para la combinación de valores de color rojo, verde y azul (RGB).\n",
    "   \n",
    "  Especificaciones del código de color HEX\n",
    "    \n",
    "    - Debe comenzar con un símbolo '#'.\n",
    "    - Puede tener 3 o 6 dígitos.\n",
    "    - Cada dígito está en el rango de 0 a F. (0,1,2,3,4,5,6,7,8,9,A,B,C,D,E y F).\n",
    "    - las letras pueden ser minúsculas. (a,b,c,d,e y f también son dígitos válidos).\n",
    "    \n",
    "   **Input:** input_regex.css\n",
    "    \n",
    "   **OutPut Esperado:** #FfFdF8, #aef, #f9f9f9, #fff, #ABC, #fff\n",
    "    \n",
    "   **Explicacion:** #BED y #Cab satisfacen los criterios pero estos son usados como selectores.\n",
    "    "
   ]
  },
  {
   "cell_type": "code",
   "execution_count": null,
   "metadata": {},
   "outputs": [],
   "source": []
  },
  {
   "cell_type": "code",
   "execution_count": null,
   "metadata": {},
   "outputs": [],
   "source": []
  }
 ],
 "metadata": {
  "kernelspec": {
   "display_name": "Python 3 (ipykernel)",
   "language": "python",
   "name": "python3"
  },
  "language_info": {
   "codemirror_mode": {
    "name": "ipython",
    "version": 3
   },
   "file_extension": ".py",
   "mimetype": "text/x-python",
   "name": "python",
   "nbconvert_exporter": "python",
   "pygments_lexer": "ipython3",
   "version": "3.8.12"
  }
 },
 "nbformat": 4,
 "nbformat_minor": 4
}
