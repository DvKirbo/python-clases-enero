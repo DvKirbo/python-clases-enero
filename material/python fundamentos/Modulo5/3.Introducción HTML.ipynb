{
 "cells": [
  {
   "cell_type": "markdown",
   "id": "4b42e727-1a72-468c-8973-ce6ce0fa7efd",
   "metadata": {},
   "source": [
    "# HTML: Lenguaje de etiquetas de hipertexto\n",
    "-----------------------------"
   ]
  },
  {
   "cell_type": "markdown",
   "id": "b95a45af-5253-40c6-a7fc-be3b7254ed38",
   "metadata": {},
   "source": [
    "**HTML** (Lenguaje de Marcas de Hipertexto, del inglés *HyperText Markup Language* ) es el componente más básico de la Web. **Define el significado y la estructura del contenido web**. Además de HTML, generalmente se utilizan otras tecnologías para describir la apariencia/presentación de una página web ([CSS](https://developer.mozilla.org/es/docs/Web/CSS)) o la funcionalidad/comportamiento ([JavaScript](https://developer.mozilla.org/es/docs/Web/JavaScript)).\n",
    "\n",
    "\n",
    "\n",
    "**NOTA**\n",
    " \n",
    " **HTML no es un lenguaje de programación**; es un lenguaje de marcado que define la estructura de tu contenido.\n"
   ]
  },
  {
   "cell_type": "markdown",
   "id": "3bea7e51-7f6a-4879-8e84-4ff4b1760281",
   "metadata": {},
   "source": [
    "HTML utiliza **marcas** para etiquetar texto, imágenes y otro contenido para mostrarlo en un navegador Web. Las  marcas HTML incluyen \"elementos\" especiales como `<head>`, `<title>`, `<body>`, `<header>`, `<footer>`, `<article>`, `<section>`, `<p>`, `<div>`, `<span>`, `<img>`, `<aside>`, `<audio>`, `<canvas>`, `<datalist>`, `<details>`, `<embed>`, `<nav>`, `<output>`, `<progress>`, `<video>`, `<ul>`, `<ol>`, `<li>` y muchos otros."
   ]
  },
  {
   "cell_type": "markdown",
   "id": "4854fede-de49-4a11-b250-d98d3cf00baf",
   "metadata": {},
   "source": [
    "<img src='./img/html-structure.png'>"
   ]
  },
  {
   "cell_type": "markdown",
   "id": "8463182a-e851-4f45-959f-88aef672b4fd",
   "metadata": {},
   "source": [
    "## 1. Anatomía de un documento HTML"
   ]
  },
  {
   "cell_type": "markdown",
   "id": "75b6fc8d-26fd-4773-bf38-f169f2a8b45a",
   "metadata": {},
   "source": [
    "Antes de introducirnos a conocer las etiquetas debemos de hablar de la anatomía o sintaxis de inicio de un documento html"
   ]
  },
  {
   "cell_type": "markdown",
   "id": "2198aee8-8e20-4c8f-b86e-dacf2c13cf22",
   "metadata": {},
   "source": [
    "<img src='./img/htmldocument_anatomi.png'>"
   ]
  },
  {
   "cell_type": "markdown",
   "id": "25bc583e-75b6-4ec4-9feb-917dca93d3d7",
   "metadata": {},
   "source": [
    "Donde:\n",
    "\n",
    "- `<!DOCTYPE html>` — el tipo de documento. Es un preámbulo requerido. Anteriormente, cuando HTML era joven (cerca de 1991/2), los tipos de documento actuaban como vínculos a un conjunto de reglas que el código HTML de la página debía seguir para ser considerado bueno, lo que podía significar la verificación automática de errores y algunas otras cosas de utilidad. Sin embargo, hoy día es simplemente un artefacto antiguo que a nadie le importa, pero que debe ser incluido para que todo funcione correctamente. Por ahora, eso es todo lo que necesitas saber.\n",
    "- `<html></html>` — el elemento `<html>`. Este elemento encierra todo el contenido de la página entera y, a veces, se le conoce como el elemento raíz (root element).\n",
    "- `<head></head>` — el elemento `<head>`. Este elemento actúa como un contenedor de todo aquello que quieres incluir en la página HTML que no es contenido visible por los visitantes de la página. Incluye cosas como palabras clave (keywords), una descripción de la página que quieres que aparezca en resultados de búsquedas, código CSS para dar estilo al contenido, declaraciones del juego de caracteres, etc.\n",
    "- `<meta charset=\"utf-8\">` — `<meta>`. Este elemento establece el juego de caracteres que tu documento usará en utf-8, que incluye casi todos los caracteres de todos los idiomas humanos. Básicamente, puede manejar cualquier contenido de texto que puedas incluir. No hay razón para no establecerlo, y puede evitar problemas en el futuro.\n",
    "- `<title></title>` — el elemento `<title>` establece el título de tu página, que es el título que aparece en la pestaña o en la barra de título del navegador cuando la página es cargada, y se usa para describir la página cuando es añadida a los marcadores o como favorita.\n",
    "- `<body></body>` — el elemento `<body>`. Encierra todo el contenido que deseas mostrar a los usuarios web que visiten tu página, ya sea texto, imágenes, videos, juegos, pistas de audio reproducibles, y demás.\n"
   ]
  },
  {
   "cell_type": "markdown",
   "id": "a8cf9675-e835-4705-8001-82e04c72fd3c",
   "metadata": {},
   "source": [
    "### Estructura página web básica"
   ]
  },
  {
   "cell_type": "markdown",
   "id": "94864027-97c5-40fb-b4db-6cadfa1676b2",
   "metadata": {},
   "source": [
    "Una página web debería tener la siguiente estructura"
   ]
  },
  {
   "cell_type": "code",
   "execution_count": null,
   "id": "d5765cd0-a79e-4eb8-bc70-83cd6a9244b5",
   "metadata": {},
   "outputs": [],
   "source": [
    "project_name\n",
    "    +--index.html\n",
    "    +--images/\n",
    "    |    +--image1\n",
    "    |    +--image2\n",
    "    +--scripts/\n",
    "    |    +--script1.js\n",
    "    |    +--script2.js\n",
    "    +--styles/\n",
    "    |    +--style1.css\n",
    "    |    +--style2.css\n"
   ]
  },
  {
   "cell_type": "markdown",
   "id": "2d279a17-931d-4f74-865f-f3d0f052025c",
   "metadata": {},
   "source": [
    "A modo de ejemplo"
   ]
  },
  {
   "cell_type": "markdown",
   "id": "8e7e42c3-4405-4faa-bcd5-ec67090c0b4b",
   "metadata": {},
   "source": [
    "<img src='./img/file-structure.png'>"
   ]
  },
  {
   "cell_type": "markdown",
   "id": "f20a402d-2405-4d6f-b0e3-1b2d3e43b756",
   "metadata": {},
   "source": [
    "## 2. Anatomía de un elemento HTML"
   ]
  },
  {
   "cell_type": "markdown",
   "id": "5b452db0-2ed2-487f-9fd4-c6365bbec86c",
   "metadata": {},
   "source": [
    "HTML posee un gran número de etiquetas las cuales tienen diferentes fines. En esta sección hablaremos de algunas de estas.\n",
    "\n",
    "Básicamente una etiqueta html tendrá la siguiente estructura:"
   ]
  },
  {
   "cell_type": "markdown",
   "id": "54eb05e7-3ad5-409a-a198-77c4eee61909",
   "metadata": {},
   "source": [
    "<center><img src='./img/htmlexp.png'></center>"
   ]
  },
  {
   "cell_type": "markdown",
   "id": "7b20e22f-bdb8-4ba6-88cf-b867f9cbd3d6",
   "metadata": {},
   "source": [
    "Las partes principales del elemento son:\n",
    "\n",
    "1. **La etiqueta de apertura:** consiste en el nombre del elemento (en este caso, p), encerrado por paréntesis angulares (< >) de apertura y cierre. 2. Establece dónde comienza o empieza a tener efecto el elemento —en este caso, dónde es el comienzo del párrafo—.\n",
    "3. **La etiqueta de cierre:** es igual que la etiqueta de apertura, excepto que incluye una barra de cierre (/) antes del nombre de la etiqueta. Establece dónde termina el elemento —en este caso dónde termina el párrafo—.\n",
    "4. **El contenido:** este es el contenido del elemento, que en este caso es sólo texto.\n",
    "6. **El elemento:** la etiqueta de apertura, más la etiqueta de cierre, más el contenido equivale al elemento."
   ]
  },
  {
   "cell_type": "markdown",
   "id": "bb0d2fbf-1914-42cf-a319-9cf4d81a2f89",
   "metadata": {},
   "source": [
    "Debemos tener en cuenta que no todas los elementos HTML posseen algún contenido.\n",
    "\n",
    "   **Por ejemplo**:\n",
    "\n",
    "`<img src=\"images/firefox-icon.png\" alt=\"Mi imagen de prueba\">`\n",
    "\n",
    "Posee dos atributos, pero no hay etiqueta de cierre `</img>` ni contenido encerrado. Esto es porque un elemento de imagen no encierra contenido al cual afectar. Su propósito es desplegar una imagen en la página HTML, en el lugar en que aparece."
   ]
  },
  {
   "cell_type": "markdown",
   "id": "7526c56a-67c9-48a2-a48c-cb7c967d6c94",
   "metadata": {
    "tags": []
   },
   "source": [
    "### ETIQUETAS"
   ]
  },
  {
   "cell_type": "markdown",
   "id": "3236e767-be0c-4837-966c-5111e543ea6f",
   "metadata": {
    "tags": []
   },
   "source": [
    "#### - Etiqueta Párrafo `<p></p>`"
   ]
  },
  {
   "cell_type": "markdown",
   "id": "2a7bbb26-eb59-44b6-a5b8-53c85c7bcc88",
   "metadata": {},
   "source": [
    "El texto colocado entre estas etiquetas renderizarán un parrafo por el navegador, con un espacio entre arriba y abajo de este."
   ]
  },
  {
   "cell_type": "markdown",
   "id": "067f4941-a9de-4c10-b58e-bd1b61edd1ec",
   "metadata": {},
   "source": [
    "#### - Etiquetas titulo `<hx></hx>`"
   ]
  },
  {
   "cell_type": "markdown",
   "id": "7db3a3c0-8152-4bf9-a790-a4eaf78aca8f",
   "metadata": {},
   "source": [
    "Donde **x** toma valores entre 1,2,3,4,5,6\n",
    "\n",
    "EL texto entre estas etiquetas será interpretado por el navegador como un **nivel-X de cabecera o título**.\n"
   ]
  },
  {
   "cell_type": "markdown",
   "id": "b92742e6-d6ec-4c0a-a4e3-8284e7bd8fba",
   "metadata": {
    "tags": []
   },
   "source": [
    "#### - Etiquetas de lista `<ul></ul>`- `<ol></ol>` - `<li></li>`"
   ]
  },
  {
   "cell_type": "markdown",
   "id": "c4fa994a-716c-41a3-8a37-9686771d1ed5",
   "metadata": {},
   "source": [
    "- `<ul></ul>` : Demarca el inicio y final de una **lista desordenada**\n",
    "- `<ol></ol>` : Demarca el inicio y final de una **lista ordenada**\n",
    "- `<li></li>` : Demarca el inicio y final de un **elemento de lista**\n"
   ]
  },
  {
   "cell_type": "markdown",
   "id": "41781145-3bc4-4f84-9819-e89356f90321",
   "metadata": {
    "tags": []
   },
   "source": [
    "#### - Etiquetas de Tabla `<table></table>`- `<tr></tr>` - `<td></td>`"
   ]
  },
  {
   "cell_type": "markdown",
   "id": "baeac289-a0ae-4bc5-99f1-590621d93912",
   "metadata": {},
   "source": [
    "- `<table></table>` : Demarca el inicio y final de una definición de tabla \n",
    "- `<tr></tr>` : Demarca el inicio y final de una fila de tabla\n",
    "- `<td></td>`: Demarca el inicio y final de una columna en fila\n",
    "- `<th></th>`: Demarca el inicio y final de un encabezado de columna en fila"
   ]
  },
  {
   "cell_type": "markdown",
   "id": "85573376-c205-4bd1-b241-5f2ce2f86f0b",
   "metadata": {},
   "source": [
    "Table Example: \n",
    "\n",
    "<table>\n",
    "    <thead>\n",
    "        <th style=\"text-align: center\">Renta</th>\n",
    "        <th style=\"text-align: center\">% de Impuesto</th>\n",
    "    </thead>\n",
    "    <tbody>\n",
    "        <tr>\n",
    "            <td style=\"text-align: center\">Menos de 10000€</td>\n",
    "            <td style=\"text-align: center\">5%</td>\n",
    "        </tr>\n",
    "        <tr>\n",
    "            <td style=\"text-align: center\">Entre 10000€ y 20000€</td>\n",
    "            <td style=\"text-align: center\">15%</td>\n",
    "        </tr>\n",
    "        <tr>\n",
    "            <td style=\"text-align: center\">Entre 20000€ y 35000€</td>\n",
    "            <td style=\"text-align: center\">20%</td>\n",
    "        </tr>\n",
    "        <tr>\n",
    "            <td style=\"text-align: center\">Entre 35000€ y 60000€</td>\n",
    "            <td style=\"text-align: center\">30%</td>\n",
    "        </tr>\n",
    "        <tr>\n",
    "            <td style=\"text-align: center\">Más de 60000€</td>\n",
    "            <td style=\"text-align: center\">45%</td>\n",
    "        </tr>\n",
    "    </tbody>\n",
    "</table>"
   ]
  },
  {
   "cell_type": "markdown",
   "id": "e5dd1b5c-1f20-4e8e-a39e-e08fb0067c60",
   "metadata": {},
   "source": [
    "#### - Etiqueta de Imagen `<img>`"
   ]
  },
  {
   "cell_type": "markdown",
   "id": "fe97530d-5890-4d6f-b74b-4147a9e68b45",
   "metadata": {},
   "source": [
    "`<img src=\"images/firefox-icon.png\" alt=\"Mi imagen de prueba\">`\n",
    "\n",
    "Donde:\n",
    " - **src :** path o ruta donde se encuentra la imagen\n",
    " - **alt :** el cual contiene un texto que debería describir la imagen\n"
   ]
  },
  {
   "cell_type": "markdown",
   "id": "f3e69f9f-bf18-41cd-bbf7-0e3d7bd797c1",
   "metadata": {},
   "source": [
    "#### - Etiqueta de Link o hipervinculo `<a></a>`"
   ]
  },
  {
   "cell_type": "markdown",
   "id": "547d62ff-dd55-4fab-a31d-28f3aa57ebfe",
   "metadata": {},
   "source": [
    "Esta etiqueta permite establecer un hipervinculo o link dentro de la página web\n",
    "\n",
    "`<a href=\"https://www.mozilla.org/es-AR/about/manifesto/\">Manifesto Mozilla</a>`\n",
    "\n",
    "Donde los atributos:\n",
    " - **href :** hace referencia referencia a hipertext reference o vinculo de referencia\n"
   ]
  },
  {
   "cell_type": "markdown",
   "id": "b80dcb8a-6fde-416e-bbbc-c681bb255caa",
   "metadata": {},
   "source": [
    "#### - Etiqueta de Formulario `<form></form>` `<input name=X type=Y />` "
   ]
  },
  {
   "cell_type": "markdown",
   "id": "a23607f6-778f-4f15-87a4-1cf13afeda11",
   "metadata": {},
   "source": [
    "La etiqueta form demarca el inicio y final de un formulario HTML\n",
    "\n",
    "\n",
    "Básicamente la etiqueta **form** se compose de un elemento **input**\n",
    "donde **X** representa un identificador único para el campo y **Y** representa el tipo de dato aceptado [revise la siguiente lista](https://developer.mozilla.org/es/docs/Learn/Forms#el_elemento_%3Cinput%3E)"
   ]
  },
  {
   "cell_type": "markdown",
   "id": "417ef97f-8341-425d-9fc4-b4408efb28a1",
   "metadata": {},
   "source": [
    "**Ejemplo Formulario INPUT TYPES:**\n",
    "\n",
    "\n",
    "<form>\n",
    "    TEXT: <input name=\"a\" type=\"text\"/>\n",
    "    PASSWORD: <input name=\"b\" type=\"password\"/>\n",
    "    RADIO: <input name=\"c\" type=\"radio\"/>\n",
    "    CHECKBOX: <input name=\"d\" type=\"checkbox\"/>\n",
    "    SUBMIT:   <input type=\"submit\" value=\"Search\"/>\n",
    "</form>"
   ]
  },
  {
   "cell_type": "markdown",
   "id": "4a2c29b9-9e1d-4767-af6e-2d61feda75ee",
   "metadata": {},
   "source": [
    "**Ejemplos de formularios DATALIST:** \n",
    "\n",
    "<label>Superhéroe favorito</label>\n",
    "\n",
    "<input list=\"superheroes\" name=\"list\" />\n",
    "\n",
    "<datalist id=\"superheroes\">\n",
    "    <option label=\"Iron Man\" value=\"Iron Man\">\n",
    "    <option label=\"The Hulk\" value=\"The Hulk\">\n",
    "</datalist>"
   ]
  },
  {
   "cell_type": "markdown",
   "id": "0b1ad3d2-6d66-4da0-b9e6-60b9bc86f181",
   "metadata": {},
   "source": [
    "El elemento **form** posee dos atributos principales: \n",
    "\n",
    "- **action :** El atributo de acción especifica dónde enviar los datos del formulario cuando se envía un formulario\n",
    "   \n",
    "- **method :** El método HTTP que el navegador usa para enviar el formulario\n",
    "    - **post:** Corresponde al método POST HTTP ; los datos del formulario son incluidos en el cuerpo del formulario y son enviados al servidor.\n",
    "    - **get:** Corresponde al método GET HTTP; los datos del formulario son adjuntados a la URI del atributo  action , con un '?' como separador,  y la URI resultante es enviada al servidor. Use este método cuando el formulario no tiene efectos secundarios y contiene solo caracteres ASCII.\n"
   ]
  },
  {
   "cell_type": "markdown",
   "id": "444d66ac-b92b-44b7-8bf3-0332873d896b",
   "metadata": {},
   "source": [
    "**Ejemplo 3 Formulario búsqueda:**\n",
    "\n",
    "`<form action=\"https://www.google.com/search\" method=\"get\">`\n",
    "\n",
    "\n",
    "<form action=\"https://www.google.com/search\" method=\"get\">\n",
    "    <input name=\"q\" type=\"search\">\n",
    "    <input type=\"submit\" value=\"Search\">\n",
    "</form>"
   ]
  },
  {
   "cell_type": "markdown",
   "id": "d18fb4be-1530-4d38-a766-1a95e3aafc7a",
   "metadata": {},
   "source": [
    "#### - Etiqueta división `<div></div>`"
   ]
  },
  {
   "cell_type": "markdown",
   "id": "a6dc1be7-0e6a-47c8-9ce2-3f7dbbb8164b",
   "metadata": {},
   "source": [
    "Establece el inicio y fin de la división deliberada de la página web\n",
    "\n",
    "\n",
    "<img src='./img/htmldiv.png'>"
   ]
  },
  {
   "cell_type": "markdown",
   "id": "d7036744-156c-4581-bc79-99715ea59c7a",
   "metadata": {},
   "source": [
    "#### - Etiqueta Comenteario `<!--  -->`"
   ]
  },
  {
   "cell_type": "markdown",
   "id": "bc6c7a88-93bf-4082-b510-e2b978b97fda",
   "metadata": {},
   "source": [
    "Demarca el inicio y final de un comentario sobre la página web"
   ]
  },
  {
   "cell_type": "markdown",
   "id": "d7c2d364-e47f-44a9-a0c3-a6ec3031d369",
   "metadata": {},
   "source": [
    "### ATRIBUTOS"
   ]
  },
  {
   "cell_type": "markdown",
   "id": "403352bc-d6c9-4de6-96b0-ca0f8ac9a2a2",
   "metadata": {},
   "source": [
    "Los elementos en HTML tienen atributos; estos **son valores adicionales que configuran los elementos o ajustan su comportamiento de diversas formas para cumplir los criterios de los usuarios**.\n",
    "\n",
    "Algunos atributos importantes son:\n",
    "\n",
    "- **id :** Permite establece un identificador a un elemento HTML  \n",
    "- **class :** Las clases permiten a CSS y Javascript seleccionar y acceder a elementos específicos a través de los selectores de clase o funciones como el método document.getElementsByClassName del DOM.\n",
    "\n"
   ]
  },
  {
   "cell_type": "markdown",
   "id": "8be94549-b289-4ae5-8f8a-3bb14d510912",
   "metadata": {},
   "source": [
    "## Nuestra primer página Web\n",
    "-----------------------"
   ]
  },
  {
   "cell_type": "markdown",
   "id": "da6bce32-6ab8-4474-9884-70711f624f7f",
   "metadata": {},
   "source": [
    "Para la generación de nuestro primer sitio web utilizaremos a modo de imagen referencial la siguiente referencia ubicada en la [página oficial de mozilla](https://developer.mozilla.org/es/docs/Learn/Getting_started_with_the_web/HTML_basics)"
   ]
  },
  {
   "cell_type": "markdown",
   "id": "4a027be3-1dab-47ca-8147-6942c85f5d97",
   "metadata": {},
   "source": [
    "<img src=\"./img/finished-test-page-small.png\" alt='nuestra primera pagina web'>"
   ]
  },
  {
   "cell_type": "markdown",
   "id": "740be6e1-9711-40d6-8495-afb6a313186c",
   "metadata": {},
   "source": [
    "## Deploy de sitio web estatico\n",
    "-----------------------"
   ]
  },
  {
   "cell_type": "markdown",
   "id": "34e27f4e-5a0f-4629-a584-e7033e2222d0",
   "metadata": {},
   "source": [
    "Para realizar nuestro primer deploy de una página web seguiremos los pasos descritos en [GitHub Page](https://pages.github.com/)"
   ]
  },
  {
   "cell_type": "code",
   "execution_count": null,
   "id": "4fd9d9a6-1963-4b0b-b345-109f7382e9d5",
   "metadata": {},
   "outputs": [],
   "source": []
  },
  {
   "cell_type": "markdown",
   "id": "f7fe0697-5992-4c84-9532-2d58ef911a8a",
   "metadata": {},
   "source": [
    "\n",
    "# Referencias\n",
    "---------------------------"
   ]
  },
  {
   "cell_type": "markdown",
   "id": "7e5b35f2-3988-44fe-94f2-eef17d1246a9",
   "metadata": {},
   "source": [
    "- HTML - [Mozilla Developer](https://developer.mozilla.org/es/docs/Learn/Getting_started_with_the_web/HTML_basics)\n",
    "- HTML - [SHORT CS50 VIDEO](https://cs50.harvard.edu/x/2021/shorts/html/) \n",
    "- HTML - [Formularios](https://developer.mozilla.org/es/docs/Learn/Forms)\n",
    "- HTML - [Formulario Resumen](https://developer.mozilla.org/es/docs/Web/HTML/Element/form#attr-method)\n",
    "\n",
    "\n",
    "- CS50 - [Introducción HTML, CSS, JS](https://cs50.harvard.edu/x/2021/weeks/8/) \n",
    "\n",
    "- Deploy a static web page with [GitHub Page](https://pages.github.com/)\n"
   ]
  },
  {
   "cell_type": "code",
   "execution_count": null,
   "id": "b76da539-3f85-4487-b246-dca392ec77af",
   "metadata": {},
   "outputs": [],
   "source": []
  }
 ],
 "metadata": {
  "kernelspec": {
   "display_name": "Python 3",
   "language": "python",
   "name": "python3"
  },
  "language_info": {
   "codemirror_mode": {
    "name": "ipython",
    "version": 3
   },
   "file_extension": ".py",
   "mimetype": "text/x-python",
   "name": "python",
   "nbconvert_exporter": "python",
   "pygments_lexer": "ipython3",
   "version": "3.8.11"
  }
 },
 "nbformat": 4,
 "nbformat_minor": 5
}
