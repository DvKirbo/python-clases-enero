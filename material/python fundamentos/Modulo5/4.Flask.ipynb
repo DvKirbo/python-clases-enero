{
 "cells": [
  {
   "cell_type": "markdown",
   "id": "21c5718a-0587-460f-b75a-7e6fd1537e99",
   "metadata": {},
   "source": [
    "# FLASK\n",
    "-----------------------"
   ]
  },
  {
   "cell_type": "markdown",
   "id": "fcbf6556-24ad-4a90-8361-82c3355e8d39",
   "metadata": {},
   "source": [
    "Usaremos Python y una biblioteca llamada **Flask** para escribir nuestro propio servidor web, implementando funciones adicionales. Flask también es un **framework**, donde se establece un conjunto de convenciones para la utilización de sus librerias. \n",
    "\n",
    "Por ejemplo, al igual que otras librerias, Flask incluye funciones que podemos usar para analizar solicitudes individualmente, pero como framework, también requiere que el código de nuestro programa esté organizado de cierta manera:"
   ]
  },
  {
   "cell_type": "markdown",
   "id": "c727b0d0-008d-48ad-aeb3-91f8584738f4",
   "metadata": {},
   "source": [
    "## Estructura Proyecto Flask"
   ]
  },
  {
   "cell_type": "code",
   "execution_count": null,
   "id": "c84318eb-1ce5-41f5-ab7d-b0bebcaa8d50",
   "metadata": {},
   "outputs": [],
   "source": [
    "flask-project-name\n",
    "    +--application.py\n",
    "    +--requirements.txt\n",
    "    +--static/\n",
    "    |    +--image1\n",
    "    |    +--style.css\n",
    "    |    +--script.js\n",
    "    +--templates/\n",
    "    |    +--index.html\n",
    "    |    +--layaout.html\n",
    "    |    +--page-n.html"
   ]
  },
  {
   "cell_type": "markdown",
   "id": "0c0a36c1-4d93-48c2-b88a-1a094639e435",
   "metadata": {},
   "source": [
    "Donde:\n",
    "\n",
    "- `application.py` : Código python para nuestro servidor web.\n",
    "- `requirements.txt` :  Incluye la lista de librerias necesarias para que nuestra solución funciones.\n",
    "- `static/` : Directorio de archivos estáticos, tal como CSS y JavaScript files.\n",
    "- `templates/` : es un directorio de archivos HTML."
   ]
  },
  {
   "cell_type": "markdown",
   "id": "dad4f527-6efe-41e1-bc3d-9aacb4075a17",
   "metadata": {},
   "source": [
    "Existen múltiples framework para cada uno de los lenguajes populares que existen hoy en día. En python entre los populares tenemos Django, Flask, Piramide"
   ]
  },
  {
   "cell_type": "markdown",
   "id": "0f09ecb4-a6e0-434c-bf1d-de18d29350b0",
   "metadata": {},
   "source": [
    "## Patrón de Diseño en Flask"
   ]
  },
  {
   "cell_type": "markdown",
   "id": "15895685-1fec-42e7-96a4-d42fb38c6b6b",
   "metadata": {},
   "source": [
    "Flask también implementa un patrón de **design pattern**, o la forma en que nuestro programa y código están organizados. Para Flask, el patrón de diseño es generalmente MVC o Model-view-controller:\n"
   ]
  },
  {
   "cell_type": "markdown",
   "id": "af7d7251-fe50-410c-806e-33fb6830c3e6",
   "metadata": {},
   "source": [
    "<center><img src='./img/flask-mvc.png'></center>"
   ]
  },
  {
   "cell_type": "markdown",
   "id": "73446936-5d30-4bc4-ae8b-0bf0f0282530",
   "metadata": {},
   "source": [
    "Donde:\n",
    "\n",
    "- El **controller** es nuestra **lógica y código que administra nuestra aplicación en general**, dada la entrada del usuario. En Flask, este será nuestro código Python.\n",
    "\n",
    "- La **view** es la **interfaz de usuario, como el HTML y CSS que el usuario verá e interactuará**.\n",
    "\n",
    "- El **model** es **nuestra data** tal como base de datos SQL o CSV "
   ]
  },
  {
   "cell_type": "markdown",
   "id": "b9d21783-a7af-434a-bef2-800d76685036",
   "metadata": {},
   "source": [
    "## Nuestra Primera aplicacion Flask"
   ]
  },
  {
   "cell_type": "markdown",
   "id": "d482c8b8-fd93-46f1-a0c0-6606948cc818",
   "metadata": {},
   "source": [
    "Podemos realizar una simple aplicación web a partir del siguiente código"
   ]
  },
  {
   "cell_type": "code",
   "execution_count": null,
   "id": "eb15878b-76b3-423b-b5a1-26368f67bf22",
   "metadata": {},
   "outputs": [],
   "source": [
    "from flask import Flask\n",
    "\n",
    "app = Flask(__name__)\n",
    "\n",
    "@app.route(\"/\")\n",
    "def hello_world():\n",
    "    return \"Hello, Flask!\""
   ]
  },
  {
   "cell_type": "markdown",
   "id": "f03cd972-0dfa-4c9d-b118-4355ca43aa32",
   "metadata": {},
   "source": [
    "- Primero, importaremos `Flask` de la biblioteca `flask`, que usa una letra mayúscula para su nombre principal.\n",
    "- Luego, crearemos una variable de aplicación dando el nombre de nuestro archivo será la variable `Flask`.\n",
    "- A continuación, etiquetaremos una función para `/` route o URL con `@app.route`. El símbolo `@` en Python se llama decorador, que aplica una función a otra.\n",
    "- Llamaremos a la función `index`, ya que debería responder a una solicitud de `/`, la página predeterminada. Y nuestra función solo responderá con una cadena por ahora."
   ]
  },
  {
   "cell_type": "markdown",
   "id": "05194838-8979-4f3c-bd5f-4128433dd881",
   "metadata": {},
   "source": [
    "#### Ejecución\n",
    "-----------------\n",
    "\n",
    "Para poder ejecutar nuestra script podemos realizar los siguiente pasos sobre **CMD**:\n",
    "\n",
    "`> set FLASK_APP=python_file_name`\n",
    "\n",
    "`> flask run`\n",
    " * Running on http://127.0.0.1:5000/\n",
    "\n"
   ]
  },
  {
   "cell_type": "markdown",
   "id": "d7bdfee4-c8cf-426e-9b38-46f796b6a068",
   "metadata": {},
   "source": [
    "Actualizaremos nuestro código para devolver HTML con la función `render_template`, que encuentra un archivo dado y devuelve su contenido:"
   ]
  },
  {
   "cell_type": "code",
   "execution_count": null,
   "id": "a1467d63-8042-4b1f-8b7e-985b0e223fc3",
   "metadata": {},
   "outputs": [],
   "source": [
    "from flask import Flask, render_template\n",
    "\n",
    "app = Flask(__name__)\n",
    "\n",
    "@app.route(\"/\")\n",
    "def index():\n",
    "    return render_template(\"index.html\")"
   ]
  },
  {
   "cell_type": "markdown",
   "id": "1ee24b99-625a-4dd1-b5a2-095dbdab6fad",
   "metadata": {},
   "source": [
    "Tendremos que crear un directorio `templates/` y crear un archivo `index.html` con algo de contenido dentro.\n",
    "\n",
    "Ahora, escribiendo `flask run` devolverá ese archivo HTML cuando visitemos la URL de nuestro servidor."
   ]
  },
  {
   "cell_type": "markdown",
   "id": "4f961146-99b5-4ff0-b70e-91235e7c5ba0",
   "metadata": {},
   "source": [
    "Pasaremos un argumento a `render_template` en nuestro código de controlador:"
   ]
  },
  {
   "cell_type": "code",
   "execution_count": null,
   "id": "2a54af66-a442-4d00-b32b-2ea93909c4b7",
   "metadata": {},
   "outputs": [],
   "source": [
    "from flask import Flask, render_template, request\n",
    "\n",
    "app = Flask(__name__)\n",
    "\n",
    "@app.route(\"/\")\n",
    "def index():\n",
    "    return render_template(\"index.html\", name=request.args.get(\"name\", \"world\"))"
   ]
  },
  {
   "cell_type": "markdown",
   "id": "dd9b8ed1-a335-4da5-9843-a3f6a8a778ae",
   "metadata": {},
   "source": [
    "Resulta que podemos darle a `render_template` cualquier argumento, como `name`, y lo sustituirá en nuestra plantilla o en nuestro archivo HTML con marcadores de posición.\n",
    "\n",
    " - En `index.html`, reemplazaremos `hello, world` con `hello`, para decirle a Flask dónde sustituir la variable `name`:\n",
    "\n"
   ]
  },
  {
   "cell_type": "code",
   "execution_count": null,
   "id": "49fabe35-2ff1-45dd-9655-e0a7f6f344be",
   "metadata": {},
   "outputs": [],
   "source": [
    "<!DOCTYPE html>\n",
    "\n",
    "<html lang=\"en\">\n",
    "    <head>\n",
    "        <title>hello</title>\n",
    "    </head>\n",
    "    <body>\n",
    "        hello, {{ name }}\n",
    "    </body>\n",
    "</html>"
   ]
  },
  {
   "cell_type": "markdown",
   "id": "62a8f7ec-77a0-4f2d-852d-5162e4827299",
   "metadata": {},
   "source": [
    " - Podemos usar la variable `request` de la biblioteca Flask para obtener un parámetro de la solicitud HTTP, en este caso también el `name`, y volver a un valor predeterminado de `world` si no se proporcionó uno.\n",
    " - Ahora, cuando reiniciamos nuestro servidor después de realizar estos cambios, y visitamos la página predeterminada con una URL como `/?name=David`, veremos esa misma entrada devuelta en el HTML generado por nuestro servidor.\n",
    "\n",
    "\n",
    "Podemos suponer que la consulta de búsqueda de Google, en / search? Q = cats, también se analiza mediante algún código para el parámetro q y se pasa a alguna base de datos para obtener todos los resultados que son relevantes. Luego, esos resultados se utilizan para generar la página HTML final."
   ]
  },
  {
   "cell_type": "markdown",
   "id": "fb3ed050-14bf-4980-ac7e-af85bb287568",
   "metadata": {},
   "source": [
    "## Forms"
   ]
  },
  {
   "cell_type": "markdown",
   "id": "ed7abda2-de8d-4622-8532-4a850c02bbc7",
   "metadata": {},
   "source": [
    "Moviremos nuestra plantilla original a `greet.html`, para que reciba al usuario con su nombre. En `index.html`, crearemos un formulario:\n"
   ]
  },
  {
   "cell_type": "code",
   "execution_count": null,
   "id": "9ab080f8-acc1-4b4d-99ef-8df309dd91a3",
   "metadata": {},
   "outputs": [],
   "source": [
    "<!DOCTYPE html>\n",
    "\n",
    "<html lang=\"en\">\n",
    "    <head>\n",
    "        <title>hello</title>\n",
    "    </head>\n",
    "    <body>\n",
    "        <form action=\"/greet\" method=\"get\">\n",
    "            <input name=\"name\" type=\"text\">\n",
    "            <input type=\"submit\">\n",
    "        </form>\n",
    "    </body>\n",
    "</html>"
   ]
  },
  {
   "cell_type": "markdown",
   "id": "7481d862-8775-4085-9809-36387fc7e56f",
   "metadata": {},
   "source": [
    "- Enviaremos el formulario a la `/greet` ruta y tendremos una entrada para el `name` parámetro y otra para el botón de envío.\n",
    "- En nuestro `applications.py` controlador, también necesitaremos agregar una función para la `/greet` ruta, que es casi exactamente lo que teníamos `/` antes:"
   ]
  },
  {
   "cell_type": "code",
   "execution_count": null,
   "id": "1febf87f-7964-4847-a47b-14101c35ea80",
   "metadata": {},
   "outputs": [],
   "source": [
    "@app.route(\"/\")\n",
    "def index():\n",
    "    return render_template(\"index.html\")\n",
    "\n",
    "\n",
    "@app.route(\"/greet\")\n",
    "def greet():\n",
    "    return render_template(\"greet.html\", name=request.args.get(\"name\", \"world\"))"
   ]
  },
  {
   "cell_type": "markdown",
   "id": "8f1797b9-b5fb-45c5-9e29-5883af22950a",
   "metadata": {},
   "source": [
    "- Nuestro formulario `index.html` será estático ya que puede ser el mismo en todo momento.\n",
    "\n",
    "Ahora, podemos ejecutar nuestro servidor, ver nuestro formulario en la página predeterminada y usarlo para generar otra página."
   ]
  },
  {
   "cell_type": "markdown",
   "id": "8082a7c0-365f-4763-a007-61d8b8ed6c5a",
   "metadata": {},
   "source": [
    "## Post"
   ]
  },
  {
   "cell_type": "markdown",
   "id": "c7f6c6b1-28af-4b69-864e-562ba49792dc",
   "metadata": {},
   "source": [
    "- Nuestro formulario anterior utilizó el método GET, que incluye los datos de nuestro formulario en la URL.\n",
    "- Vamos a cambiar el método en nuestro HTML: `<form action=\"/greet\" method=\"post\">`. Nuestro controlador también deberá cambiarse para aceptar el método POST y buscar el parámetro en otro lugar:"
   ]
  },
  {
   "cell_type": "code",
   "execution_count": null,
   "id": "241e1258-b392-4834-baa8-ce84d8451f9d",
   "metadata": {},
   "outputs": [],
   "source": [
    "@app.route(\"/greet\", methods=[\"POST\"])\n",
    "def greet():\n",
    "    return render_template(\"greet.html\", name=request.form.get(\"name\", \"world\"))"
   ]
  },
  {
   "cell_type": "markdown",
   "id": "ff7cc8d1-14cb-447a-9e34-8770695f38c6",
   "metadata": {},
   "source": [
    "- Si bien `request.args` es para parámetros en una solicitud GET, tenemos que usar request.formen Flask para parámetros en una solicitud POST.\n",
    "\n",
    "\n",
    "Ahora, cuando reiniciamos nuestra aplicación después de realizar estos cambios, podemos ver que el formulario nos lleva a /greet, pero los contenidos ya no están incluidos en la URL."
   ]
  },
  {
   "cell_type": "markdown",
   "id": "aa384e10-c990-499f-9091-0e6fbb527b86",
   "metadata": {},
   "source": [
    "## Layouts"
   ]
  },
  {
   "cell_type": "markdown",
   "id": "6fd2d909-6dce-4709-bc4f-28821af4439c",
   "metadata": {},
   "source": [
    "- En `index.html` y `greet.html`, tenemos un código HTML repetido. Solo con HTML, no podemos compartir código entre archivos, pero con las plantillas de Flask (y otros marcos web), podemos descartar ese contenido común. \n",
    "- Crearemos otra plantilla, `layout.html`:"
   ]
  },
  {
   "cell_type": "code",
   "execution_count": null,
   "id": "a536eb3c-158f-42e4-8337-ccc5459ec058",
   "metadata": {},
   "outputs": [],
   "source": [
    "<!DOCTYPE html>\n",
    "\n",
    "<html lang=\"en\">\n",
    "    <head>\n",
    "        <title>hello</title>\n",
    "    </head>\n",
    "    <body>\n",
    "        {% block body %}{% endblock %}\n",
    "    </body>\n",
    "</html>"
   ]
  },
  {
   "cell_type": "markdown",
   "id": "f6457f9c-aec0-40d1-8c7d-c315a9d3f319",
   "metadata": {},
   "source": [
    "Flask admite Jinja, un lenguaje de creación de plantillas, que utiliza la sintaxis `{% %}` para incluir bloques de marcadores de posición u otros fragmentos de código. Aquí hemos nombrado nuestro bloque `body` ya que contiene el HTML que debería ir en el elemento `<body>`."
   ]
  },
  {
   "cell_type": "markdown",
   "id": "fdf751dc-0432-43e6-be5d-77cf6cdc2665",
   "metadata": {},
   "source": [
    "Del mismo modo, en `greet.html`, nosotros definimos the bloque `body` con solo el saludo:\n",
    "    "
   ]
  },
  {
   "cell_type": "code",
   "execution_count": null,
   "id": "7f1ff112-57d8-4258-8832-1ba12b3a2e91",
   "metadata": {},
   "outputs": [],
   "source": [
    "{% extends \"layout.html\" %}\n",
    "\n",
    "{% block body %}\n",
    "\n",
    "    hello, {{ name }}\n",
    "\n",
    "{% endblock %}"
   ]
  },
  {
   "cell_type": "markdown",
   "id": "a813d29b-4974-4a3c-81c6-95d43a2a622a",
   "metadata": {},
   "source": [
    "Ahora, si reiniciamos nuestro servidor y vemos el código fuente de nuestro HTML después de abrir la URL de nuestro servidor, vemos una página completa con nuestro formulario dentro de nuestro archivo HTML, generado por Flask.\n",
    "\n",
    "Incluso podemos reutilizar la misma ruta para admitir los métodos GET y POST:"
   ]
  },
  {
   "cell_type": "code",
   "execution_count": null,
   "id": "3222fea1-4106-4c4c-91c8-f3d9b2894a51",
   "metadata": {},
   "outputs": [],
   "source": [
    "@app.route(\"/\", methods=[\"GET\", \"POST\"])\n",
    "def index():\n",
    "    if request.method == \"POST\":\n",
    "        return render_template(\"greet.html\", name=request.form.get(\"name\", \"world\"))\n",
    "    return render_template(\"index.html\")"
   ]
  },
  {
   "cell_type": "markdown",
   "id": "24c06ec6-d468-4b61-8521-36a1e7a6ddf6",
   "metadata": {},
   "source": [
    "- Primero, verificamos si el `method` de `request` es una solicitud POST. Si es así, buscaremos el `name` parámetro y devolveremos HTML de la `greet.html` plantilla. De lo contrario, devolveremos HTML de `index.html`, que tiene nuestro formulario.\n",
    "- También necesitaremos cambiar el formulario `action` a la `/` ruta predeterminada ."
   ]
  },
  {
   "cell_type": "markdown",
   "id": "f9876d80-4477-48f4-bbf5-0665ce8827fe",
   "metadata": {},
   "source": [
    "# REFERENCIAS\n",
    "----------------"
   ]
  },
  {
   "cell_type": "markdown",
   "id": "c66339d3-63e9-49e3-93f3-43efd7e279e4",
   "metadata": {},
   "source": [
    "- Documentación oficial [Flask](https://flask.palletsprojects.com/en/2.0.x/quickstart/)\n",
    "- Documentación oficial [Jinja](https://jinja.palletsprojects.com/en/3.0.x/)\n",
    "\n",
    "- CS50 [Flask Video](https://cs50.harvard.edu/x/2021/weeks/9/)"
   ]
  },
  {
   "cell_type": "code",
   "execution_count": null,
   "id": "a804f65c-c574-432b-a60f-6c48d811ba20",
   "metadata": {},
   "outputs": [],
   "source": []
  }
 ],
 "metadata": {
  "kernelspec": {
   "display_name": "Python 3",
   "language": "python",
   "name": "python3"
  },
  "language_info": {
   "codemirror_mode": {
    "name": "ipython",
    "version": 3
   },
   "file_extension": ".py",
   "mimetype": "text/x-python",
   "name": "python",
   "nbconvert_exporter": "python",
   "pygments_lexer": "ipython3",
   "version": "3.8.11"
  }
 },
 "nbformat": 4,
 "nbformat_minor": 5
}
