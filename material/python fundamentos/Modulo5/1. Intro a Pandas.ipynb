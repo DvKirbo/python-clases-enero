{
 "cells": [
  {
   "cell_type": "markdown",
   "metadata": {},
   "source": [
    "# Introduccion a Pandas"
   ]
  },
  {
   "cell_type": "code",
   "execution_count": 4,
   "metadata": {},
   "outputs": [],
   "source": [
    "import pandas as pd"
   ]
  },
  {
   "cell_type": "code",
   "execution_count": 2,
   "metadata": {},
   "outputs": [
    {
     "data": {
      "text/plain": [
       "'1.4.1'"
      ]
     },
     "execution_count": 2,
     "metadata": {},
     "output_type": "execute_result"
    }
   ],
   "source": [
    "pd.__version__"
   ]
  },
  {
   "cell_type": "code",
   "execution_count": 3,
   "metadata": {},
   "outputs": [
    {
     "name": "stdout",
     "output_type": "stream",
     "text": [
      "Requirement already satisfied: pandas in c:\\users\\gon_2\\anaconda3\\lib\\site-packages (1.4.1)\n",
      "Requirement already satisfied: python-dateutil>=2.8.1 in c:\\users\\gon_2\\anaconda3\\lib\\site-packages (from pandas) (2.8.2)\n",
      "Requirement already satisfied: numpy>=1.18.5 in c:\\users\\gon_2\\anaconda3\\lib\\site-packages (from pandas) (1.22.2)\n",
      "Requirement already satisfied: pytz>=2020.1 in c:\\users\\gon_2\\anaconda3\\lib\\site-packages (from pandas) (2021.3)\n",
      "Requirement already satisfied: six>=1.5 in c:\\users\\gon_2\\anaconda3\\lib\\site-packages (from python-dateutil>=2.8.1->pandas) (1.16.0)\n"
     ]
    }
   ],
   "source": [
    "# instalacion de libreria\n",
    "!pip install pandas"
   ]
  },
  {
   "cell_type": "markdown",
   "metadata": {},
   "source": [
    "http://pandas.pydata.org/\n",
    "\n",
    "Pandas es la extensión logica de numpy al mundo del Análisis de datos. \n",
    "\n",
    "De forma muy general, Pandas extrae la figura del Dataframe conocida por aquellos que usan R a python.\n",
    "\n",
    "Un pandas dataframe es una tabla, lo que es una hoja de excel, con filas y columnas.\n",
    "\n",
    "En pandas cada columna es una Serie que esta definida con un numpy array por debajo."
   ]
  },
  {
   "cell_type": "markdown",
   "metadata": {},
   "source": [
    "### Qué puede hacer pandas por ti?"
   ]
  },
  {
   "cell_type": "markdown",
   "metadata": {},
   "source": [
    "- Cargar datos de diferentes recursos\n",
    "- Búsqueda de una fila o columna en particular\n",
    "- Realización de calculos estadísticos\n",
    "- Processamiento de datos\n",
    "- Combinar datos de múltiples recursos"
   ]
  },
  {
   "cell_type": "markdown",
   "metadata": {
    "tags": []
   },
   "source": [
    "# 1. Creación y Carga de Datos\n",
    "---------------------------------"
   ]
  },
  {
   "cell_type": "markdown",
   "metadata": {},
   "source": [
    "`Pandas` puede leer archivos de muchos tipos, csv, json, excel entre otros\n",
    "\n",
    "Para esta seccion aprenderemos a crear un Dataframe de 0 y a leer archivos de diferentes fuentes de información.\n"
   ]
  },
  {
   "cell_type": "markdown",
   "metadata": {},
   "source": [
    "<img src='https://pandas.pydata.org/docs/_images/02_io_readwrite.svg'>"
   ]
  },
  {
   "cell_type": "markdown",
   "metadata": {},
   "source": [
    "### 1.1 Creación de dataframes\n",
    "\n",
    "A partir de datos almacenados en diccionarios o listas es posible crear dataframes\n",
    "\n",
    "`pd.Dataframe()`"
   ]
  },
  {
   "cell_type": "code",
   "execution_count": 10,
   "metadata": {},
   "outputs": [],
   "source": [
    "import pandas as pd # pd -> alias por convención\n",
    "dicx = {\n",
    "        \"Name\": [\n",
    "            \"Braund, Mr. Owen Harris\",\n",
    "            \"Allen, Mr. William Henry\",\n",
    "            \"Bonnell, Miss. Elizabeth\"\n",
    "        ],\n",
    "        \"Age\": [22, 35, 58],\n",
    "        \"Sex\": [\"male\", \"male\", \"female\"],\n",
    "    }\n",
    "\n",
    "# df -> es un Dataframe\n",
    "df = pd.DataFrame(dicx)"
   ]
  },
  {
   "cell_type": "code",
   "execution_count": 12,
   "metadata": {},
   "outputs": [
    {
     "data": {
      "text/html": [
       "<div>\n",
       "<style scoped>\n",
       "    .dataframe tbody tr th:only-of-type {\n",
       "        vertical-align: middle;\n",
       "    }\n",
       "\n",
       "    .dataframe tbody tr th {\n",
       "        vertical-align: top;\n",
       "    }\n",
       "\n",
       "    .dataframe thead th {\n",
       "        text-align: right;\n",
       "    }\n",
       "</style>\n",
       "<table border=\"1\" class=\"dataframe\">\n",
       "  <thead>\n",
       "    <tr style=\"text-align: right;\">\n",
       "      <th></th>\n",
       "      <th>Name</th>\n",
       "      <th>Age</th>\n",
       "      <th>Sex</th>\n",
       "    </tr>\n",
       "  </thead>\n",
       "  <tbody>\n",
       "    <tr>\n",
       "      <th>0</th>\n",
       "      <td>Braund, Mr. Owen Harris</td>\n",
       "      <td>22</td>\n",
       "      <td>male</td>\n",
       "    </tr>\n",
       "    <tr>\n",
       "      <th>1</th>\n",
       "      <td>Allen, Mr. William Henry</td>\n",
       "      <td>35</td>\n",
       "      <td>male</td>\n",
       "    </tr>\n",
       "    <tr>\n",
       "      <th>2</th>\n",
       "      <td>Bonnell, Miss. Elizabeth</td>\n",
       "      <td>58</td>\n",
       "      <td>female</td>\n",
       "    </tr>\n",
       "  </tbody>\n",
       "</table>\n",
       "</div>"
      ],
      "text/plain": [
       "                       Name  Age     Sex\n",
       "0   Braund, Mr. Owen Harris   22    male\n",
       "1  Allen, Mr. William Henry   35    male\n",
       "2  Bonnell, Miss. Elizabeth   58  female"
      ]
     },
     "execution_count": 12,
     "metadata": {},
     "output_type": "execute_result"
    }
   ],
   "source": [
    "df"
   ]
  },
  {
   "cell_type": "code",
   "execution_count": 13,
   "metadata": {},
   "outputs": [
    {
     "data": {
      "text/html": [
       "<div>\n",
       "<style scoped>\n",
       "    .dataframe tbody tr th:only-of-type {\n",
       "        vertical-align: middle;\n",
       "    }\n",
       "\n",
       "    .dataframe tbody tr th {\n",
       "        vertical-align: top;\n",
       "    }\n",
       "\n",
       "    .dataframe thead th {\n",
       "        text-align: right;\n",
       "    }\n",
       "</style>\n",
       "<table border=\"1\" class=\"dataframe\">\n",
       "  <thead>\n",
       "    <tr style=\"text-align: right;\">\n",
       "      <th></th>\n",
       "      <th>nombre</th>\n",
       "      <th>apellido</th>\n",
       "      <th>edad</th>\n",
       "    </tr>\n",
       "  </thead>\n",
       "  <tbody>\n",
       "    <tr>\n",
       "      <th>0</th>\n",
       "      <td>Rick</td>\n",
       "      <td>Sanchez</td>\n",
       "      <td>60</td>\n",
       "    </tr>\n",
       "    <tr>\n",
       "      <th>1</th>\n",
       "      <td>Morty</td>\n",
       "      <td>Smith</td>\n",
       "      <td>14</td>\n",
       "    </tr>\n",
       "  </tbody>\n",
       "</table>\n",
       "</div>"
      ],
      "text/plain": [
       "  nombre apellido  edad\n",
       "0   Rick  Sanchez    60\n",
       "1  Morty    Smith    14"
      ]
     },
     "execution_count": 13,
     "metadata": {},
     "output_type": "execute_result"
    }
   ],
   "source": [
    "# creación de 'df' a partir de un diccionario \n",
    "dicx= {\n",
    "    \"nombre\": [\"Rick\", \"Morty\"],\n",
    "    \"apellido\": [\"Sanchez\", \"Smith\"],\n",
    "    \"edad\": [60, 14]\n",
    "    }\n",
    "df_rick_morty = pd.DataFrame(dicx)\n",
    "\n",
    "# mostrando data\n",
    "df_rick_morty"
   ]
  },
  {
   "cell_type": "code",
   "execution_count": 15,
   "metadata": {},
   "outputs": [
    {
     "data": {
      "text/html": [
       "<div>\n",
       "<style scoped>\n",
       "    .dataframe tbody tr th:only-of-type {\n",
       "        vertical-align: middle;\n",
       "    }\n",
       "\n",
       "    .dataframe tbody tr th {\n",
       "        vertical-align: top;\n",
       "    }\n",
       "\n",
       "    .dataframe thead th {\n",
       "        text-align: right;\n",
       "    }\n",
       "</style>\n",
       "<table border=\"1\" class=\"dataframe\">\n",
       "  <thead>\n",
       "    <tr style=\"text-align: right;\">\n",
       "      <th></th>\n",
       "      <th>nombre</th>\n",
       "      <th>apellido</th>\n",
       "      <th>edad</th>\n",
       "    </tr>\n",
       "  </thead>\n",
       "  <tbody>\n",
       "    <tr>\n",
       "      <th>0</th>\n",
       "      <td>Rick</td>\n",
       "      <td>Sanchez</td>\n",
       "      <td>60</td>\n",
       "    </tr>\n",
       "    <tr>\n",
       "      <th>1</th>\n",
       "      <td>Morty</td>\n",
       "      <td>Smith</td>\n",
       "      <td>14</td>\n",
       "    </tr>\n",
       "  </tbody>\n",
       "</table>\n",
       "</div>"
      ],
      "text/plain": [
       "  nombre apellido  edad\n",
       "0   Rick  Sanchez    60\n",
       "1  Morty    Smith    14"
      ]
     },
     "execution_count": 15,
     "metadata": {},
     "output_type": "execute_result"
    }
   ],
   "source": [
    "# creacion de df a partir de una lista\n",
    "lista = [\n",
    "            [\"Rick\", \"Sanchez\", 60],\n",
    "            [\"Morty\", \"Smith\", 14]\n",
    "        ]\n",
    "\n",
    "# nombre de columnas\n",
    "columnas= [\"nombre\", \"apellido\", \"edad\"]\n",
    "df_rick_morty = pd.DataFrame(lista, columns = columnas)\n",
    "df_rick_morty"
   ]
  },
  {
   "cell_type": "code",
   "execution_count": 16,
   "metadata": {},
   "outputs": [
    {
     "data": {
      "text/plain": [
       "pandas.core.frame.DataFrame"
      ]
     },
     "execution_count": 16,
     "metadata": {},
     "output_type": "execute_result"
    }
   ],
   "source": [
    "# tipo de dato de dataframe \n",
    "type(df_rick_morty)"
   ]
  },
  {
   "cell_type": "markdown",
   "metadata": {},
   "source": [
    "### 1.2 Carga de datos a partir de fuentes de información\n",
    "\n",
    "Pandas soporta múltiples fuentes de información entre los que estan csv , sql, json,excel, etc\n",
    "\n",
    "Para leer un archivo siempre iniciamos con : `pd.read_` "
   ]
  },
  {
   "cell_type": "code",
   "execution_count": 29,
   "metadata": {},
   "outputs": [],
   "source": [
    "## Leyendo data de un \"csv\"\n",
    "import pandas as pd\n",
    "# mostrar todas las filas del df\n",
    "# https://www.geeksforgeeks.org/how-to-display-all-rows-from-dataframe-using-pandas/#:~:text=A%20function%20set_option()%20is,value%20of%20max_rows%20is%2010.\n",
    "pd.set_option('display.max_rows', None) \n",
    "\n",
    "# csv(<ruta archivo>, sep=<separador datos>)\n",
    "df = pd.read_csv('./src/input/primary_results.csv',sep=',')\n"
   ]
  },
  {
   "cell_type": "code",
   "execution_count": 30,
   "metadata": {},
   "outputs": [
    {
     "data": {
      "text/html": [
       "<div>\n",
       "<style scoped>\n",
       "    .dataframe tbody tr th:only-of-type {\n",
       "        vertical-align: middle;\n",
       "    }\n",
       "\n",
       "    .dataframe tbody tr th {\n",
       "        vertical-align: top;\n",
       "    }\n",
       "\n",
       "    .dataframe thead th {\n",
       "        text-align: right;\n",
       "    }\n",
       "</style>\n",
       "<table border=\"1\" class=\"dataframe\">\n",
       "  <thead>\n",
       "    <tr style=\"text-align: right;\">\n",
       "      <th></th>\n",
       "      <th>state</th>\n",
       "      <th>state_abbreviation</th>\n",
       "      <th>county</th>\n",
       "      <th>fips</th>\n",
       "      <th>party</th>\n",
       "      <th>candidate</th>\n",
       "      <th>votes</th>\n",
       "      <th>fraction_votes</th>\n",
       "    </tr>\n",
       "  </thead>\n",
       "  <tbody>\n",
       "    <tr>\n",
       "      <th>0</th>\n",
       "      <td>Alabama</td>\n",
       "      <td>AL</td>\n",
       "      <td>Autauga</td>\n",
       "      <td>1001.0</td>\n",
       "      <td>Democrat</td>\n",
       "      <td>Bernie Sanders</td>\n",
       "      <td>544</td>\n",
       "      <td>0.182</td>\n",
       "    </tr>\n",
       "    <tr>\n",
       "      <th>1</th>\n",
       "      <td>Alabama</td>\n",
       "      <td>AL</td>\n",
       "      <td>Autauga</td>\n",
       "      <td>1001.0</td>\n",
       "      <td>Democrat</td>\n",
       "      <td>Hillary Clinton</td>\n",
       "      <td>2387</td>\n",
       "      <td>0.800</td>\n",
       "    </tr>\n",
       "    <tr>\n",
       "      <th>2</th>\n",
       "      <td>Alabama</td>\n",
       "      <td>AL</td>\n",
       "      <td>Baldwin</td>\n",
       "      <td>1003.0</td>\n",
       "      <td>Democrat</td>\n",
       "      <td>Bernie Sanders</td>\n",
       "      <td>2694</td>\n",
       "      <td>0.329</td>\n",
       "    </tr>\n",
       "    <tr>\n",
       "      <th>3</th>\n",
       "      <td>Alabama</td>\n",
       "      <td>AL</td>\n",
       "      <td>Baldwin</td>\n",
       "      <td>1003.0</td>\n",
       "      <td>Democrat</td>\n",
       "      <td>Hillary Clinton</td>\n",
       "      <td>5290</td>\n",
       "      <td>0.647</td>\n",
       "    </tr>\n",
       "    <tr>\n",
       "      <th>4</th>\n",
       "      <td>Alabama</td>\n",
       "      <td>AL</td>\n",
       "      <td>Barbour</td>\n",
       "      <td>1005.0</td>\n",
       "      <td>Democrat</td>\n",
       "      <td>Bernie Sanders</td>\n",
       "      <td>222</td>\n",
       "      <td>0.078</td>\n",
       "    </tr>\n",
       "  </tbody>\n",
       "</table>\n",
       "</div>"
      ],
      "text/plain": [
       "     state state_abbreviation   county    fips     party        candidate  \\\n",
       "0  Alabama                 AL  Autauga  1001.0  Democrat   Bernie Sanders   \n",
       "1  Alabama                 AL  Autauga  1001.0  Democrat  Hillary Clinton   \n",
       "2  Alabama                 AL  Baldwin  1003.0  Democrat   Bernie Sanders   \n",
       "3  Alabama                 AL  Baldwin  1003.0  Democrat  Hillary Clinton   \n",
       "4  Alabama                 AL  Barbour  1005.0  Democrat   Bernie Sanders   \n",
       "\n",
       "   votes  fraction_votes  \n",
       "0    544           0.182  \n",
       "1   2387           0.800  \n",
       "2   2694           0.329  \n",
       "3   5290           0.647  \n",
       "4    222           0.078  "
      ]
     },
     "execution_count": 30,
     "metadata": {},
     "output_type": "execute_result"
    }
   ],
   "source": [
    "df.head()"
   ]
  },
  {
   "cell_type": "code",
   "execution_count": 31,
   "metadata": {},
   "outputs": [],
   "source": [
    "## Leyendo data de un archivo \"excel\"\n",
    "\n",
    "path_ = \"./src/input/fallecidos_covid.xlsx\"\n",
    "df_excel = pd.read_excel(path_, sheet_name='fallecidos_covid')"
   ]
  },
  {
   "cell_type": "code",
   "execution_count": 32,
   "metadata": {},
   "outputs": [
    {
     "data": {
      "text/html": [
       "<div>\n",
       "<style scoped>\n",
       "    .dataframe tbody tr th:only-of-type {\n",
       "        vertical-align: middle;\n",
       "    }\n",
       "\n",
       "    .dataframe tbody tr th {\n",
       "        vertical-align: top;\n",
       "    }\n",
       "\n",
       "    .dataframe thead th {\n",
       "        text-align: right;\n",
       "    }\n",
       "</style>\n",
       "<table border=\"1\" class=\"dataframe\">\n",
       "  <thead>\n",
       "    <tr style=\"text-align: right;\">\n",
       "      <th></th>\n",
       "      <th>FECHA_CORTE</th>\n",
       "      <th>UUID</th>\n",
       "      <th>FECHA_FALLECIMIENTO</th>\n",
       "      <th>EDAD_DECLARADA</th>\n",
       "      <th>SEXO</th>\n",
       "      <th>CLASIFICACION_DEF</th>\n",
       "      <th>DEPARTAMENTO</th>\n",
       "      <th>PROVINCIA</th>\n",
       "      <th>DISTRITO</th>\n",
       "      <th>UBIGEO</th>\n",
       "    </tr>\n",
       "  </thead>\n",
       "  <tbody>\n",
       "    <tr>\n",
       "      <th>0</th>\n",
       "      <td>20210811</td>\n",
       "      <td>8ff6ea53-1467-456b-92ef-4e001ff8a2d6</td>\n",
       "      <td>20210725</td>\n",
       "      <td>65</td>\n",
       "      <td>MASCULINO</td>\n",
       "      <td>Criterio virolÃ³gico</td>\n",
       "      <td>AREQUIPA</td>\n",
       "      <td>ISLAY</td>\n",
       "      <td>PUNTA DE BOMBON</td>\n",
       "      <td>40706.0</td>\n",
       "    </tr>\n",
       "    <tr>\n",
       "      <th>1</th>\n",
       "      <td>20210811</td>\n",
       "      <td>71be5780-1e0d-4092-9036-af6d408d66e5</td>\n",
       "      <td>20210618</td>\n",
       "      <td>37</td>\n",
       "      <td>MASCULINO</td>\n",
       "      <td>Criterio SINADEF</td>\n",
       "      <td>PUNO</td>\n",
       "      <td>SAN ROMAN</td>\n",
       "      <td>JULIACA</td>\n",
       "      <td>211101.0</td>\n",
       "    </tr>\n",
       "  </tbody>\n",
       "</table>\n",
       "</div>"
      ],
      "text/plain": [
       "   FECHA_CORTE                                  UUID  FECHA_FALLECIMIENTO  \\\n",
       "0     20210811  8ff6ea53-1467-456b-92ef-4e001ff8a2d6             20210725   \n",
       "1     20210811  71be5780-1e0d-4092-9036-af6d408d66e5             20210618   \n",
       "\n",
       "   EDAD_DECLARADA       SEXO     CLASIFICACION_DEF DEPARTAMENTO  PROVINCIA  \\\n",
       "0              65  MASCULINO  Criterio virolÃ³gico     AREQUIPA      ISLAY   \n",
       "1              37  MASCULINO      Criterio SINADEF         PUNO  SAN ROMAN   \n",
       "\n",
       "          DISTRITO    UBIGEO  \n",
       "0  PUNTA DE BOMBON   40706.0  \n",
       "1          JULIACA  211101.0  "
      ]
     },
     "execution_count": 32,
     "metadata": {},
     "output_type": "execute_result"
    }
   ],
   "source": [
    "# head() -> me muestra los 5 primeros registros de mi df\n",
    "df_excel.head(2)"
   ]
  },
  {
   "cell_type": "code",
   "execution_count": null,
   "metadata": {},
   "outputs": [],
   "source": []
  },
  {
   "cell_type": "markdown",
   "metadata": {
    "tags": []
   },
   "source": [
    "# 2. Exploración de la Data\n",
    "-----------------------------\n",
    "\n",
    "La exploración de datos es la etapa donde obtenemos informacion sobre la data cargada, información como: cantidad de registros, visualizar registros de la data, cantidad de columnas, tipos de datos de las columnas, nombre de columnas, etc"
   ]
  },
  {
   "cell_type": "code",
   "execution_count": 35,
   "metadata": {},
   "outputs": [],
   "source": [
    "# csv(<ruta archivo>, sep=<separador datos>)\n",
    "df = pd.read_csv('./src/input/primary_results.csv',sep=',')\n"
   ]
  },
  {
   "cell_type": "markdown",
   "metadata": {},
   "source": [
    "`shape` nos devuelve el número de filas y columnas"
   ]
  },
  {
   "cell_type": "code",
   "execution_count": 33,
   "metadata": {},
   "outputs": [],
   "source": []
  },
  {
   "cell_type": "code",
   "execution_count": 36,
   "metadata": {},
   "outputs": [
    {
     "data": {
      "text/plain": [
       "(24611, 8)"
      ]
     },
     "execution_count": 36,
     "metadata": {},
     "output_type": "execute_result"
    }
   ],
   "source": [
    "df.shape"
   ]
  },
  {
   "cell_type": "markdown",
   "metadata": {},
   "source": [
    "`head` retorna los primertos 5 resultados contenidos en el dataframe (df)"
   ]
  },
  {
   "cell_type": "code",
   "execution_count": 38,
   "metadata": {},
   "outputs": [
    {
     "data": {
      "text/html": [
       "<div>\n",
       "<style scoped>\n",
       "    .dataframe tbody tr th:only-of-type {\n",
       "        vertical-align: middle;\n",
       "    }\n",
       "\n",
       "    .dataframe tbody tr th {\n",
       "        vertical-align: top;\n",
       "    }\n",
       "\n",
       "    .dataframe thead th {\n",
       "        text-align: right;\n",
       "    }\n",
       "</style>\n",
       "<table border=\"1\" class=\"dataframe\">\n",
       "  <thead>\n",
       "    <tr style=\"text-align: right;\">\n",
       "      <th></th>\n",
       "      <th>state</th>\n",
       "      <th>state_abbreviation</th>\n",
       "      <th>county</th>\n",
       "      <th>fips</th>\n",
       "      <th>party</th>\n",
       "      <th>candidate</th>\n",
       "      <th>votes</th>\n",
       "      <th>fraction_votes</th>\n",
       "    </tr>\n",
       "  </thead>\n",
       "  <tbody>\n",
       "    <tr>\n",
       "      <th>0</th>\n",
       "      <td>Alabama</td>\n",
       "      <td>AL</td>\n",
       "      <td>Autauga</td>\n",
       "      <td>1001.0</td>\n",
       "      <td>Democrat</td>\n",
       "      <td>Bernie Sanders</td>\n",
       "      <td>544</td>\n",
       "      <td>0.182</td>\n",
       "    </tr>\n",
       "    <tr>\n",
       "      <th>1</th>\n",
       "      <td>Alabama</td>\n",
       "      <td>AL</td>\n",
       "      <td>Autauga</td>\n",
       "      <td>1001.0</td>\n",
       "      <td>Democrat</td>\n",
       "      <td>Hillary Clinton</td>\n",
       "      <td>2387</td>\n",
       "      <td>0.800</td>\n",
       "    </tr>\n",
       "    <tr>\n",
       "      <th>2</th>\n",
       "      <td>Alabama</td>\n",
       "      <td>AL</td>\n",
       "      <td>Baldwin</td>\n",
       "      <td>1003.0</td>\n",
       "      <td>Democrat</td>\n",
       "      <td>Bernie Sanders</td>\n",
       "      <td>2694</td>\n",
       "      <td>0.329</td>\n",
       "    </tr>\n",
       "    <tr>\n",
       "      <th>3</th>\n",
       "      <td>Alabama</td>\n",
       "      <td>AL</td>\n",
       "      <td>Baldwin</td>\n",
       "      <td>1003.0</td>\n",
       "      <td>Democrat</td>\n",
       "      <td>Hillary Clinton</td>\n",
       "      <td>5290</td>\n",
       "      <td>0.647</td>\n",
       "    </tr>\n",
       "    <tr>\n",
       "      <th>4</th>\n",
       "      <td>Alabama</td>\n",
       "      <td>AL</td>\n",
       "      <td>Barbour</td>\n",
       "      <td>1005.0</td>\n",
       "      <td>Democrat</td>\n",
       "      <td>Bernie Sanders</td>\n",
       "      <td>222</td>\n",
       "      <td>0.078</td>\n",
       "    </tr>\n",
       "    <tr>\n",
       "      <th>5</th>\n",
       "      <td>Alabama</td>\n",
       "      <td>AL</td>\n",
       "      <td>Barbour</td>\n",
       "      <td>1005.0</td>\n",
       "      <td>Democrat</td>\n",
       "      <td>Hillary Clinton</td>\n",
       "      <td>2567</td>\n",
       "      <td>0.906</td>\n",
       "    </tr>\n",
       "    <tr>\n",
       "      <th>6</th>\n",
       "      <td>Alabama</td>\n",
       "      <td>AL</td>\n",
       "      <td>Bibb</td>\n",
       "      <td>1007.0</td>\n",
       "      <td>Democrat</td>\n",
       "      <td>Bernie Sanders</td>\n",
       "      <td>246</td>\n",
       "      <td>0.197</td>\n",
       "    </tr>\n",
       "    <tr>\n",
       "      <th>7</th>\n",
       "      <td>Alabama</td>\n",
       "      <td>AL</td>\n",
       "      <td>Bibb</td>\n",
       "      <td>1007.0</td>\n",
       "      <td>Democrat</td>\n",
       "      <td>Hillary Clinton</td>\n",
       "      <td>942</td>\n",
       "      <td>0.755</td>\n",
       "    </tr>\n",
       "    <tr>\n",
       "      <th>8</th>\n",
       "      <td>Alabama</td>\n",
       "      <td>AL</td>\n",
       "      <td>Blount</td>\n",
       "      <td>1009.0</td>\n",
       "      <td>Democrat</td>\n",
       "      <td>Bernie Sanders</td>\n",
       "      <td>395</td>\n",
       "      <td>0.386</td>\n",
       "    </tr>\n",
       "    <tr>\n",
       "      <th>9</th>\n",
       "      <td>Alabama</td>\n",
       "      <td>AL</td>\n",
       "      <td>Blount</td>\n",
       "      <td>1009.0</td>\n",
       "      <td>Democrat</td>\n",
       "      <td>Hillary Clinton</td>\n",
       "      <td>564</td>\n",
       "      <td>0.551</td>\n",
       "    </tr>\n",
       "  </tbody>\n",
       "</table>\n",
       "</div>"
      ],
      "text/plain": [
       "     state state_abbreviation   county    fips     party        candidate  \\\n",
       "0  Alabama                 AL  Autauga  1001.0  Democrat   Bernie Sanders   \n",
       "1  Alabama                 AL  Autauga  1001.0  Democrat  Hillary Clinton   \n",
       "2  Alabama                 AL  Baldwin  1003.0  Democrat   Bernie Sanders   \n",
       "3  Alabama                 AL  Baldwin  1003.0  Democrat  Hillary Clinton   \n",
       "4  Alabama                 AL  Barbour  1005.0  Democrat   Bernie Sanders   \n",
       "5  Alabama                 AL  Barbour  1005.0  Democrat  Hillary Clinton   \n",
       "6  Alabama                 AL     Bibb  1007.0  Democrat   Bernie Sanders   \n",
       "7  Alabama                 AL     Bibb  1007.0  Democrat  Hillary Clinton   \n",
       "8  Alabama                 AL   Blount  1009.0  Democrat   Bernie Sanders   \n",
       "9  Alabama                 AL   Blount  1009.0  Democrat  Hillary Clinton   \n",
       "\n",
       "   votes  fraction_votes  \n",
       "0    544           0.182  \n",
       "1   2387           0.800  \n",
       "2   2694           0.329  \n",
       "3   5290           0.647  \n",
       "4    222           0.078  \n",
       "5   2567           0.906  \n",
       "6    246           0.197  \n",
       "7    942           0.755  \n",
       "8    395           0.386  \n",
       "9    564           0.551  "
      ]
     },
     "execution_count": 38,
     "metadata": {},
     "output_type": "execute_result"
    }
   ],
   "source": [
    "# head retorna los primeros 5 resultados del dataframe\n",
    "df.head(10)"
   ]
  },
  {
   "cell_type": "markdown",
   "metadata": {},
   "source": [
    "`tail` retorna los 5 últimos resultados contenidos en el dataframe (df)"
   ]
  },
  {
   "cell_type": "code",
   "execution_count": 41,
   "metadata": {},
   "outputs": [
    {
     "data": {
      "text/html": [
       "<div>\n",
       "<style scoped>\n",
       "    .dataframe tbody tr th:only-of-type {\n",
       "        vertical-align: middle;\n",
       "    }\n",
       "\n",
       "    .dataframe tbody tr th {\n",
       "        vertical-align: top;\n",
       "    }\n",
       "\n",
       "    .dataframe thead th {\n",
       "        text-align: right;\n",
       "    }\n",
       "</style>\n",
       "<table border=\"1\" class=\"dataframe\">\n",
       "  <thead>\n",
       "    <tr style=\"text-align: right;\">\n",
       "      <th></th>\n",
       "      <th>state</th>\n",
       "      <th>state_abbreviation</th>\n",
       "      <th>county</th>\n",
       "      <th>fips</th>\n",
       "      <th>party</th>\n",
       "      <th>candidate</th>\n",
       "      <th>votes</th>\n",
       "      <th>fraction_votes</th>\n",
       "    </tr>\n",
       "  </thead>\n",
       "  <tbody>\n",
       "    <tr>\n",
       "      <th>24606</th>\n",
       "      <td>Wyoming</td>\n",
       "      <td>WY</td>\n",
       "      <td>Teton-Sublette</td>\n",
       "      <td>95600028.0</td>\n",
       "      <td>Republican</td>\n",
       "      <td>Ted Cruz</td>\n",
       "      <td>0</td>\n",
       "      <td>0.0</td>\n",
       "    </tr>\n",
       "    <tr>\n",
       "      <th>24607</th>\n",
       "      <td>Wyoming</td>\n",
       "      <td>WY</td>\n",
       "      <td>Uinta-Lincoln</td>\n",
       "      <td>95600027.0</td>\n",
       "      <td>Republican</td>\n",
       "      <td>Donald Trump</td>\n",
       "      <td>0</td>\n",
       "      <td>0.0</td>\n",
       "    </tr>\n",
       "    <tr>\n",
       "      <th>24608</th>\n",
       "      <td>Wyoming</td>\n",
       "      <td>WY</td>\n",
       "      <td>Uinta-Lincoln</td>\n",
       "      <td>95600027.0</td>\n",
       "      <td>Republican</td>\n",
       "      <td>John Kasich</td>\n",
       "      <td>0</td>\n",
       "      <td>0.0</td>\n",
       "    </tr>\n",
       "    <tr>\n",
       "      <th>24609</th>\n",
       "      <td>Wyoming</td>\n",
       "      <td>WY</td>\n",
       "      <td>Uinta-Lincoln</td>\n",
       "      <td>95600027.0</td>\n",
       "      <td>Republican</td>\n",
       "      <td>Marco Rubio</td>\n",
       "      <td>0</td>\n",
       "      <td>0.0</td>\n",
       "    </tr>\n",
       "    <tr>\n",
       "      <th>24610</th>\n",
       "      <td>Wyoming</td>\n",
       "      <td>WY</td>\n",
       "      <td>Uinta-Lincoln</td>\n",
       "      <td>95600027.0</td>\n",
       "      <td>Republican</td>\n",
       "      <td>Ted Cruz</td>\n",
       "      <td>53</td>\n",
       "      <td>1.0</td>\n",
       "    </tr>\n",
       "  </tbody>\n",
       "</table>\n",
       "</div>"
      ],
      "text/plain": [
       "         state state_abbreviation          county        fips       party  \\\n",
       "24606  Wyoming                 WY  Teton-Sublette  95600028.0  Republican   \n",
       "24607  Wyoming                 WY   Uinta-Lincoln  95600027.0  Republican   \n",
       "24608  Wyoming                 WY   Uinta-Lincoln  95600027.0  Republican   \n",
       "24609  Wyoming                 WY   Uinta-Lincoln  95600027.0  Republican   \n",
       "24610  Wyoming                 WY   Uinta-Lincoln  95600027.0  Republican   \n",
       "\n",
       "          candidate  votes  fraction_votes  \n",
       "24606      Ted Cruz      0             0.0  \n",
       "24607  Donald Trump      0             0.0  \n",
       "24608   John Kasich      0             0.0  \n",
       "24609   Marco Rubio      0             0.0  \n",
       "24610      Ted Cruz     53             1.0  "
      ]
     },
     "execution_count": 41,
     "metadata": {},
     "output_type": "execute_result"
    }
   ],
   "source": [
    "# tail -> retorna los últimos 5 resultados del df\n",
    "df.tail()"
   ]
  },
  {
   "cell_type": "markdown",
   "metadata": {},
   "source": [
    "`dtypes` nos indica el tipo de dato para cada una de las columnas del df"
   ]
  },
  {
   "cell_type": "code",
   "execution_count": 42,
   "metadata": {},
   "outputs": [
    {
     "data": {
      "text/plain": [
       "state                  object\n",
       "state_abbreviation     object\n",
       "county                 object\n",
       "fips                  float64\n",
       "party                  object\n",
       "candidate              object\n",
       "votes                   int64\n",
       "fraction_votes        float64\n",
       "dtype: object"
      ]
     },
     "execution_count": 42,
     "metadata": {},
     "output_type": "execute_result"
    }
   ],
   "source": [
    "df.dtypes"
   ]
  },
  {
   "cell_type": "markdown",
   "metadata": {},
   "source": [
    "`columns` nos indica las columnas que conforman el df"
   ]
  },
  {
   "cell_type": "code",
   "execution_count": 43,
   "metadata": {},
   "outputs": [
    {
     "data": {
      "text/plain": [
       "Index(['state', 'state_abbreviation', 'county', 'fips', 'party', 'candidate',\n",
       "       'votes', 'fraction_votes'],\n",
       "      dtype='object')"
      ]
     },
     "execution_count": 43,
     "metadata": {},
     "output_type": "execute_result"
    }
   ],
   "source": [
    "df.columns"
   ]
  },
  {
   "cell_type": "markdown",
   "metadata": {},
   "source": [
    "`describe` nos brinda un resumen de la cantidad de datos, promedio, desviación estandar, minimo, máximo, etc de los datos de las columnas posibles"
   ]
  },
  {
   "cell_type": "code",
   "execution_count": 44,
   "metadata": {},
   "outputs": [
    {
     "data": {
      "text/html": [
       "<div>\n",
       "<style scoped>\n",
       "    .dataframe tbody tr th:only-of-type {\n",
       "        vertical-align: middle;\n",
       "    }\n",
       "\n",
       "    .dataframe tbody tr th {\n",
       "        vertical-align: top;\n",
       "    }\n",
       "\n",
       "    .dataframe thead th {\n",
       "        text-align: right;\n",
       "    }\n",
       "</style>\n",
       "<table border=\"1\" class=\"dataframe\">\n",
       "  <thead>\n",
       "    <tr style=\"text-align: right;\">\n",
       "      <th></th>\n",
       "      <th>fips</th>\n",
       "      <th>votes</th>\n",
       "      <th>fraction_votes</th>\n",
       "    </tr>\n",
       "  </thead>\n",
       "  <tbody>\n",
       "    <tr>\n",
       "      <th>count</th>\n",
       "      <td>2.451100e+04</td>\n",
       "      <td>24611.000000</td>\n",
       "      <td>24611.000000</td>\n",
       "    </tr>\n",
       "    <tr>\n",
       "      <th>mean</th>\n",
       "      <td>2.667152e+07</td>\n",
       "      <td>2306.252773</td>\n",
       "      <td>0.304524</td>\n",
       "    </tr>\n",
       "    <tr>\n",
       "      <th>std</th>\n",
       "      <td>4.200978e+07</td>\n",
       "      <td>9861.183572</td>\n",
       "      <td>0.231401</td>\n",
       "    </tr>\n",
       "    <tr>\n",
       "      <th>min</th>\n",
       "      <td>1.001000e+03</td>\n",
       "      <td>0.000000</td>\n",
       "      <td>0.000000</td>\n",
       "    </tr>\n",
       "    <tr>\n",
       "      <th>25%</th>\n",
       "      <td>2.109100e+04</td>\n",
       "      <td>68.000000</td>\n",
       "      <td>0.094000</td>\n",
       "    </tr>\n",
       "    <tr>\n",
       "      <th>50%</th>\n",
       "      <td>4.208100e+04</td>\n",
       "      <td>358.000000</td>\n",
       "      <td>0.273000</td>\n",
       "    </tr>\n",
       "    <tr>\n",
       "      <th>75%</th>\n",
       "      <td>9.090012e+07</td>\n",
       "      <td>1375.000000</td>\n",
       "      <td>0.479000</td>\n",
       "    </tr>\n",
       "    <tr>\n",
       "      <th>max</th>\n",
       "      <td>9.560004e+07</td>\n",
       "      <td>590502.000000</td>\n",
       "      <td>1.000000</td>\n",
       "    </tr>\n",
       "  </tbody>\n",
       "</table>\n",
       "</div>"
      ],
      "text/plain": [
       "               fips          votes  fraction_votes\n",
       "count  2.451100e+04   24611.000000    24611.000000\n",
       "mean   2.667152e+07    2306.252773        0.304524\n",
       "std    4.200978e+07    9861.183572        0.231401\n",
       "min    1.001000e+03       0.000000        0.000000\n",
       "25%    2.109100e+04      68.000000        0.094000\n",
       "50%    4.208100e+04     358.000000        0.273000\n",
       "75%    9.090012e+07    1375.000000        0.479000\n",
       "max    9.560004e+07  590502.000000        1.000000"
      ]
     },
     "execution_count": 44,
     "metadata": {},
     "output_type": "execute_result"
    }
   ],
   "source": [
    "# Describe -> nos brinda un resumen de la cantidad de datos, promedio, desviación estandar, minimo, máximo, etc \n",
    "# de los datos de las columnas posibles\n",
    "df.describe()"
   ]
  },
  {
   "cell_type": "markdown",
   "metadata": {
    "tags": []
   },
   "source": [
    "# 3. Seleccionando Filas y columnas \n",
    "----------------------------"
   ]
  },
  {
   "cell_type": "markdown",
   "metadata": {
    "tags": []
   },
   "source": [
    "### 3.1 Seleccion de Columnas"
   ]
  },
  {
   "cell_type": "code",
   "execution_count": 45,
   "metadata": {},
   "outputs": [
    {
     "data": {
      "text/plain": [
       "Index(['state', 'state_abbreviation', 'county', 'fips', 'party', 'candidate',\n",
       "       'votes', 'fraction_votes'],\n",
       "      dtype='object')"
      ]
     },
     "execution_count": 45,
     "metadata": {},
     "output_type": "execute_result"
    }
   ],
   "source": [
    "df.columns"
   ]
  },
  {
   "cell_type": "code",
   "execution_count": 46,
   "metadata": {},
   "outputs": [
    {
     "name": "stdout",
     "output_type": "stream",
     "text": [
      "state\n",
      "state_abbreviation\n",
      "county\n",
      "fips\n",
      "party\n",
      "candidate\n",
      "votes\n",
      "fraction_votes\n"
     ]
    }
   ],
   "source": [
    "for c in df.columns:\n",
    "    print(c)"
   ]
  },
  {
   "cell_type": "markdown",
   "metadata": {},
   "source": [
    "Seleccionamos una columna mediante '[]' como si el dataframe fuese un diccionario"
   ]
  },
  {
   "cell_type": "code",
   "execution_count": 48,
   "metadata": {},
   "outputs": [
    {
     "data": {
      "text/plain": [
       "0     Bernie Sanders\n",
       "1    Hillary Clinton\n",
       "2     Bernie Sanders\n",
       "3    Hillary Clinton\n",
       "4     Bernie Sanders\n",
       "Name: candidate, dtype: object"
      ]
     },
     "execution_count": 48,
     "metadata": {},
     "output_type": "execute_result"
    }
   ],
   "source": [
    "# Seleccion de una única columna\n",
    "df['candidate'].head()"
   ]
  },
  {
   "cell_type": "code",
   "execution_count": 49,
   "metadata": {},
   "outputs": [
    {
     "data": {
      "text/plain": [
       "0     Bernie Sanders\n",
       "1    Hillary Clinton\n",
       "2     Bernie Sanders\n",
       "3    Hillary Clinton\n",
       "4     Bernie Sanders\n",
       "Name: candidate, dtype: object"
      ]
     },
     "execution_count": 49,
     "metadata": {},
     "output_type": "execute_result"
    }
   ],
   "source": [
    "# tambien es posible la seleccion de este modo\n",
    "df.candidate.head()"
   ]
  },
  {
   "cell_type": "code",
   "execution_count": 50,
   "metadata": {},
   "outputs": [
    {
     "data": {
      "text/html": [
       "<div>\n",
       "<style scoped>\n",
       "    .dataframe tbody tr th:only-of-type {\n",
       "        vertical-align: middle;\n",
       "    }\n",
       "\n",
       "    .dataframe tbody tr th {\n",
       "        vertical-align: top;\n",
       "    }\n",
       "\n",
       "    .dataframe thead th {\n",
       "        text-align: right;\n",
       "    }\n",
       "</style>\n",
       "<table border=\"1\" class=\"dataframe\">\n",
       "  <thead>\n",
       "    <tr style=\"text-align: right;\">\n",
       "      <th></th>\n",
       "      <th>state</th>\n",
       "      <th>state_abbreviation</th>\n",
       "    </tr>\n",
       "  </thead>\n",
       "  <tbody>\n",
       "    <tr>\n",
       "      <th>0</th>\n",
       "      <td>Alabama</td>\n",
       "      <td>AL</td>\n",
       "    </tr>\n",
       "    <tr>\n",
       "      <th>1</th>\n",
       "      <td>Alabama</td>\n",
       "      <td>AL</td>\n",
       "    </tr>\n",
       "    <tr>\n",
       "      <th>2</th>\n",
       "      <td>Alabama</td>\n",
       "      <td>AL</td>\n",
       "    </tr>\n",
       "    <tr>\n",
       "      <th>3</th>\n",
       "      <td>Alabama</td>\n",
       "      <td>AL</td>\n",
       "    </tr>\n",
       "    <tr>\n",
       "      <th>4</th>\n",
       "      <td>Alabama</td>\n",
       "      <td>AL</td>\n",
       "    </tr>\n",
       "  </tbody>\n",
       "</table>\n",
       "</div>"
      ],
      "text/plain": [
       "     state state_abbreviation\n",
       "0  Alabama                 AL\n",
       "1  Alabama                 AL\n",
       "2  Alabama                 AL\n",
       "3  Alabama                 AL\n",
       "4  Alabama                 AL"
      ]
     },
     "execution_count": 50,
     "metadata": {},
     "output_type": "execute_result"
    }
   ],
   "source": [
    "# Seleccion de más de una columna\n",
    "columns_select = ['state','state_abbreviation'] # colocamos en una lista las columnas que deseamos\n",
    "df[columns_select].head()"
   ]
  },
  {
   "cell_type": "code",
   "execution_count": 53,
   "metadata": {},
   "outputs": [
    {
     "data": {
      "text/plain": [
       "10    Alabama\n",
       "12    Alabama\n",
       "14    Alabama\n",
       "16    Alabama\n",
       "18    Alabama\n",
       "Name: state, dtype: object"
      ]
     },
     "execution_count": 53,
     "metadata": {},
     "output_type": "execute_result"
    }
   ],
   "source": [
    "df[\"state\"][10:20:2]"
   ]
  },
  {
   "cell_type": "markdown",
   "metadata": {},
   "source": [
    "### 3.2 Seleccion de Filas"
   ]
  },
  {
   "cell_type": "code",
   "execution_count": 54,
   "metadata": {},
   "outputs": [
    {
     "data": {
      "text/html": [
       "<div>\n",
       "<style scoped>\n",
       "    .dataframe tbody tr th:only-of-type {\n",
       "        vertical-align: middle;\n",
       "    }\n",
       "\n",
       "    .dataframe tbody tr th {\n",
       "        vertical-align: top;\n",
       "    }\n",
       "\n",
       "    .dataframe thead th {\n",
       "        text-align: right;\n",
       "    }\n",
       "</style>\n",
       "<table border=\"1\" class=\"dataframe\">\n",
       "  <thead>\n",
       "    <tr style=\"text-align: right;\">\n",
       "      <th></th>\n",
       "      <th>state</th>\n",
       "      <th>state_abbreviation</th>\n",
       "      <th>county</th>\n",
       "      <th>fips</th>\n",
       "      <th>party</th>\n",
       "      <th>candidate</th>\n",
       "      <th>votes</th>\n",
       "      <th>fraction_votes</th>\n",
       "    </tr>\n",
       "  </thead>\n",
       "  <tbody>\n",
       "    <tr>\n",
       "      <th>0</th>\n",
       "      <td>Alabama</td>\n",
       "      <td>AL</td>\n",
       "      <td>Autauga</td>\n",
       "      <td>1001.0</td>\n",
       "      <td>Democrat</td>\n",
       "      <td>Bernie Sanders</td>\n",
       "      <td>544</td>\n",
       "      <td>0.182</td>\n",
       "    </tr>\n",
       "    <tr>\n",
       "      <th>1</th>\n",
       "      <td>Alabama</td>\n",
       "      <td>AL</td>\n",
       "      <td>Autauga</td>\n",
       "      <td>1001.0</td>\n",
       "      <td>Democrat</td>\n",
       "      <td>Hillary Clinton</td>\n",
       "      <td>2387</td>\n",
       "      <td>0.800</td>\n",
       "    </tr>\n",
       "    <tr>\n",
       "      <th>2</th>\n",
       "      <td>Alabama</td>\n",
       "      <td>AL</td>\n",
       "      <td>Baldwin</td>\n",
       "      <td>1003.0</td>\n",
       "      <td>Democrat</td>\n",
       "      <td>Bernie Sanders</td>\n",
       "      <td>2694</td>\n",
       "      <td>0.329</td>\n",
       "    </tr>\n",
       "    <tr>\n",
       "      <th>3</th>\n",
       "      <td>Alabama</td>\n",
       "      <td>AL</td>\n",
       "      <td>Baldwin</td>\n",
       "      <td>1003.0</td>\n",
       "      <td>Democrat</td>\n",
       "      <td>Hillary Clinton</td>\n",
       "      <td>5290</td>\n",
       "      <td>0.647</td>\n",
       "    </tr>\n",
       "    <tr>\n",
       "      <th>4</th>\n",
       "      <td>Alabama</td>\n",
       "      <td>AL</td>\n",
       "      <td>Barbour</td>\n",
       "      <td>1005.0</td>\n",
       "      <td>Democrat</td>\n",
       "      <td>Bernie Sanders</td>\n",
       "      <td>222</td>\n",
       "      <td>0.078</td>\n",
       "    </tr>\n",
       "  </tbody>\n",
       "</table>\n",
       "</div>"
      ],
      "text/plain": [
       "     state state_abbreviation   county    fips     party        candidate  \\\n",
       "0  Alabama                 AL  Autauga  1001.0  Democrat   Bernie Sanders   \n",
       "1  Alabama                 AL  Autauga  1001.0  Democrat  Hillary Clinton   \n",
       "2  Alabama                 AL  Baldwin  1003.0  Democrat   Bernie Sanders   \n",
       "3  Alabama                 AL  Baldwin  1003.0  Democrat  Hillary Clinton   \n",
       "4  Alabama                 AL  Barbour  1005.0  Democrat   Bernie Sanders   \n",
       "\n",
       "   votes  fraction_votes  \n",
       "0    544           0.182  \n",
       "1   2387           0.800  \n",
       "2   2694           0.329  \n",
       "3   5290           0.647  \n",
       "4    222           0.078  "
      ]
     },
     "execution_count": 54,
     "metadata": {},
     "output_type": "execute_result"
    }
   ],
   "source": [
    "df.head()"
   ]
  },
  {
   "cell_type": "markdown",
   "metadata": {},
   "source": [
    "La columna a la izquierda del state es el index. Un dataframe tiene que tener un index, que es la manera de organizar los datos."
   ]
  },
  {
   "cell_type": "code",
   "execution_count": 55,
   "metadata": {},
   "outputs": [
    {
     "data": {
      "text/plain": [
       "RangeIndex(start=0, stop=24611, step=1)"
      ]
     },
     "execution_count": 55,
     "metadata": {},
     "output_type": "execute_result"
    }
   ],
   "source": [
    "# nos indica el punto de inicio y fin del indice para el df\n",
    "df.index"
   ]
  },
  {
   "cell_type": "markdown",
   "metadata": {},
   "source": [
    "podemos seleccionar una fila mediante su index."
   ]
  },
  {
   "cell_type": "code",
   "execution_count": 56,
   "metadata": {},
   "outputs": [
    {
     "data": {
      "text/plain": [
       "state                        Alabama\n",
       "state_abbreviation                AL\n",
       "county                       Autauga\n",
       "fips                          1001.0\n",
       "party                       Democrat\n",
       "candidate             Bernie Sanders\n",
       "votes                            544\n",
       "fraction_votes                 0.182\n",
       "Name: 0, dtype: object"
      ]
     },
     "execution_count": 56,
     "metadata": {},
     "output_type": "execute_result"
    }
   ],
   "source": [
    "df.loc[0]"
   ]
  },
  {
   "cell_type": "markdown",
   "metadata": {},
   "source": [
    "**Importante:** \n",
    "\n",
    "df.loc selecciona por indice, no por posición. Podemos cambiar el indice a cualquier otra cosa, otra columna o una lista separada, siempre que el nuevo indice tenga la misma longitud que el Dataframe"
   ]
  },
  {
   "cell_type": "code",
   "execution_count": 57,
   "metadata": {},
   "outputs": [],
   "source": [
    "df2 = df.set_index(\"county\").copy()"
   ]
  },
  {
   "cell_type": "code",
   "execution_count": 58,
   "metadata": {},
   "outputs": [
    {
     "data": {
      "text/html": [
       "<div>\n",
       "<style scoped>\n",
       "    .dataframe tbody tr th:only-of-type {\n",
       "        vertical-align: middle;\n",
       "    }\n",
       "\n",
       "    .dataframe tbody tr th {\n",
       "        vertical-align: top;\n",
       "    }\n",
       "\n",
       "    .dataframe thead th {\n",
       "        text-align: right;\n",
       "    }\n",
       "</style>\n",
       "<table border=\"1\" class=\"dataframe\">\n",
       "  <thead>\n",
       "    <tr style=\"text-align: right;\">\n",
       "      <th></th>\n",
       "      <th>state</th>\n",
       "      <th>state_abbreviation</th>\n",
       "      <th>fips</th>\n",
       "      <th>party</th>\n",
       "      <th>candidate</th>\n",
       "      <th>votes</th>\n",
       "      <th>fraction_votes</th>\n",
       "    </tr>\n",
       "    <tr>\n",
       "      <th>county</th>\n",
       "      <th></th>\n",
       "      <th></th>\n",
       "      <th></th>\n",
       "      <th></th>\n",
       "      <th></th>\n",
       "      <th></th>\n",
       "      <th></th>\n",
       "    </tr>\n",
       "  </thead>\n",
       "  <tbody>\n",
       "    <tr>\n",
       "      <th>Autauga</th>\n",
       "      <td>Alabama</td>\n",
       "      <td>AL</td>\n",
       "      <td>1001.0</td>\n",
       "      <td>Democrat</td>\n",
       "      <td>Bernie Sanders</td>\n",
       "      <td>544</td>\n",
       "      <td>0.182</td>\n",
       "    </tr>\n",
       "    <tr>\n",
       "      <th>Autauga</th>\n",
       "      <td>Alabama</td>\n",
       "      <td>AL</td>\n",
       "      <td>1001.0</td>\n",
       "      <td>Democrat</td>\n",
       "      <td>Hillary Clinton</td>\n",
       "      <td>2387</td>\n",
       "      <td>0.800</td>\n",
       "    </tr>\n",
       "    <tr>\n",
       "      <th>Baldwin</th>\n",
       "      <td>Alabama</td>\n",
       "      <td>AL</td>\n",
       "      <td>1003.0</td>\n",
       "      <td>Democrat</td>\n",
       "      <td>Bernie Sanders</td>\n",
       "      <td>2694</td>\n",
       "      <td>0.329</td>\n",
       "    </tr>\n",
       "    <tr>\n",
       "      <th>Baldwin</th>\n",
       "      <td>Alabama</td>\n",
       "      <td>AL</td>\n",
       "      <td>1003.0</td>\n",
       "      <td>Democrat</td>\n",
       "      <td>Hillary Clinton</td>\n",
       "      <td>5290</td>\n",
       "      <td>0.647</td>\n",
       "    </tr>\n",
       "    <tr>\n",
       "      <th>Barbour</th>\n",
       "      <td>Alabama</td>\n",
       "      <td>AL</td>\n",
       "      <td>1005.0</td>\n",
       "      <td>Democrat</td>\n",
       "      <td>Bernie Sanders</td>\n",
       "      <td>222</td>\n",
       "      <td>0.078</td>\n",
       "    </tr>\n",
       "  </tbody>\n",
       "</table>\n",
       "</div>"
      ],
      "text/plain": [
       "           state state_abbreviation    fips     party        candidate  votes  \\\n",
       "county                                                                          \n",
       "Autauga  Alabama                 AL  1001.0  Democrat   Bernie Sanders    544   \n",
       "Autauga  Alabama                 AL  1001.0  Democrat  Hillary Clinton   2387   \n",
       "Baldwin  Alabama                 AL  1003.0  Democrat   Bernie Sanders   2694   \n",
       "Baldwin  Alabama                 AL  1003.0  Democrat  Hillary Clinton   5290   \n",
       "Barbour  Alabama                 AL  1005.0  Democrat   Bernie Sanders    222   \n",
       "\n",
       "         fraction_votes  \n",
       "county                   \n",
       "Autauga           0.182  \n",
       "Autauga           0.800  \n",
       "Baldwin           0.329  \n",
       "Baldwin           0.647  \n",
       "Barbour           0.078  "
      ]
     },
     "execution_count": 58,
     "metadata": {},
     "output_type": "execute_result"
    }
   ],
   "source": [
    "df2.head()"
   ]
  },
  {
   "cell_type": "code",
   "execution_count": 59,
   "metadata": {},
   "outputs": [
    {
     "data": {
      "text/plain": [
       "Index(['Autauga', 'Autauga', 'Baldwin', 'Baldwin', 'Barbour', 'Barbour',\n",
       "       'Bibb', 'Bibb', 'Blount', 'Blount',\n",
       "       ...\n",
       "       'Sweetwater-Carbon', 'Sweetwater-Carbon', 'Teton-Sublette',\n",
       "       'Teton-Sublette', 'Teton-Sublette', 'Teton-Sublette', 'Uinta-Lincoln',\n",
       "       'Uinta-Lincoln', 'Uinta-Lincoln', 'Uinta-Lincoln'],\n",
       "      dtype='object', name='county', length=24611)"
      ]
     },
     "execution_count": 59,
     "metadata": {},
     "output_type": "execute_result"
    }
   ],
   "source": [
    "df2.index"
   ]
  },
  {
   "cell_type": "markdown",
   "metadata": {},
   "source": [
    "Esto va a fallar por que df2 no tiene un indice numérico."
   ]
  },
  {
   "cell_type": "code",
   "execution_count": 60,
   "metadata": {
    "scrolled": true
   },
   "outputs": [
    {
     "ename": "KeyError",
     "evalue": "0",
     "output_type": "error",
     "traceback": [
      "\u001b[1;31m---------------------------------------------------------------------------\u001b[0m",
      "\u001b[1;31mKeyError\u001b[0m                                  Traceback (most recent call last)",
      "File \u001b[1;32m~\\anaconda3\\lib\\site-packages\\pandas\\core\\indexes\\base.py:3621\u001b[0m, in \u001b[0;36mIndex.get_loc\u001b[1;34m(self, key, method, tolerance)\u001b[0m\n\u001b[0;32m   3620\u001b[0m \u001b[38;5;28;01mtry\u001b[39;00m:\n\u001b[1;32m-> 3621\u001b[0m     \u001b[38;5;28;01mreturn\u001b[39;00m \u001b[38;5;28;43mself\u001b[39;49m\u001b[38;5;241;43m.\u001b[39;49m\u001b[43m_engine\u001b[49m\u001b[38;5;241;43m.\u001b[39;49m\u001b[43mget_loc\u001b[49m\u001b[43m(\u001b[49m\u001b[43mcasted_key\u001b[49m\u001b[43m)\u001b[49m\n\u001b[0;32m   3622\u001b[0m \u001b[38;5;28;01mexcept\u001b[39;00m \u001b[38;5;167;01mKeyError\u001b[39;00m \u001b[38;5;28;01mas\u001b[39;00m err:\n",
      "File \u001b[1;32m~\\anaconda3\\lib\\site-packages\\pandas\\_libs\\index.pyx:136\u001b[0m, in \u001b[0;36mpandas._libs.index.IndexEngine.get_loc\u001b[1;34m()\u001b[0m\n",
      "File \u001b[1;32m~\\anaconda3\\lib\\site-packages\\pandas\\_libs\\index.pyx:160\u001b[0m, in \u001b[0;36mpandas._libs.index.IndexEngine.get_loc\u001b[1;34m()\u001b[0m\n",
      "File \u001b[1;32m~\\anaconda3\\lib\\site-packages\\pandas\\_libs\\index.pyx:201\u001b[0m, in \u001b[0;36mpandas._libs.index.IndexEngine._get_loc_duplicates\u001b[1;34m()\u001b[0m\n",
      "File \u001b[1;32m~\\anaconda3\\lib\\site-packages\\pandas\\_libs\\index.pyx:209\u001b[0m, in \u001b[0;36mpandas._libs.index.IndexEngine._maybe_get_bool_indexer\u001b[1;34m()\u001b[0m\n",
      "File \u001b[1;32m~\\anaconda3\\lib\\site-packages\\pandas\\_libs\\index.pyx:107\u001b[0m, in \u001b[0;36mpandas._libs.index._unpack_bool_indexer\u001b[1;34m()\u001b[0m\n",
      "\u001b[1;31mKeyError\u001b[0m: 0",
      "\nThe above exception was the direct cause of the following exception:\n",
      "\u001b[1;31mKeyError\u001b[0m                                  Traceback (most recent call last)",
      "Input \u001b[1;32mIn [60]\u001b[0m, in \u001b[0;36m<cell line: 1>\u001b[1;34m()\u001b[0m\n\u001b[1;32m----> 1\u001b[0m \u001b[43mdf2\u001b[49m\u001b[38;5;241;43m.\u001b[39;49m\u001b[43mloc\u001b[49m\u001b[43m[\u001b[49m\u001b[38;5;241;43m0\u001b[39;49m\u001b[43m]\u001b[49m\n",
      "File \u001b[1;32m~\\anaconda3\\lib\\site-packages\\pandas\\core\\indexing.py:967\u001b[0m, in \u001b[0;36m_LocationIndexer.__getitem__\u001b[1;34m(self, key)\u001b[0m\n\u001b[0;32m    964\u001b[0m axis \u001b[38;5;241m=\u001b[39m \u001b[38;5;28mself\u001b[39m\u001b[38;5;241m.\u001b[39maxis \u001b[38;5;129;01mor\u001b[39;00m \u001b[38;5;241m0\u001b[39m\n\u001b[0;32m    966\u001b[0m maybe_callable \u001b[38;5;241m=\u001b[39m com\u001b[38;5;241m.\u001b[39mapply_if_callable(key, \u001b[38;5;28mself\u001b[39m\u001b[38;5;241m.\u001b[39mobj)\n\u001b[1;32m--> 967\u001b[0m \u001b[38;5;28;01mreturn\u001b[39;00m \u001b[38;5;28;43mself\u001b[39;49m\u001b[38;5;241;43m.\u001b[39;49m\u001b[43m_getitem_axis\u001b[49m\u001b[43m(\u001b[49m\u001b[43mmaybe_callable\u001b[49m\u001b[43m,\u001b[49m\u001b[43m \u001b[49m\u001b[43maxis\u001b[49m\u001b[38;5;241;43m=\u001b[39;49m\u001b[43maxis\u001b[49m\u001b[43m)\u001b[49m\n",
      "File \u001b[1;32m~\\anaconda3\\lib\\site-packages\\pandas\\core\\indexing.py:1202\u001b[0m, in \u001b[0;36m_LocIndexer._getitem_axis\u001b[1;34m(self, key, axis)\u001b[0m\n\u001b[0;32m   1200\u001b[0m \u001b[38;5;66;03m# fall thru to straight lookup\u001b[39;00m\n\u001b[0;32m   1201\u001b[0m \u001b[38;5;28mself\u001b[39m\u001b[38;5;241m.\u001b[39m_validate_key(key, axis)\n\u001b[1;32m-> 1202\u001b[0m \u001b[38;5;28;01mreturn\u001b[39;00m \u001b[38;5;28;43mself\u001b[39;49m\u001b[38;5;241;43m.\u001b[39;49m\u001b[43m_get_label\u001b[49m\u001b[43m(\u001b[49m\u001b[43mkey\u001b[49m\u001b[43m,\u001b[49m\u001b[43m \u001b[49m\u001b[43maxis\u001b[49m\u001b[38;5;241;43m=\u001b[39;49m\u001b[43maxis\u001b[49m\u001b[43m)\u001b[49m\n",
      "File \u001b[1;32m~\\anaconda3\\lib\\site-packages\\pandas\\core\\indexing.py:1153\u001b[0m, in \u001b[0;36m_LocIndexer._get_label\u001b[1;34m(self, label, axis)\u001b[0m\n\u001b[0;32m   1151\u001b[0m \u001b[38;5;28;01mdef\u001b[39;00m \u001b[38;5;21m_get_label\u001b[39m(\u001b[38;5;28mself\u001b[39m, label, axis: \u001b[38;5;28mint\u001b[39m):\n\u001b[0;32m   1152\u001b[0m     \u001b[38;5;66;03m# GH#5667 this will fail if the label is not present in the axis.\u001b[39;00m\n\u001b[1;32m-> 1153\u001b[0m     \u001b[38;5;28;01mreturn\u001b[39;00m \u001b[38;5;28;43mself\u001b[39;49m\u001b[38;5;241;43m.\u001b[39;49m\u001b[43mobj\u001b[49m\u001b[38;5;241;43m.\u001b[39;49m\u001b[43mxs\u001b[49m\u001b[43m(\u001b[49m\u001b[43mlabel\u001b[49m\u001b[43m,\u001b[49m\u001b[43m \u001b[49m\u001b[43maxis\u001b[49m\u001b[38;5;241;43m=\u001b[39;49m\u001b[43maxis\u001b[49m\u001b[43m)\u001b[49m\n",
      "File \u001b[1;32m~\\anaconda3\\lib\\site-packages\\pandas\\core\\generic.py:3876\u001b[0m, in \u001b[0;36mNDFrame.xs\u001b[1;34m(self, key, axis, level, drop_level)\u001b[0m\n\u001b[0;32m   3874\u001b[0m             new_index \u001b[38;5;241m=\u001b[39m index[loc]\n\u001b[0;32m   3875\u001b[0m \u001b[38;5;28;01melse\u001b[39;00m:\n\u001b[1;32m-> 3876\u001b[0m     loc \u001b[38;5;241m=\u001b[39m \u001b[43mindex\u001b[49m\u001b[38;5;241;43m.\u001b[39;49m\u001b[43mget_loc\u001b[49m\u001b[43m(\u001b[49m\u001b[43mkey\u001b[49m\u001b[43m)\u001b[49m\n\u001b[0;32m   3878\u001b[0m     \u001b[38;5;28;01mif\u001b[39;00m \u001b[38;5;28misinstance\u001b[39m(loc, np\u001b[38;5;241m.\u001b[39mndarray):\n\u001b[0;32m   3879\u001b[0m         \u001b[38;5;28;01mif\u001b[39;00m loc\u001b[38;5;241m.\u001b[39mdtype \u001b[38;5;241m==\u001b[39m np\u001b[38;5;241m.\u001b[39mbool_:\n",
      "File \u001b[1;32m~\\anaconda3\\lib\\site-packages\\pandas\\core\\indexes\\base.py:3623\u001b[0m, in \u001b[0;36mIndex.get_loc\u001b[1;34m(self, key, method, tolerance)\u001b[0m\n\u001b[0;32m   3621\u001b[0m     \u001b[38;5;28;01mreturn\u001b[39;00m \u001b[38;5;28mself\u001b[39m\u001b[38;5;241m.\u001b[39m_engine\u001b[38;5;241m.\u001b[39mget_loc(casted_key)\n\u001b[0;32m   3622\u001b[0m \u001b[38;5;28;01mexcept\u001b[39;00m \u001b[38;5;167;01mKeyError\u001b[39;00m \u001b[38;5;28;01mas\u001b[39;00m err:\n\u001b[1;32m-> 3623\u001b[0m     \u001b[38;5;28;01mraise\u001b[39;00m \u001b[38;5;167;01mKeyError\u001b[39;00m(key) \u001b[38;5;28;01mfrom\u001b[39;00m \u001b[38;5;21;01merr\u001b[39;00m\n\u001b[0;32m   3624\u001b[0m \u001b[38;5;28;01mexcept\u001b[39;00m \u001b[38;5;167;01mTypeError\u001b[39;00m:\n\u001b[0;32m   3625\u001b[0m     \u001b[38;5;66;03m# If we have a listlike key, _check_indexing_error will raise\u001b[39;00m\n\u001b[0;32m   3626\u001b[0m     \u001b[38;5;66;03m#  InvalidIndexError. Otherwise we fall through and re-raise\u001b[39;00m\n\u001b[0;32m   3627\u001b[0m     \u001b[38;5;66;03m#  the TypeError.\u001b[39;00m\n\u001b[0;32m   3628\u001b[0m     \u001b[38;5;28mself\u001b[39m\u001b[38;5;241m.\u001b[39m_check_indexing_error(key)\n",
      "\u001b[1;31mKeyError\u001b[0m: 0"
     ]
    }
   ],
   "source": [
    "df2.loc[0] # loc -> dado que el indice 0 ya no existe"
   ]
  },
  {
   "cell_type": "markdown",
   "metadata": {},
   "source": [
    "Ahora podemos seleccionar por condado"
   ]
  },
  {
   "cell_type": "code",
   "execution_count": 61,
   "metadata": {},
   "outputs": [
    {
     "data": {
      "text/html": [
       "<div>\n",
       "<style scoped>\n",
       "    .dataframe tbody tr th:only-of-type {\n",
       "        vertical-align: middle;\n",
       "    }\n",
       "\n",
       "    .dataframe tbody tr th {\n",
       "        vertical-align: top;\n",
       "    }\n",
       "\n",
       "    .dataframe thead th {\n",
       "        text-align: right;\n",
       "    }\n",
       "</style>\n",
       "<table border=\"1\" class=\"dataframe\">\n",
       "  <thead>\n",
       "    <tr style=\"text-align: right;\">\n",
       "      <th></th>\n",
       "      <th>state</th>\n",
       "      <th>state_abbreviation</th>\n",
       "      <th>fips</th>\n",
       "      <th>party</th>\n",
       "      <th>candidate</th>\n",
       "      <th>votes</th>\n",
       "      <th>fraction_votes</th>\n",
       "    </tr>\n",
       "    <tr>\n",
       "      <th>county</th>\n",
       "      <th></th>\n",
       "      <th></th>\n",
       "      <th></th>\n",
       "      <th></th>\n",
       "      <th></th>\n",
       "      <th></th>\n",
       "      <th></th>\n",
       "    </tr>\n",
       "  </thead>\n",
       "  <tbody>\n",
       "    <tr>\n",
       "      <th>Teton-Sublette</th>\n",
       "      <td>Wyoming</td>\n",
       "      <td>WY</td>\n",
       "      <td>95600028.0</td>\n",
       "      <td>Republican</td>\n",
       "      <td>Donald Trump</td>\n",
       "      <td>21</td>\n",
       "      <td>0.525</td>\n",
       "    </tr>\n",
       "    <tr>\n",
       "      <th>Teton-Sublette</th>\n",
       "      <td>Wyoming</td>\n",
       "      <td>WY</td>\n",
       "      <td>95600028.0</td>\n",
       "      <td>Republican</td>\n",
       "      <td>John Kasich</td>\n",
       "      <td>0</td>\n",
       "      <td>0.000</td>\n",
       "    </tr>\n",
       "    <tr>\n",
       "      <th>Teton-Sublette</th>\n",
       "      <td>Wyoming</td>\n",
       "      <td>WY</td>\n",
       "      <td>95600028.0</td>\n",
       "      <td>Republican</td>\n",
       "      <td>Marco Rubio</td>\n",
       "      <td>19</td>\n",
       "      <td>0.475</td>\n",
       "    </tr>\n",
       "    <tr>\n",
       "      <th>Teton-Sublette</th>\n",
       "      <td>Wyoming</td>\n",
       "      <td>WY</td>\n",
       "      <td>95600028.0</td>\n",
       "      <td>Republican</td>\n",
       "      <td>Ted Cruz</td>\n",
       "      <td>0</td>\n",
       "      <td>0.000</td>\n",
       "    </tr>\n",
       "  </tbody>\n",
       "</table>\n",
       "</div>"
      ],
      "text/plain": [
       "                  state state_abbreviation        fips       party  \\\n",
       "county                                                               \n",
       "Teton-Sublette  Wyoming                 WY  95600028.0  Republican   \n",
       "Teton-Sublette  Wyoming                 WY  95600028.0  Republican   \n",
       "Teton-Sublette  Wyoming                 WY  95600028.0  Republican   \n",
       "Teton-Sublette  Wyoming                 WY  95600028.0  Republican   \n",
       "\n",
       "                   candidate  votes  fraction_votes  \n",
       "county                                               \n",
       "Teton-Sublette  Donald Trump     21           0.525  \n",
       "Teton-Sublette   John Kasich      0           0.000  \n",
       "Teton-Sublette   Marco Rubio     19           0.475  \n",
       "Teton-Sublette      Ted Cruz      0           0.000  "
      ]
     },
     "execution_count": 61,
     "metadata": {},
     "output_type": "execute_result"
    }
   ],
   "source": [
    "df2.loc[\"Teton-Sublette\"] # seleccionamos filas cuyo indice sea 'Teton-Sublette'"
   ]
  },
  {
   "cell_type": "markdown",
   "metadata": {},
   "source": [
    "Si queremos seleccionar por el numero de fila independientemente del índice, podemos usar `iloc`"
   ]
  },
  {
   "cell_type": "code",
   "execution_count": 62,
   "metadata": {},
   "outputs": [
    {
     "data": {
      "text/plain": [
       "state                        Alabama\n",
       "state_abbreviation                AL\n",
       "fips                          1101.0\n",
       "party                       Democrat\n",
       "candidate             Bernie Sanders\n",
       "votes                           4266\n",
       "fraction_votes                 0.128\n",
       "Name: Montgomery, dtype: object"
      ]
     },
     "execution_count": 62,
     "metadata": {},
     "output_type": "execute_result"
    }
   ],
   "source": [
    "df2.iloc[100]"
   ]
  },
  {
   "cell_type": "code",
   "execution_count": 63,
   "metadata": {},
   "outputs": [
    {
     "data": {
      "text/html": [
       "<div>\n",
       "<style scoped>\n",
       "    .dataframe tbody tr th:only-of-type {\n",
       "        vertical-align: middle;\n",
       "    }\n",
       "\n",
       "    .dataframe tbody tr th {\n",
       "        vertical-align: top;\n",
       "    }\n",
       "\n",
       "    .dataframe thead th {\n",
       "        text-align: right;\n",
       "    }\n",
       "</style>\n",
       "<table border=\"1\" class=\"dataframe\">\n",
       "  <thead>\n",
       "    <tr style=\"text-align: right;\">\n",
       "      <th></th>\n",
       "      <th>state</th>\n",
       "      <th>state_abbreviation</th>\n",
       "      <th>fips</th>\n",
       "      <th>party</th>\n",
       "      <th>candidate</th>\n",
       "      <th>votes</th>\n",
       "      <th>fraction_votes</th>\n",
       "    </tr>\n",
       "    <tr>\n",
       "      <th>county</th>\n",
       "      <th></th>\n",
       "      <th></th>\n",
       "      <th></th>\n",
       "      <th></th>\n",
       "      <th></th>\n",
       "      <th></th>\n",
       "      <th></th>\n",
       "    </tr>\n",
       "  </thead>\n",
       "  <tbody>\n",
       "    <tr>\n",
       "      <th>Chilton</th>\n",
       "      <td>Alabama</td>\n",
       "      <td>AL</td>\n",
       "      <td>1021.0</td>\n",
       "      <td>Democrat</td>\n",
       "      <td>Bernie Sanders</td>\n",
       "      <td>289</td>\n",
       "      <td>0.246</td>\n",
       "    </tr>\n",
       "    <tr>\n",
       "      <th>Chilton</th>\n",
       "      <td>Alabama</td>\n",
       "      <td>AL</td>\n",
       "      <td>1021.0</td>\n",
       "      <td>Democrat</td>\n",
       "      <td>Hillary Clinton</td>\n",
       "      <td>860</td>\n",
       "      <td>0.731</td>\n",
       "    </tr>\n",
       "    <tr>\n",
       "      <th>Choctaw</th>\n",
       "      <td>Alabama</td>\n",
       "      <td>AL</td>\n",
       "      <td>1023.0</td>\n",
       "      <td>Democrat</td>\n",
       "      <td>Bernie Sanders</td>\n",
       "      <td>273</td>\n",
       "      <td>0.124</td>\n",
       "    </tr>\n",
       "    <tr>\n",
       "      <th>Choctaw</th>\n",
       "      <td>Alabama</td>\n",
       "      <td>AL</td>\n",
       "      <td>1023.0</td>\n",
       "      <td>Democrat</td>\n",
       "      <td>Hillary Clinton</td>\n",
       "      <td>1772</td>\n",
       "      <td>0.802</td>\n",
       "    </tr>\n",
       "    <tr>\n",
       "      <th>Clarke</th>\n",
       "      <td>Alabama</td>\n",
       "      <td>AL</td>\n",
       "      <td>1025.0</td>\n",
       "      <td>Democrat</td>\n",
       "      <td>Bernie Sanders</td>\n",
       "      <td>213</td>\n",
       "      <td>0.063</td>\n",
       "    </tr>\n",
       "  </tbody>\n",
       "</table>\n",
       "</div>"
      ],
      "text/plain": [
       "           state state_abbreviation    fips     party        candidate  votes  \\\n",
       "county                                                                          \n",
       "Chilton  Alabama                 AL  1021.0  Democrat   Bernie Sanders    289   \n",
       "Chilton  Alabama                 AL  1021.0  Democrat  Hillary Clinton    860   \n",
       "Choctaw  Alabama                 AL  1023.0  Democrat   Bernie Sanders    273   \n",
       "Choctaw  Alabama                 AL  1023.0  Democrat  Hillary Clinton   1772   \n",
       "Clarke   Alabama                 AL  1025.0  Democrat   Bernie Sanders    213   \n",
       "\n",
       "         fraction_votes  \n",
       "county                   \n",
       "Chilton           0.246  \n",
       "Chilton           0.731  \n",
       "Choctaw           0.124  \n",
       "Choctaw           0.802  \n",
       "Clarke            0.063  "
      ]
     },
     "execution_count": 63,
     "metadata": {},
     "output_type": "execute_result"
    }
   ],
   "source": [
    "df2.iloc[20:25]"
   ]
  },
  {
   "cell_type": "code",
   "execution_count": 64,
   "metadata": {},
   "outputs": [],
   "source": [
    "# volviendo el indice a su valor inicial\n",
    "df2.reset_index(drop=True, inplace=True) # inplace -> se encarga de efectuar el cambio sobre el df"
   ]
  },
  {
   "cell_type": "code",
   "execution_count": 65,
   "metadata": {},
   "outputs": [
    {
     "data": {
      "text/html": [
       "<div>\n",
       "<style scoped>\n",
       "    .dataframe tbody tr th:only-of-type {\n",
       "        vertical-align: middle;\n",
       "    }\n",
       "\n",
       "    .dataframe tbody tr th {\n",
       "        vertical-align: top;\n",
       "    }\n",
       "\n",
       "    .dataframe thead th {\n",
       "        text-align: right;\n",
       "    }\n",
       "</style>\n",
       "<table border=\"1\" class=\"dataframe\">\n",
       "  <thead>\n",
       "    <tr style=\"text-align: right;\">\n",
       "      <th></th>\n",
       "      <th>state</th>\n",
       "      <th>state_abbreviation</th>\n",
       "      <th>fips</th>\n",
       "      <th>party</th>\n",
       "      <th>candidate</th>\n",
       "      <th>votes</th>\n",
       "      <th>fraction_votes</th>\n",
       "    </tr>\n",
       "  </thead>\n",
       "  <tbody>\n",
       "    <tr>\n",
       "      <th>0</th>\n",
       "      <td>Alabama</td>\n",
       "      <td>AL</td>\n",
       "      <td>1001.0</td>\n",
       "      <td>Democrat</td>\n",
       "      <td>Bernie Sanders</td>\n",
       "      <td>544</td>\n",
       "      <td>0.182</td>\n",
       "    </tr>\n",
       "    <tr>\n",
       "      <th>1</th>\n",
       "      <td>Alabama</td>\n",
       "      <td>AL</td>\n",
       "      <td>1001.0</td>\n",
       "      <td>Democrat</td>\n",
       "      <td>Hillary Clinton</td>\n",
       "      <td>2387</td>\n",
       "      <td>0.800</td>\n",
       "    </tr>\n",
       "    <tr>\n",
       "      <th>2</th>\n",
       "      <td>Alabama</td>\n",
       "      <td>AL</td>\n",
       "      <td>1003.0</td>\n",
       "      <td>Democrat</td>\n",
       "      <td>Bernie Sanders</td>\n",
       "      <td>2694</td>\n",
       "      <td>0.329</td>\n",
       "    </tr>\n",
       "    <tr>\n",
       "      <th>3</th>\n",
       "      <td>Alabama</td>\n",
       "      <td>AL</td>\n",
       "      <td>1003.0</td>\n",
       "      <td>Democrat</td>\n",
       "      <td>Hillary Clinton</td>\n",
       "      <td>5290</td>\n",
       "      <td>0.647</td>\n",
       "    </tr>\n",
       "    <tr>\n",
       "      <th>4</th>\n",
       "      <td>Alabama</td>\n",
       "      <td>AL</td>\n",
       "      <td>1005.0</td>\n",
       "      <td>Democrat</td>\n",
       "      <td>Bernie Sanders</td>\n",
       "      <td>222</td>\n",
       "      <td>0.078</td>\n",
       "    </tr>\n",
       "  </tbody>\n",
       "</table>\n",
       "</div>"
      ],
      "text/plain": [
       "     state state_abbreviation    fips     party        candidate  votes  \\\n",
       "0  Alabama                 AL  1001.0  Democrat   Bernie Sanders    544   \n",
       "1  Alabama                 AL  1001.0  Democrat  Hillary Clinton   2387   \n",
       "2  Alabama                 AL  1003.0  Democrat   Bernie Sanders   2694   \n",
       "3  Alabama                 AL  1003.0  Democrat  Hillary Clinton   5290   \n",
       "4  Alabama                 AL  1005.0  Democrat   Bernie Sanders    222   \n",
       "\n",
       "   fraction_votes  \n",
       "0           0.182  \n",
       "1           0.800  \n",
       "2           0.329  \n",
       "3           0.647  \n",
       "4           0.078  "
      ]
     },
     "execution_count": 65,
     "metadata": {},
     "output_type": "execute_result"
    }
   ],
   "source": [
    "df2.head()"
   ]
  },
  {
   "cell_type": "markdown",
   "metadata": {
    "tags": []
   },
   "source": [
    "# 4. Filtrado de Información\n",
    "------------------------------"
   ]
  },
  {
   "cell_type": "markdown",
   "metadata": {},
   "source": [
    "Podemos filtrar un dataframe mediante condiciones booleanas sobre columnas"
   ]
  },
  {
   "cell_type": "code",
   "execution_count": 67,
   "metadata": {},
   "outputs": [
    {
     "data": {
      "text/plain": [
       "0    False\n",
       "1    False\n",
       "2    False\n",
       "3    False\n",
       "4    False\n",
       "Name: votes, dtype: bool"
      ]
     },
     "execution_count": 67,
     "metadata": {},
     "output_type": "execute_result"
    }
   ],
   "source": [
    "# condicion -> se encarga de establecer la condicion de Verdad o Falsedad \n",
    "condicion = df['votes']>=590502\n",
    "condicion.head() "
   ]
  },
  {
   "cell_type": "code",
   "execution_count": 68,
   "metadata": {},
   "outputs": [
    {
     "data": {
      "text/html": [
       "<div>\n",
       "<style scoped>\n",
       "    .dataframe tbody tr th:only-of-type {\n",
       "        vertical-align: middle;\n",
       "    }\n",
       "\n",
       "    .dataframe tbody tr th {\n",
       "        vertical-align: top;\n",
       "    }\n",
       "\n",
       "    .dataframe thead th {\n",
       "        text-align: right;\n",
       "    }\n",
       "</style>\n",
       "<table border=\"1\" class=\"dataframe\">\n",
       "  <thead>\n",
       "    <tr style=\"text-align: right;\">\n",
       "      <th></th>\n",
       "      <th>state</th>\n",
       "      <th>state_abbreviation</th>\n",
       "      <th>county</th>\n",
       "      <th>fips</th>\n",
       "      <th>party</th>\n",
       "      <th>candidate</th>\n",
       "      <th>votes</th>\n",
       "      <th>fraction_votes</th>\n",
       "    </tr>\n",
       "  </thead>\n",
       "  <tbody>\n",
       "    <tr>\n",
       "      <th>1386</th>\n",
       "      <td>California</td>\n",
       "      <td>CA</td>\n",
       "      <td>Los Angeles</td>\n",
       "      <td>6037.0</td>\n",
       "      <td>Democrat</td>\n",
       "      <td>Hillary Clinton</td>\n",
       "      <td>590502</td>\n",
       "      <td>0.57</td>\n",
       "    </tr>\n",
       "  </tbody>\n",
       "</table>\n",
       "</div>"
      ],
      "text/plain": [
       "           state state_abbreviation       county    fips     party  \\\n",
       "1386  California                 CA  Los Angeles  6037.0  Democrat   \n",
       "\n",
       "            candidate   votes  fraction_votes  \n",
       "1386  Hillary Clinton  590502            0.57  "
      ]
     },
     "execution_count": 68,
     "metadata": {},
     "output_type": "execute_result"
    }
   ],
   "source": [
    "# usando la condicion como filtro\n",
    "df[condicion] "
   ]
  },
  {
   "cell_type": "markdown",
   "metadata": {},
   "source": [
    "podemos concatenar varias condiciones usando `&` para **AND** ,  `|` para **OR** y `~` como **NOT** o negacion.\n",
    "\n",
    "Tambien debemos recordar los operadores: `==` , `!=` , `>`, `<` , `>=` , `<=`"
   ]
  },
  {
   "cell_type": "code",
   "execution_count": 69,
   "metadata": {},
   "outputs": [
    {
     "data": {
      "text/html": [
       "<div>\n",
       "<style scoped>\n",
       "    .dataframe tbody tr th:only-of-type {\n",
       "        vertical-align: middle;\n",
       "    }\n",
       "\n",
       "    .dataframe tbody tr th {\n",
       "        vertical-align: top;\n",
       "    }\n",
       "\n",
       "    .dataframe thead th {\n",
       "        text-align: right;\n",
       "    }\n",
       "</style>\n",
       "<table border=\"1\" class=\"dataframe\">\n",
       "  <thead>\n",
       "    <tr style=\"text-align: right;\">\n",
       "      <th></th>\n",
       "      <th>state</th>\n",
       "      <th>state_abbreviation</th>\n",
       "      <th>county</th>\n",
       "      <th>fips</th>\n",
       "      <th>party</th>\n",
       "      <th>candidate</th>\n",
       "      <th>votes</th>\n",
       "      <th>fraction_votes</th>\n",
       "    </tr>\n",
       "  </thead>\n",
       "  <tbody>\n",
       "    <tr>\n",
       "      <th>15011</th>\n",
       "      <td>New York</td>\n",
       "      <td>NY</td>\n",
       "      <td>Manhattan</td>\n",
       "      <td>36061.0</td>\n",
       "      <td>Democrat</td>\n",
       "      <td>Bernie Sanders</td>\n",
       "      <td>90227</td>\n",
       "      <td>0.337</td>\n",
       "    </tr>\n",
       "    <tr>\n",
       "      <th>15012</th>\n",
       "      <td>New York</td>\n",
       "      <td>NY</td>\n",
       "      <td>Manhattan</td>\n",
       "      <td>36061.0</td>\n",
       "      <td>Democrat</td>\n",
       "      <td>Hillary Clinton</td>\n",
       "      <td>177496</td>\n",
       "      <td>0.663</td>\n",
       "    </tr>\n",
       "  </tbody>\n",
       "</table>\n",
       "</div>"
      ],
      "text/plain": [
       "          state state_abbreviation     county     fips     party  \\\n",
       "15011  New York                 NY  Manhattan  36061.0  Democrat   \n",
       "15012  New York                 NY  Manhattan  36061.0  Democrat   \n",
       "\n",
       "             candidate   votes  fraction_votes  \n",
       "15011   Bernie Sanders   90227           0.337  \n",
       "15012  Hillary Clinton  177496           0.663  "
      ]
     },
     "execution_count": 69,
     "metadata": {},
     "output_type": "execute_result"
    }
   ],
   "source": [
    "df[(df.county==\"Manhattan\") & (df.party==\"Democrat\")]"
   ]
  },
  {
   "cell_type": "markdown",
   "metadata": {},
   "source": [
    "Para ver más formas de filtrado [ver](https://towardsdatascience.com/filtering-data-frames-in-pandas-b570b1f834b9)"
   ]
  },
  {
   "cell_type": "markdown",
   "metadata": {
    "tags": []
   },
   "source": [
    "# 5. Procesadamiento de Datos\n",
    "------------------------------"
   ]
  },
  {
   "cell_type": "code",
   "execution_count": 70,
   "metadata": {},
   "outputs": [
    {
     "data": {
      "text/html": [
       "<div>\n",
       "<style scoped>\n",
       "    .dataframe tbody tr th:only-of-type {\n",
       "        vertical-align: middle;\n",
       "    }\n",
       "\n",
       "    .dataframe tbody tr th {\n",
       "        vertical-align: top;\n",
       "    }\n",
       "\n",
       "    .dataframe thead th {\n",
       "        text-align: right;\n",
       "    }\n",
       "</style>\n",
       "<table border=\"1\" class=\"dataframe\">\n",
       "  <thead>\n",
       "    <tr style=\"text-align: right;\">\n",
       "      <th></th>\n",
       "      <th>state</th>\n",
       "      <th>state_abbreviation</th>\n",
       "      <th>county</th>\n",
       "      <th>fips</th>\n",
       "      <th>party</th>\n",
       "      <th>candidate</th>\n",
       "      <th>votes</th>\n",
       "      <th>fraction_votes</th>\n",
       "    </tr>\n",
       "  </thead>\n",
       "  <tbody>\n",
       "    <tr>\n",
       "      <th>0</th>\n",
       "      <td>Alabama</td>\n",
       "      <td>AL</td>\n",
       "      <td>Autauga</td>\n",
       "      <td>1001.0</td>\n",
       "      <td>Democrat</td>\n",
       "      <td>Bernie Sanders</td>\n",
       "      <td>544</td>\n",
       "      <td>0.182</td>\n",
       "    </tr>\n",
       "    <tr>\n",
       "      <th>1</th>\n",
       "      <td>Alabama</td>\n",
       "      <td>AL</td>\n",
       "      <td>Autauga</td>\n",
       "      <td>1001.0</td>\n",
       "      <td>Democrat</td>\n",
       "      <td>Hillary Clinton</td>\n",
       "      <td>2387</td>\n",
       "      <td>0.800</td>\n",
       "    </tr>\n",
       "  </tbody>\n",
       "</table>\n",
       "</div>"
      ],
      "text/plain": [
       "     state state_abbreviation   county    fips     party        candidate  \\\n",
       "0  Alabama                 AL  Autauga  1001.0  Democrat   Bernie Sanders   \n",
       "1  Alabama                 AL  Autauga  1001.0  Democrat  Hillary Clinton   \n",
       "\n",
       "   votes  fraction_votes  \n",
       "0    544           0.182  \n",
       "1   2387           0.800  "
      ]
     },
     "execution_count": 70,
     "metadata": {},
     "output_type": "execute_result"
    }
   ],
   "source": [
    "df.head(2)"
   ]
  },
  {
   "cell_type": "markdown",
   "metadata": {},
   "source": [
    "podemos usar `sort_values` para orderar el dataframe acorde al valor de una columna o múltiples columnas"
   ]
  },
  {
   "cell_type": "code",
   "execution_count": 71,
   "metadata": {},
   "outputs": [
    {
     "data": {
      "text/html": [
       "<div>\n",
       "<style scoped>\n",
       "    .dataframe tbody tr th:only-of-type {\n",
       "        vertical-align: middle;\n",
       "    }\n",
       "\n",
       "    .dataframe tbody tr th {\n",
       "        vertical-align: top;\n",
       "    }\n",
       "\n",
       "    .dataframe thead th {\n",
       "        text-align: right;\n",
       "    }\n",
       "</style>\n",
       "<table border=\"1\" class=\"dataframe\">\n",
       "  <thead>\n",
       "    <tr style=\"text-align: right;\">\n",
       "      <th></th>\n",
       "      <th>state</th>\n",
       "      <th>state_abbreviation</th>\n",
       "      <th>county</th>\n",
       "      <th>fips</th>\n",
       "      <th>party</th>\n",
       "      <th>candidate</th>\n",
       "      <th>votes</th>\n",
       "      <th>fraction_votes</th>\n",
       "    </tr>\n",
       "  </thead>\n",
       "  <tbody>\n",
       "    <tr>\n",
       "      <th>20884</th>\n",
       "      <td>Texas</td>\n",
       "      <td>TX</td>\n",
       "      <td>Zavala</td>\n",
       "      <td>48507.0</td>\n",
       "      <td>Republican</td>\n",
       "      <td>Ben Carson</td>\n",
       "      <td>0</td>\n",
       "      <td>0.0</td>\n",
       "    </tr>\n",
       "    <tr>\n",
       "      <th>20885</th>\n",
       "      <td>Texas</td>\n",
       "      <td>TX</td>\n",
       "      <td>Zavala</td>\n",
       "      <td>48507.0</td>\n",
       "      <td>Republican</td>\n",
       "      <td>Donald Trump</td>\n",
       "      <td>0</td>\n",
       "      <td>0.0</td>\n",
       "    </tr>\n",
       "    <tr>\n",
       "      <th>20886</th>\n",
       "      <td>Texas</td>\n",
       "      <td>TX</td>\n",
       "      <td>Zavala</td>\n",
       "      <td>48507.0</td>\n",
       "      <td>Republican</td>\n",
       "      <td>John Kasich</td>\n",
       "      <td>0</td>\n",
       "      <td>0.0</td>\n",
       "    </tr>\n",
       "    <tr>\n",
       "      <th>20887</th>\n",
       "      <td>Texas</td>\n",
       "      <td>TX</td>\n",
       "      <td>Zavala</td>\n",
       "      <td>48507.0</td>\n",
       "      <td>Republican</td>\n",
       "      <td>Marco Rubio</td>\n",
       "      <td>0</td>\n",
       "      <td>0.0</td>\n",
       "    </tr>\n",
       "    <tr>\n",
       "      <th>20888</th>\n",
       "      <td>Texas</td>\n",
       "      <td>TX</td>\n",
       "      <td>Zavala</td>\n",
       "      <td>48507.0</td>\n",
       "      <td>Republican</td>\n",
       "      <td>Ted Cruz</td>\n",
       "      <td>0</td>\n",
       "      <td>0.0</td>\n",
       "    </tr>\n",
       "  </tbody>\n",
       "</table>\n",
       "</div>"
      ],
      "text/plain": [
       "       state state_abbreviation  county     fips       party     candidate  \\\n",
       "20884  Texas                 TX  Zavala  48507.0  Republican    Ben Carson   \n",
       "20885  Texas                 TX  Zavala  48507.0  Republican  Donald Trump   \n",
       "20886  Texas                 TX  Zavala  48507.0  Republican   John Kasich   \n",
       "20887  Texas                 TX  Zavala  48507.0  Republican   Marco Rubio   \n",
       "20888  Texas                 TX  Zavala  48507.0  Republican      Ted Cruz   \n",
       "\n",
       "       votes  fraction_votes  \n",
       "20884      0             0.0  \n",
       "20885      0             0.0  \n",
       "20886      0             0.0  \n",
       "20887      0             0.0  \n",
       "20888      0             0.0  "
      ]
     },
     "execution_count": 71,
     "metadata": {},
     "output_type": "execute_result"
    }
   ],
   "source": [
    "df_sorted = df.sort_values(by=[\"votes\",\"county\"], ascending=[True, False])\n",
    "df_sorted.head()"
   ]
  },
  {
   "cell_type": "markdown",
   "metadata": {},
   "source": [
    "utilizaremos `groupby` para realizar agrupamientos de informacion sobre una columnas"
   ]
  },
  {
   "cell_type": "code",
   "execution_count": 72,
   "metadata": {},
   "outputs": [
    {
     "data": {
      "text/plain": [
       "<pandas.core.groupby.generic.DataFrameGroupBy object at 0x000001801C648DC0>"
      ]
     },
     "execution_count": 72,
     "metadata": {},
     "output_type": "execute_result"
    }
   ],
   "source": [
    "df.groupby([\"state\", \"party\"])"
   ]
  },
  {
   "cell_type": "markdown",
   "metadata": {},
   "source": [
    "El agrupamiento de datos implica utilizar funciones de agregacion como: `count`, `sum`, `mean`, `min`, `max` a una columna del df"
   ]
  },
  {
   "cell_type": "code",
   "execution_count": 73,
   "metadata": {
    "scrolled": true,
    "tags": []
   },
   "outputs": [
    {
     "data": {
      "text/plain": [
       "state           party     \n",
       "Alabama         Democrat       386327\n",
       "                Republican     837632\n",
       "Alaska          Democrat          539\n",
       "                Republican      21930\n",
       "Arizona         Democrat       399097\n",
       "                Republican     435103\n",
       "Arkansas        Democrat       209448\n",
       "                Republican     396523\n",
       "California      Democrat      3442623\n",
       "                Republican    1495574\n",
       "Colorado        Democrat       121184\n",
       "Connecticut     Democrat       322485\n",
       "                Republican     208817\n",
       "Delaware        Democrat        92609\n",
       "                Republican      67807\n",
       "Florida         Democrat      1664003\n",
       "                Republican    2276926\n",
       "Georgia         Democrat       757340\n",
       "                Republican    1275601\n",
       "Hawaii          Democrat        33658\n",
       "                Republican      13228\n",
       "Idaho           Democrat        23705\n",
       "                Republican     215284\n",
       "Illinois        Democrat      1987834\n",
       "                Republican    1384703\n",
       "Indiana         Democrat       638638\n",
       "                Republican    1080653\n",
       "Iowa            Democrat       139980\n",
       "                Republican     186724\n",
       "Kansas          Democrat        39043\n",
       "                Republican      72253\n",
       "Kentucky        Democrat       423176\n",
       "                Republican     225709\n",
       "Louisiana       Democrat       293855\n",
       "                Republican     291926\n",
       "Maine           Democrat         3415\n",
       "Maryland        Democrat       814522\n",
       "                Republican     418750\n",
       "Massachusetts   Democrat      1198652\n",
       "                Republican     614668\n",
       "Michigan        Democrat      1172017\n",
       "                Republican    1259094\n",
       "Mississippi     Democrat       218795\n",
       "                Republican     395405\n",
       "Missouri        Democrat       619673\n",
       "                Republican     911999\n",
       "Montana         Democrat       118362\n",
       "                Republican     139154\n",
       "Nebraska        Democrat        33460\n",
       "                Republican     180231\n",
       "Nevada          Democrat        11937\n",
       "                Republican      74878\n",
       "New Hampshire   Democrat       246836\n",
       "                Republican     279130\n",
       "New Jersey      Democrat       877496\n",
       "                Republican     443724\n",
       "New Mexico      Democrat       214307\n",
       "                Republican      95225\n",
       "New York        Democrat      1817552\n",
       "                Republican     868987\n",
       "North Carolina  Democrat      1076699\n",
       "                Republican    1109048\n",
       "North Dakota    Democrat          354\n",
       "Ohio            Democrat      1192815\n",
       "                Republican    2011357\n",
       "Oklahoma        Democrat       313392\n",
       "                Republican     452731\n",
       "Oregon          Democrat       572485\n",
       "                Republican     361490\n",
       "Pennsylvania    Democrat      1638644\n",
       "                Republican    1537696\n",
       "Rhode Island    Democrat       119213\n",
       "                Republican      60381\n",
       "South Carolina  Democrat       367491\n",
       "                Republican     737917\n",
       "South Dakota    Democrat        53004\n",
       "                Republican      66877\n",
       "Tennessee       Democrat       365637\n",
       "                Republican     834939\n",
       "Texas           Democrat      1410641\n",
       "                Republican    2737248\n",
       "Utah            Democrat        76999\n",
       "                Republican     177204\n",
       "Vermont         Democrat       134198\n",
       "                Republican      58762\n",
       "Virginia        Democrat       778865\n",
       "                Republican    1012807\n",
       "Washington      Democrat        26299\n",
       "                Republican     510851\n",
       "West Virginia   Democrat       210214\n",
       "                Republican     188138\n",
       "Wisconsin       Democrat      1000703\n",
       "                Republican    1072699\n",
       "Wyoming         Democrat          280\n",
       "                Republican        903\n",
       "Name: votes, dtype: int64"
      ]
     },
     "execution_count": 73,
     "metadata": {},
     "output_type": "execute_result"
    }
   ],
   "source": [
    "df.groupby([\"state\", \"party\"])[\"votes\"].sum()"
   ]
  },
  {
   "cell_type": "markdown",
   "metadata": {},
   "source": [
    "Es posible añadir una nueva columna al df utilizando un valor en especifico"
   ]
  },
  {
   "cell_type": "code",
   "execution_count": 76,
   "metadata": {},
   "outputs": [
    {
     "data": {
      "text/html": [
       "<div>\n",
       "<style scoped>\n",
       "    .dataframe tbody tr th:only-of-type {\n",
       "        vertical-align: middle;\n",
       "    }\n",
       "\n",
       "    .dataframe tbody tr th {\n",
       "        vertical-align: top;\n",
       "    }\n",
       "\n",
       "    .dataframe thead th {\n",
       "        text-align: right;\n",
       "    }\n",
       "</style>\n",
       "<table border=\"1\" class=\"dataframe\">\n",
       "  <thead>\n",
       "    <tr style=\"text-align: right;\">\n",
       "      <th></th>\n",
       "      <th>state</th>\n",
       "      <th>state_abbreviation</th>\n",
       "      <th>county</th>\n",
       "      <th>fips</th>\n",
       "      <th>party</th>\n",
       "      <th>candidate</th>\n",
       "      <th>votes</th>\n",
       "      <th>fraction_votes</th>\n",
       "      <th>nueva_columna</th>\n",
       "      <th>etiqueta_votos</th>\n",
       "    </tr>\n",
       "  </thead>\n",
       "  <tbody>\n",
       "    <tr>\n",
       "      <th>0</th>\n",
       "      <td>Alabama</td>\n",
       "      <td>AL</td>\n",
       "      <td>Autauga</td>\n",
       "      <td>1001.0</td>\n",
       "      <td>Democrat</td>\n",
       "      <td>Bernie Sanders</td>\n",
       "      <td>544</td>\n",
       "      <td>0.182</td>\n",
       "      <td>1</td>\n",
       "      <td>Menor</td>\n",
       "    </tr>\n",
       "    <tr>\n",
       "      <th>1</th>\n",
       "      <td>Alabama</td>\n",
       "      <td>AL</td>\n",
       "      <td>Autauga</td>\n",
       "      <td>1001.0</td>\n",
       "      <td>Democrat</td>\n",
       "      <td>Hillary Clinton</td>\n",
       "      <td>2387</td>\n",
       "      <td>0.800</td>\n",
       "      <td>1</td>\n",
       "      <td>Mayor</td>\n",
       "    </tr>\n",
       "    <tr>\n",
       "      <th>2</th>\n",
       "      <td>Alabama</td>\n",
       "      <td>AL</td>\n",
       "      <td>Baldwin</td>\n",
       "      <td>1003.0</td>\n",
       "      <td>Democrat</td>\n",
       "      <td>Bernie Sanders</td>\n",
       "      <td>2694</td>\n",
       "      <td>0.329</td>\n",
       "      <td>1</td>\n",
       "      <td>Mayor</td>\n",
       "    </tr>\n",
       "    <tr>\n",
       "      <th>3</th>\n",
       "      <td>Alabama</td>\n",
       "      <td>AL</td>\n",
       "      <td>Baldwin</td>\n",
       "      <td>1003.0</td>\n",
       "      <td>Democrat</td>\n",
       "      <td>Hillary Clinton</td>\n",
       "      <td>5290</td>\n",
       "      <td>0.647</td>\n",
       "      <td>1</td>\n",
       "      <td>Mayor</td>\n",
       "    </tr>\n",
       "    <tr>\n",
       "      <th>4</th>\n",
       "      <td>Alabama</td>\n",
       "      <td>AL</td>\n",
       "      <td>Barbour</td>\n",
       "      <td>1005.0</td>\n",
       "      <td>Democrat</td>\n",
       "      <td>Bernie Sanders</td>\n",
       "      <td>222</td>\n",
       "      <td>0.078</td>\n",
       "      <td>1</td>\n",
       "      <td>Menor</td>\n",
       "    </tr>\n",
       "  </tbody>\n",
       "</table>\n",
       "</div>"
      ],
      "text/plain": [
       "     state state_abbreviation   county    fips     party        candidate  \\\n",
       "0  Alabama                 AL  Autauga  1001.0  Democrat   Bernie Sanders   \n",
       "1  Alabama                 AL  Autauga  1001.0  Democrat  Hillary Clinton   \n",
       "2  Alabama                 AL  Baldwin  1003.0  Democrat   Bernie Sanders   \n",
       "3  Alabama                 AL  Baldwin  1003.0  Democrat  Hillary Clinton   \n",
       "4  Alabama                 AL  Barbour  1005.0  Democrat   Bernie Sanders   \n",
       "\n",
       "   votes  fraction_votes  nueva_columna etiqueta_votos  \n",
       "0    544           0.182              1          Menor  \n",
       "1   2387           0.800              1          Mayor  \n",
       "2   2694           0.329              1          Mayor  \n",
       "3   5290           0.647              1          Mayor  \n",
       "4    222           0.078              1          Menor  "
      ]
     },
     "execution_count": 84,
     "metadata": {},
     "output_type": "execute_result"
    }
   ],
   "source": [
    "# creo una columna 'nueva_columna' con el valor de 1 \n",
    "df['nueva_columna'] = 1\n",
    "df.head()"
   ]
  },
  {
   "cell_type": "markdown",
   "metadata": {},
   "source": [
    "podemos usar `apply` en una columna para obtener una nueva columna en función de sus valores"
   ]
  },
  {
   "cell_type": "code",
   "execution_count": 50,
   "metadata": {
    "scrolled": true
   },
   "outputs": [],
   "source": [
    "# creo una nueva columna a partir de los datos de otra\n",
    "df['letra_inicial'] = df.state_abbreviation.apply(lambda s: s[0])  # obtengo primera letra de state_abbreviation"
   ]
  },
  {
   "cell_type": "code",
   "execution_count": 77,
   "metadata": {},
   "outputs": [],
   "source": [
    "def get_label(fraction:float):\n",
    "    \n",
    "    if fraction>0.2:\n",
    "        return \"Mayor\"\n",
    "    else:\n",
    "        return \"Menor\""
   ]
  },
  {
   "cell_type": "code",
   "execution_count": 85,
   "metadata": {},
   "outputs": [],
   "source": [
    "df['etiqueta_votos'] = df.fraction_votes.apply(get_label)"
   ]
  },
  {
   "cell_type": "code",
   "execution_count": 86,
   "metadata": {},
   "outputs": [
    {
     "data": {
      "text/html": [
       "<div>\n",
       "<style scoped>\n",
       "    .dataframe tbody tr th:only-of-type {\n",
       "        vertical-align: middle;\n",
       "    }\n",
       "\n",
       "    .dataframe tbody tr th {\n",
       "        vertical-align: top;\n",
       "    }\n",
       "\n",
       "    .dataframe thead th {\n",
       "        text-align: right;\n",
       "    }\n",
       "</style>\n",
       "<table border=\"1\" class=\"dataframe\">\n",
       "  <thead>\n",
       "    <tr style=\"text-align: right;\">\n",
       "      <th></th>\n",
       "      <th>state</th>\n",
       "      <th>state_abbreviation</th>\n",
       "      <th>county</th>\n",
       "      <th>fips</th>\n",
       "      <th>party</th>\n",
       "      <th>candidate</th>\n",
       "      <th>votes</th>\n",
       "      <th>fraction_votes</th>\n",
       "      <th>nueva_columna</th>\n",
       "      <th>etiqueta_votos</th>\n",
       "    </tr>\n",
       "  </thead>\n",
       "  <tbody>\n",
       "    <tr>\n",
       "      <th>0</th>\n",
       "      <td>Alabama</td>\n",
       "      <td>AL</td>\n",
       "      <td>Autauga</td>\n",
       "      <td>1001.0</td>\n",
       "      <td>Democrat</td>\n",
       "      <td>Bernie Sanders</td>\n",
       "      <td>544</td>\n",
       "      <td>0.182</td>\n",
       "      <td>1</td>\n",
       "      <td>Menor</td>\n",
       "    </tr>\n",
       "    <tr>\n",
       "      <th>1</th>\n",
       "      <td>Alabama</td>\n",
       "      <td>AL</td>\n",
       "      <td>Autauga</td>\n",
       "      <td>1001.0</td>\n",
       "      <td>Democrat</td>\n",
       "      <td>Hillary Clinton</td>\n",
       "      <td>2387</td>\n",
       "      <td>0.800</td>\n",
       "      <td>1</td>\n",
       "      <td>Mayor</td>\n",
       "    </tr>\n",
       "    <tr>\n",
       "      <th>2</th>\n",
       "      <td>Alabama</td>\n",
       "      <td>AL</td>\n",
       "      <td>Baldwin</td>\n",
       "      <td>1003.0</td>\n",
       "      <td>Democrat</td>\n",
       "      <td>Bernie Sanders</td>\n",
       "      <td>2694</td>\n",
       "      <td>0.329</td>\n",
       "      <td>1</td>\n",
       "      <td>Mayor</td>\n",
       "    </tr>\n",
       "    <tr>\n",
       "      <th>3</th>\n",
       "      <td>Alabama</td>\n",
       "      <td>AL</td>\n",
       "      <td>Baldwin</td>\n",
       "      <td>1003.0</td>\n",
       "      <td>Democrat</td>\n",
       "      <td>Hillary Clinton</td>\n",
       "      <td>5290</td>\n",
       "      <td>0.647</td>\n",
       "      <td>1</td>\n",
       "      <td>Mayor</td>\n",
       "    </tr>\n",
       "    <tr>\n",
       "      <th>4</th>\n",
       "      <td>Alabama</td>\n",
       "      <td>AL</td>\n",
       "      <td>Barbour</td>\n",
       "      <td>1005.0</td>\n",
       "      <td>Democrat</td>\n",
       "      <td>Bernie Sanders</td>\n",
       "      <td>222</td>\n",
       "      <td>0.078</td>\n",
       "      <td>1</td>\n",
       "      <td>Menor</td>\n",
       "    </tr>\n",
       "  </tbody>\n",
       "</table>\n",
       "</div>"
      ],
      "text/plain": [
       "     state state_abbreviation   county    fips     party        candidate  \\\n",
       "0  Alabama                 AL  Autauga  1001.0  Democrat   Bernie Sanders   \n",
       "1  Alabama                 AL  Autauga  1001.0  Democrat  Hillary Clinton   \n",
       "2  Alabama                 AL  Baldwin  1003.0  Democrat   Bernie Sanders   \n",
       "3  Alabama                 AL  Baldwin  1003.0  Democrat  Hillary Clinton   \n",
       "4  Alabama                 AL  Barbour  1005.0  Democrat   Bernie Sanders   \n",
       "\n",
       "   votes  fraction_votes  nueva_columna etiqueta_votos  \n",
       "0    544           0.182              1          Menor  \n",
       "1   2387           0.800              1          Mayor  \n",
       "2   2694           0.329              1          Mayor  \n",
       "3   5290           0.647              1          Mayor  \n",
       "4    222           0.078              1          Menor  "
      ]
     },
     "execution_count": 86,
     "metadata": {},
     "output_type": "execute_result"
    }
   ],
   "source": [
    "df.head()"
   ]
  },
  {
   "cell_type": "code",
   "execution_count": 52,
   "metadata": {},
   "outputs": [
    {
     "data": {
      "text/plain": [
       "letra_inicial\n",
       "H      46886\n",
       "D     160416\n",
       "R     179594\n",
       "U     254203\n",
       "L     585781\n",
       "K     760181\n",
       "S    1225289\n",
       "V    1984632\n",
       "G    2032941\n",
       "A    2686599\n",
       "W    3010087\n",
       "P    3176340\n",
       "F    3940929\n",
       "O    4904270\n",
       "T    5348465\n",
       "C    5590683\n",
       "I    5657521\n",
       "N    7329864\n",
       "M    7884506\n",
       "Name: votes, dtype: int64"
      ]
     },
     "execution_count": 52,
     "metadata": {},
     "output_type": "execute_result"
    }
   ],
   "source": [
    "df.groupby(\"letra_inicial\")[\"votes\"].sum().sort_values()"
   ]
  },
  {
   "cell_type": "markdown",
   "metadata": {},
   "source": [
    "Podemos unir dos dataframes en funcion de sus columnas comunes usando `merge`\n",
    "\n",
    "La operacion merge implica combinar 2 df a partir de uno o más valores llave o `key`"
   ]
  },
  {
   "cell_type": "markdown",
   "metadata": {},
   "source": [
    "<img src='./img/merge.png'>"
   ]
  },
  {
   "cell_type": "code",
   "execution_count": 87,
   "metadata": {},
   "outputs": [],
   "source": [
    "# Descargamos datos de pobreza por condado en US en https://www.ers.usda.gov/data-products/county-level-data-sets/county-level-data-sets-download-data/\n",
    "df_pobreza = pd.read_csv(\"./src/input/PovertyEstimates.csv\")"
   ]
  },
  {
   "cell_type": "code",
   "execution_count": 88,
   "metadata": {},
   "outputs": [
    {
     "data": {
      "text/html": [
       "<div>\n",
       "<style scoped>\n",
       "    .dataframe tbody tr th:only-of-type {\n",
       "        vertical-align: middle;\n",
       "    }\n",
       "\n",
       "    .dataframe tbody tr th {\n",
       "        vertical-align: top;\n",
       "    }\n",
       "\n",
       "    .dataframe thead th {\n",
       "        text-align: right;\n",
       "    }\n",
       "</style>\n",
       "<table border=\"1\" class=\"dataframe\">\n",
       "  <thead>\n",
       "    <tr style=\"text-align: right;\">\n",
       "      <th></th>\n",
       "      <th>FIPStxt</th>\n",
       "      <th>PCTPOVALL_2015</th>\n",
       "    </tr>\n",
       "  </thead>\n",
       "  <tbody>\n",
       "    <tr>\n",
       "      <th>0</th>\n",
       "      <td>0</td>\n",
       "      <td>14.7</td>\n",
       "    </tr>\n",
       "    <tr>\n",
       "      <th>1</th>\n",
       "      <td>1000</td>\n",
       "      <td>18.5</td>\n",
       "    </tr>\n",
       "    <tr>\n",
       "      <th>2</th>\n",
       "      <td>1001</td>\n",
       "      <td>12.7</td>\n",
       "    </tr>\n",
       "    <tr>\n",
       "      <th>3</th>\n",
       "      <td>1003</td>\n",
       "      <td>12.9</td>\n",
       "    </tr>\n",
       "    <tr>\n",
       "      <th>4</th>\n",
       "      <td>1005</td>\n",
       "      <td>32.0</td>\n",
       "    </tr>\n",
       "  </tbody>\n",
       "</table>\n",
       "</div>"
      ],
      "text/plain": [
       "   FIPStxt  PCTPOVALL_2015\n",
       "0        0            14.7\n",
       "1     1000            18.5\n",
       "2     1001            12.7\n",
       "3     1003            12.9\n",
       "4     1005            32.0"
      ]
     },
     "execution_count": 88,
     "metadata": {},
     "output_type": "execute_result"
    }
   ],
   "source": [
    "df_pobreza.head()"
   ]
  },
  {
   "cell_type": "code",
   "execution_count": 89,
   "metadata": {},
   "outputs": [
    {
     "data": {
      "text/html": [
       "<div>\n",
       "<style scoped>\n",
       "    .dataframe tbody tr th:only-of-type {\n",
       "        vertical-align: middle;\n",
       "    }\n",
       "\n",
       "    .dataframe tbody tr th {\n",
       "        vertical-align: top;\n",
       "    }\n",
       "\n",
       "    .dataframe thead th {\n",
       "        text-align: right;\n",
       "    }\n",
       "</style>\n",
       "<table border=\"1\" class=\"dataframe\">\n",
       "  <thead>\n",
       "    <tr style=\"text-align: right;\">\n",
       "      <th></th>\n",
       "      <th>state</th>\n",
       "      <th>state_abbreviation</th>\n",
       "      <th>county</th>\n",
       "      <th>fips</th>\n",
       "      <th>party</th>\n",
       "      <th>candidate</th>\n",
       "      <th>votes</th>\n",
       "      <th>fraction_votes</th>\n",
       "      <th>nueva_columna</th>\n",
       "      <th>etiqueta_votos</th>\n",
       "    </tr>\n",
       "  </thead>\n",
       "  <tbody>\n",
       "    <tr>\n",
       "      <th>0</th>\n",
       "      <td>Alabama</td>\n",
       "      <td>AL</td>\n",
       "      <td>Autauga</td>\n",
       "      <td>1001.0</td>\n",
       "      <td>Democrat</td>\n",
       "      <td>Bernie Sanders</td>\n",
       "      <td>544</td>\n",
       "      <td>0.182</td>\n",
       "      <td>1</td>\n",
       "      <td>Menor</td>\n",
       "    </tr>\n",
       "    <tr>\n",
       "      <th>1</th>\n",
       "      <td>Alabama</td>\n",
       "      <td>AL</td>\n",
       "      <td>Autauga</td>\n",
       "      <td>1001.0</td>\n",
       "      <td>Democrat</td>\n",
       "      <td>Hillary Clinton</td>\n",
       "      <td>2387</td>\n",
       "      <td>0.800</td>\n",
       "      <td>1</td>\n",
       "      <td>Mayor</td>\n",
       "    </tr>\n",
       "  </tbody>\n",
       "</table>\n",
       "</div>"
      ],
      "text/plain": [
       "     state state_abbreviation   county    fips     party        candidate  \\\n",
       "0  Alabama                 AL  Autauga  1001.0  Democrat   Bernie Sanders   \n",
       "1  Alabama                 AL  Autauga  1001.0  Democrat  Hillary Clinton   \n",
       "\n",
       "   votes  fraction_votes  nueva_columna etiqueta_votos  \n",
       "0    544           0.182              1          Menor  \n",
       "1   2387           0.800              1          Mayor  "
      ]
     },
     "execution_count": 89,
     "metadata": {},
     "output_type": "execute_result"
    }
   ],
   "source": [
    "df.head(2)"
   ]
  },
  {
   "cell_type": "code",
   "execution_count": 90,
   "metadata": {},
   "outputs": [
    {
     "data": {
      "text/html": [
       "<div>\n",
       "<style scoped>\n",
       "    .dataframe tbody tr th:only-of-type {\n",
       "        vertical-align: middle;\n",
       "    }\n",
       "\n",
       "    .dataframe tbody tr th {\n",
       "        vertical-align: top;\n",
       "    }\n",
       "\n",
       "    .dataframe thead th {\n",
       "        text-align: right;\n",
       "    }\n",
       "</style>\n",
       "<table border=\"1\" class=\"dataframe\">\n",
       "  <thead>\n",
       "    <tr style=\"text-align: right;\">\n",
       "      <th></th>\n",
       "      <th>state</th>\n",
       "      <th>state_abbreviation</th>\n",
       "      <th>county</th>\n",
       "      <th>fips</th>\n",
       "      <th>party</th>\n",
       "      <th>candidate</th>\n",
       "      <th>votes</th>\n",
       "      <th>fraction_votes</th>\n",
       "      <th>nueva_columna</th>\n",
       "      <th>etiqueta_votos</th>\n",
       "      <th>FIPStxt</th>\n",
       "      <th>PCTPOVALL_2015</th>\n",
       "    </tr>\n",
       "  </thead>\n",
       "  <tbody>\n",
       "    <tr>\n",
       "      <th>0</th>\n",
       "      <td>Alabama</td>\n",
       "      <td>AL</td>\n",
       "      <td>Autauga</td>\n",
       "      <td>1001.0</td>\n",
       "      <td>Democrat</td>\n",
       "      <td>Bernie Sanders</td>\n",
       "      <td>544</td>\n",
       "      <td>0.182</td>\n",
       "      <td>1</td>\n",
       "      <td>Menor</td>\n",
       "      <td>1001</td>\n",
       "      <td>12.7</td>\n",
       "    </tr>\n",
       "    <tr>\n",
       "      <th>1</th>\n",
       "      <td>Alabama</td>\n",
       "      <td>AL</td>\n",
       "      <td>Autauga</td>\n",
       "      <td>1001.0</td>\n",
       "      <td>Democrat</td>\n",
       "      <td>Hillary Clinton</td>\n",
       "      <td>2387</td>\n",
       "      <td>0.800</td>\n",
       "      <td>1</td>\n",
       "      <td>Mayor</td>\n",
       "      <td>1001</td>\n",
       "      <td>12.7</td>\n",
       "    </tr>\n",
       "    <tr>\n",
       "      <th>2</th>\n",
       "      <td>Alabama</td>\n",
       "      <td>AL</td>\n",
       "      <td>Autauga</td>\n",
       "      <td>1001.0</td>\n",
       "      <td>Republican</td>\n",
       "      <td>Ben Carson</td>\n",
       "      <td>1764</td>\n",
       "      <td>0.146</td>\n",
       "      <td>1</td>\n",
       "      <td>Menor</td>\n",
       "      <td>1001</td>\n",
       "      <td>12.7</td>\n",
       "    </tr>\n",
       "    <tr>\n",
       "      <th>3</th>\n",
       "      <td>Alabama</td>\n",
       "      <td>AL</td>\n",
       "      <td>Autauga</td>\n",
       "      <td>1001.0</td>\n",
       "      <td>Republican</td>\n",
       "      <td>Donald Trump</td>\n",
       "      <td>5387</td>\n",
       "      <td>0.445</td>\n",
       "      <td>1</td>\n",
       "      <td>Mayor</td>\n",
       "      <td>1001</td>\n",
       "      <td>12.7</td>\n",
       "    </tr>\n",
       "    <tr>\n",
       "      <th>4</th>\n",
       "      <td>Alabama</td>\n",
       "      <td>AL</td>\n",
       "      <td>Autauga</td>\n",
       "      <td>1001.0</td>\n",
       "      <td>Republican</td>\n",
       "      <td>John Kasich</td>\n",
       "      <td>421</td>\n",
       "      <td>0.035</td>\n",
       "      <td>1</td>\n",
       "      <td>Menor</td>\n",
       "      <td>1001</td>\n",
       "      <td>12.7</td>\n",
       "    </tr>\n",
       "  </tbody>\n",
       "</table>\n",
       "</div>"
      ],
      "text/plain": [
       "     state state_abbreviation   county    fips       party        candidate  \\\n",
       "0  Alabama                 AL  Autauga  1001.0    Democrat   Bernie Sanders   \n",
       "1  Alabama                 AL  Autauga  1001.0    Democrat  Hillary Clinton   \n",
       "2  Alabama                 AL  Autauga  1001.0  Republican       Ben Carson   \n",
       "3  Alabama                 AL  Autauga  1001.0  Republican     Donald Trump   \n",
       "4  Alabama                 AL  Autauga  1001.0  Republican      John Kasich   \n",
       "\n",
       "   votes  fraction_votes  nueva_columna etiqueta_votos  FIPStxt  \\\n",
       "0    544           0.182              1          Menor     1001   \n",
       "1   2387           0.800              1          Mayor     1001   \n",
       "2   1764           0.146              1          Menor     1001   \n",
       "3   5387           0.445              1          Mayor     1001   \n",
       "4    421           0.035              1          Menor     1001   \n",
       "\n",
       "   PCTPOVALL_2015  \n",
       "0            12.7  \n",
       "1            12.7  \n",
       "2            12.7  \n",
       "3            12.7  \n",
       "4            12.7  "
      ]
     },
     "execution_count": 90,
     "metadata": {},
     "output_type": "execute_result"
    }
   ],
   "source": [
    "# Combinando ambas fuentes de datos en un único dataframe a partir de los valores llave\n",
    "df = df.merge(df_pobreza, left_on=\"fips\", right_on=\"FIPStxt\")\n",
    "df.head()"
   ]
  },
  {
   "cell_type": "markdown",
   "metadata": {},
   "source": [
    "Como punto general existen diferentes formas de combinar los dataframe, siendo el método `inner` el utilizado por defecto"
   ]
  },
  {
   "cell_type": "markdown",
   "metadata": {},
   "source": [
    "<img src='./img/merge_tipos.png'>"
   ]
  },
  {
   "cell_type": "markdown",
   "metadata": {},
   "source": [
    "Como punto final aplicamos un agrupamiento aplicando múltiples funciones de agregacion al df"
   ]
  },
  {
   "cell_type": "code",
   "execution_count": 58,
   "metadata": {
    "scrolled": true
   },
   "outputs": [],
   "source": [
    "county_votes = df.groupby([\"county\",\"party\"]).agg({\n",
    "    \"fraction_votes\":\"mean\",\n",
    "    \"PCTPOVALL_2015\": \"mean\"   \n",
    "   }\n",
    ")"
   ]
  },
  {
   "cell_type": "code",
   "execution_count": 59,
   "metadata": {},
   "outputs": [
    {
     "data": {
      "text/html": [
       "<div>\n",
       "<style scoped>\n",
       "    .dataframe tbody tr th:only-of-type {\n",
       "        vertical-align: middle;\n",
       "    }\n",
       "\n",
       "    .dataframe tbody tr th {\n",
       "        vertical-align: top;\n",
       "    }\n",
       "\n",
       "    .dataframe thead th {\n",
       "        text-align: right;\n",
       "    }\n",
       "</style>\n",
       "<table border=\"1\" class=\"dataframe\">\n",
       "  <thead>\n",
       "    <tr style=\"text-align: right;\">\n",
       "      <th></th>\n",
       "      <th></th>\n",
       "      <th>fraction_votes</th>\n",
       "      <th>PCTPOVALL_2015</th>\n",
       "    </tr>\n",
       "    <tr>\n",
       "      <th>county</th>\n",
       "      <th>party</th>\n",
       "      <th></th>\n",
       "      <th></th>\n",
       "    </tr>\n",
       "  </thead>\n",
       "  <tbody>\n",
       "    <tr>\n",
       "      <th rowspan=\"2\" valign=\"top\">Abbeville</th>\n",
       "      <th>Democrat</th>\n",
       "      <td>0.494000</td>\n",
       "      <td>19.1</td>\n",
       "    </tr>\n",
       "    <tr>\n",
       "      <th>Republican</th>\n",
       "      <td>0.166667</td>\n",
       "      <td>19.1</td>\n",
       "    </tr>\n",
       "    <tr>\n",
       "      <th rowspan=\"2\" valign=\"top\">Acadia</th>\n",
       "      <th>Democrat</th>\n",
       "      <td>0.425500</td>\n",
       "      <td>23.7</td>\n",
       "    </tr>\n",
       "    <tr>\n",
       "      <th>Republican</th>\n",
       "      <td>0.241750</td>\n",
       "      <td>23.7</td>\n",
       "    </tr>\n",
       "    <tr>\n",
       "      <th>Accomack</th>\n",
       "      <th>Democrat</th>\n",
       "      <td>0.497000</td>\n",
       "      <td>20.4</td>\n",
       "    </tr>\n",
       "    <tr>\n",
       "      <th>...</th>\n",
       "      <th>...</th>\n",
       "      <td>...</td>\n",
       "      <td>...</td>\n",
       "    </tr>\n",
       "    <tr>\n",
       "      <th>Zapata</th>\n",
       "      <th>Republican</th>\n",
       "      <td>0.188400</td>\n",
       "      <td>30.9</td>\n",
       "    </tr>\n",
       "    <tr>\n",
       "      <th rowspan=\"2\" valign=\"top\">Zavala</th>\n",
       "      <th>Democrat</th>\n",
       "      <td>0.468000</td>\n",
       "      <td>32.0</td>\n",
       "    </tr>\n",
       "    <tr>\n",
       "      <th>Republican</th>\n",
       "      <td>0.000000</td>\n",
       "      <td>32.0</td>\n",
       "    </tr>\n",
       "    <tr>\n",
       "      <th rowspan=\"2\" valign=\"top\">Ziebach</th>\n",
       "      <th>Democrat</th>\n",
       "      <td>0.500000</td>\n",
       "      <td>47.1</td>\n",
       "    </tr>\n",
       "    <tr>\n",
       "      <th>Republican</th>\n",
       "      <td>0.333333</td>\n",
       "      <td>47.1</td>\n",
       "    </tr>\n",
       "  </tbody>\n",
       "</table>\n",
       "<p>3267 rows × 2 columns</p>\n",
       "</div>"
      ],
      "text/plain": [
       "                      fraction_votes  PCTPOVALL_2015\n",
       "county    party                                     \n",
       "Abbeville Democrat          0.494000            19.1\n",
       "          Republican        0.166667            19.1\n",
       "Acadia    Democrat          0.425500            23.7\n",
       "          Republican        0.241750            23.7\n",
       "Accomack  Democrat          0.497000            20.4\n",
       "...                              ...             ...\n",
       "Zapata    Republican        0.188400            30.9\n",
       "Zavala    Democrat          0.468000            32.0\n",
       "          Republican        0.000000            32.0\n",
       "Ziebach   Democrat          0.500000            47.1\n",
       "          Republican        0.333333            47.1\n",
       "\n",
       "[3267 rows x 2 columns]"
      ]
     },
     "execution_count": 59,
     "metadata": {},
     "output_type": "execute_result"
    }
   ],
   "source": [
    "county_votes"
   ]
  },
  {
   "cell_type": "markdown",
   "metadata": {
    "tags": []
   },
   "source": [
    "# 6. Exportación de datos\n",
    "----------------------------------"
   ]
  },
  {
   "cell_type": "markdown",
   "metadata": {},
   "source": [
    "`Pandas` viene equipado con una amplia gama de opciones para la exportación de información.\n",
    "\n",
    "podemos escribir a excel, necesitamos instalar el paquete `xlwt`"
   ]
  },
  {
   "cell_type": "markdown",
   "metadata": {},
   "source": [
    "<img src='https://pandas.pydata.org/docs/_images/02_io_readwrite.svg'>"
   ]
  },
  {
   "cell_type": "code",
   "execution_count": 91,
   "metadata": {},
   "outputs": [
    {
     "data": {
      "text/html": [
       "<div>\n",
       "<style scoped>\n",
       "    .dataframe tbody tr th:only-of-type {\n",
       "        vertical-align: middle;\n",
       "    }\n",
       "\n",
       "    .dataframe tbody tr th {\n",
       "        vertical-align: top;\n",
       "    }\n",
       "\n",
       "    .dataframe thead th {\n",
       "        text-align: right;\n",
       "    }\n",
       "</style>\n",
       "<table border=\"1\" class=\"dataframe\">\n",
       "  <thead>\n",
       "    <tr style=\"text-align: right;\">\n",
       "      <th></th>\n",
       "      <th>state</th>\n",
       "      <th>state_abbreviation</th>\n",
       "      <th>county</th>\n",
       "      <th>fips</th>\n",
       "      <th>party</th>\n",
       "      <th>candidate</th>\n",
       "      <th>votes</th>\n",
       "      <th>fraction_votes</th>\n",
       "      <th>nueva_columna</th>\n",
       "      <th>etiqueta_votos</th>\n",
       "      <th>FIPStxt</th>\n",
       "      <th>PCTPOVALL_2015</th>\n",
       "    </tr>\n",
       "  </thead>\n",
       "  <tbody>\n",
       "    <tr>\n",
       "      <th>0</th>\n",
       "      <td>Alabama</td>\n",
       "      <td>AL</td>\n",
       "      <td>Autauga</td>\n",
       "      <td>1001.0</td>\n",
       "      <td>Democrat</td>\n",
       "      <td>Bernie Sanders</td>\n",
       "      <td>544</td>\n",
       "      <td>0.182</td>\n",
       "      <td>1</td>\n",
       "      <td>Menor</td>\n",
       "      <td>1001</td>\n",
       "      <td>12.7</td>\n",
       "    </tr>\n",
       "    <tr>\n",
       "      <th>1</th>\n",
       "      <td>Alabama</td>\n",
       "      <td>AL</td>\n",
       "      <td>Autauga</td>\n",
       "      <td>1001.0</td>\n",
       "      <td>Democrat</td>\n",
       "      <td>Hillary Clinton</td>\n",
       "      <td>2387</td>\n",
       "      <td>0.800</td>\n",
       "      <td>1</td>\n",
       "      <td>Mayor</td>\n",
       "      <td>1001</td>\n",
       "      <td>12.7</td>\n",
       "    </tr>\n",
       "    <tr>\n",
       "      <th>2</th>\n",
       "      <td>Alabama</td>\n",
       "      <td>AL</td>\n",
       "      <td>Autauga</td>\n",
       "      <td>1001.0</td>\n",
       "      <td>Republican</td>\n",
       "      <td>Ben Carson</td>\n",
       "      <td>1764</td>\n",
       "      <td>0.146</td>\n",
       "      <td>1</td>\n",
       "      <td>Menor</td>\n",
       "      <td>1001</td>\n",
       "      <td>12.7</td>\n",
       "    </tr>\n",
       "    <tr>\n",
       "      <th>3</th>\n",
       "      <td>Alabama</td>\n",
       "      <td>AL</td>\n",
       "      <td>Autauga</td>\n",
       "      <td>1001.0</td>\n",
       "      <td>Republican</td>\n",
       "      <td>Donald Trump</td>\n",
       "      <td>5387</td>\n",
       "      <td>0.445</td>\n",
       "      <td>1</td>\n",
       "      <td>Mayor</td>\n",
       "      <td>1001</td>\n",
       "      <td>12.7</td>\n",
       "    </tr>\n",
       "    <tr>\n",
       "      <th>4</th>\n",
       "      <td>Alabama</td>\n",
       "      <td>AL</td>\n",
       "      <td>Autauga</td>\n",
       "      <td>1001.0</td>\n",
       "      <td>Republican</td>\n",
       "      <td>John Kasich</td>\n",
       "      <td>421</td>\n",
       "      <td>0.035</td>\n",
       "      <td>1</td>\n",
       "      <td>Menor</td>\n",
       "      <td>1001</td>\n",
       "      <td>12.7</td>\n",
       "    </tr>\n",
       "  </tbody>\n",
       "</table>\n",
       "</div>"
      ],
      "text/plain": [
       "     state state_abbreviation   county    fips       party        candidate  \\\n",
       "0  Alabama                 AL  Autauga  1001.0    Democrat   Bernie Sanders   \n",
       "1  Alabama                 AL  Autauga  1001.0    Democrat  Hillary Clinton   \n",
       "2  Alabama                 AL  Autauga  1001.0  Republican       Ben Carson   \n",
       "3  Alabama                 AL  Autauga  1001.0  Republican     Donald Trump   \n",
       "4  Alabama                 AL  Autauga  1001.0  Republican      John Kasich   \n",
       "\n",
       "   votes  fraction_votes  nueva_columna etiqueta_votos  FIPStxt  \\\n",
       "0    544           0.182              1          Menor     1001   \n",
       "1   2387           0.800              1          Mayor     1001   \n",
       "2   1764           0.146              1          Menor     1001   \n",
       "3   5387           0.445              1          Mayor     1001   \n",
       "4    421           0.035              1          Menor     1001   \n",
       "\n",
       "   PCTPOVALL_2015  \n",
       "0            12.7  \n",
       "1            12.7  \n",
       "2            12.7  \n",
       "3            12.7  \n",
       "4            12.7  "
      ]
     },
     "execution_count": 91,
     "metadata": {},
     "output_type": "execute_result"
    }
   ],
   "source": [
    "df.head()"
   ]
  },
  {
   "cell_type": "code",
   "execution_count": 93,
   "metadata": {},
   "outputs": [],
   "source": [
    "## Expotanción con \"encoding\" e \"index False\"\n",
    "\n",
    "df.to_excel('./src/output/data_partidos.xlsx',\n",
    "            sheet_name='data',encoding='utf-8',index=False)"
   ]
  },
  {
   "cell_type": "code",
   "execution_count": 94,
   "metadata": {},
   "outputs": [],
   "source": [
    "## Exportando a csv\n",
    "path = './src/output/data_partidos.csv'\n",
    "df_excel.to_csv(path, sep='|' ,index=False)\n"
   ]
  },
  {
   "cell_type": "code",
   "execution_count": null,
   "metadata": {},
   "outputs": [],
   "source": []
  },
  {
   "cell_type": "code",
   "execution_count": null,
   "metadata": {},
   "outputs": [],
   "source": [
    "## Exportamos archivo a html\n",
    "\n",
    "with open('./out/data.html',mode='w') as f:\n",
    "    f.write(df.to_html())"
   ]
  },
  {
   "cell_type": "code",
   "execution_count": null,
   "metadata": {},
   "outputs": [],
   "source": [
    "df.to_csv('./out/data_partidos.csv',sep='|',encoding='utf-8',index=False)"
   ]
  },
  {
   "cell_type": "code",
   "execution_count": null,
   "metadata": {},
   "outputs": [],
   "source": []
  },
  {
   "cell_type": "code",
   "execution_count": null,
   "metadata": {},
   "outputs": [],
   "source": []
  },
  {
   "cell_type": "markdown",
   "metadata": {},
   "source": [
    "# Ejercicios\n",
    "---------------------------------------------"
   ]
  },
  {
   "cell_type": "markdown",
   "metadata": {},
   "source": [
    "1. A partir de la data recien generada \"data_partidos.xlsx\", debemos generar un archivo que contenda unicamente la información contenida por cada uno de los estados."
   ]
  },
  {
   "cell_type": "code",
   "execution_count": 97,
   "metadata": {},
   "outputs": [],
   "source": [
    "## Exportando df a excel\n",
    "df_excel = pd.read_excel('./src/output/data_partidos.xlsx',sheet_name='data')"
   ]
  },
  {
   "cell_type": "code",
   "execution_count": 98,
   "metadata": {},
   "outputs": [
    {
     "data": {
      "text/html": [
       "<div>\n",
       "<style scoped>\n",
       "    .dataframe tbody tr th:only-of-type {\n",
       "        vertical-align: middle;\n",
       "    }\n",
       "\n",
       "    .dataframe tbody tr th {\n",
       "        vertical-align: top;\n",
       "    }\n",
       "\n",
       "    .dataframe thead th {\n",
       "        text-align: right;\n",
       "    }\n",
       "</style>\n",
       "<table border=\"1\" class=\"dataframe\">\n",
       "  <thead>\n",
       "    <tr style=\"text-align: right;\">\n",
       "      <th></th>\n",
       "      <th>state</th>\n",
       "      <th>state_abbreviation</th>\n",
       "      <th>county</th>\n",
       "      <th>fips</th>\n",
       "      <th>party</th>\n",
       "      <th>candidate</th>\n",
       "      <th>votes</th>\n",
       "      <th>fraction_votes</th>\n",
       "      <th>nueva_columna</th>\n",
       "      <th>etiqueta_votos</th>\n",
       "      <th>FIPStxt</th>\n",
       "      <th>PCTPOVALL_2015</th>\n",
       "    </tr>\n",
       "  </thead>\n",
       "  <tbody>\n",
       "    <tr>\n",
       "      <th>0</th>\n",
       "      <td>Alabama</td>\n",
       "      <td>AL</td>\n",
       "      <td>Autauga</td>\n",
       "      <td>1001</td>\n",
       "      <td>Democrat</td>\n",
       "      <td>Bernie Sanders</td>\n",
       "      <td>544</td>\n",
       "      <td>0.182</td>\n",
       "      <td>1</td>\n",
       "      <td>Menor</td>\n",
       "      <td>1001</td>\n",
       "      <td>12.7</td>\n",
       "    </tr>\n",
       "    <tr>\n",
       "      <th>1</th>\n",
       "      <td>Alabama</td>\n",
       "      <td>AL</td>\n",
       "      <td>Autauga</td>\n",
       "      <td>1001</td>\n",
       "      <td>Democrat</td>\n",
       "      <td>Hillary Clinton</td>\n",
       "      <td>2387</td>\n",
       "      <td>0.800</td>\n",
       "      <td>1</td>\n",
       "      <td>Mayor</td>\n",
       "      <td>1001</td>\n",
       "      <td>12.7</td>\n",
       "    </tr>\n",
       "  </tbody>\n",
       "</table>\n",
       "</div>"
      ],
      "text/plain": [
       "     state state_abbreviation   county  fips     party        candidate  \\\n",
       "0  Alabama                 AL  Autauga  1001  Democrat   Bernie Sanders   \n",
       "1  Alabama                 AL  Autauga  1001  Democrat  Hillary Clinton   \n",
       "\n",
       "   votes  fraction_votes  nueva_columna etiqueta_votos  FIPStxt  \\\n",
       "0    544           0.182              1          Menor     1001   \n",
       "1   2387           0.800              1          Mayor     1001   \n",
       "\n",
       "   PCTPOVALL_2015  \n",
       "0            12.7  \n",
       "1            12.7  "
      ]
     },
     "execution_count": 98,
     "metadata": {},
     "output_type": "execute_result"
    }
   ],
   "source": [
    "df_excel.head(2)"
   ]
  },
  {
   "cell_type": "code",
   "execution_count": 105,
   "metadata": {
    "scrolled": true,
    "tags": []
   },
   "outputs": [
    {
     "data": {
      "text/plain": [
       "array(['Alabama', 'Arizona', 'Arkansas', 'California', 'Colorado',\n",
       "       'Delaware', 'Florida', 'Georgia', 'Hawaii', 'Idaho', 'Illinois',\n",
       "       'Indiana', 'Iowa', 'Kentucky', 'Louisiana', 'Maryland', 'Michigan',\n",
       "       'Mississippi', 'Missouri', 'Montana', 'Nebraska', 'Nevada',\n",
       "       'New Jersey', 'New Mexico', 'New York', 'North Carolina', 'Ohio',\n",
       "       'Oklahoma', 'Oregon', 'Pennsylvania', 'South Carolina',\n",
       "       'South Dakota', 'Tennessee', 'Texas', 'Utah', 'Virginia',\n",
       "       'Washington', 'West Virginia', 'Wisconsin', 'Wyoming'],\n",
       "      dtype=object)"
      ]
     },
     "execution_count": 105,
     "metadata": {},
     "output_type": "execute_result"
    }
   ],
   "source": [
    "estados = df_excel.state.unique()\n",
    "estados"
   ]
  },
  {
   "cell_type": "code",
   "execution_count": 107,
   "metadata": {},
   "outputs": [],
   "source": [
    "import os"
   ]
  },
  {
   "cell_type": "code",
   "execution_count": 108,
   "metadata": {},
   "outputs": [
    {
     "name": "stdout",
     "output_type": "stream",
     "text": [
      "Done!!\n"
     ]
    }
   ],
   "source": [
    "# generar un excel para cada uno de los estados, donde la información corresponda a dicho estado.\n",
    "if not os.path.isdir('./src/output/reportes'):\n",
    "    os.mkdir('./src/output/reportes')\n",
    "\n",
    "for estado in estados:\n",
    "    # filtrar el df\n",
    "    \n",
    "    df_filter = df_excel[df_excel['state'] == estado]\n",
    "    \n",
    "    # guardar el archivo\n",
    "    folder = './src/output/reportes/{archivo}.xlsx'\n",
    "    archivo_name = estado.lower().replace(' ', '')\n",
    "    \n",
    "    df_filter.to_excel( folder.format(archivo=archivo_name) ,sheet_name=archivo_name, index=False)\n",
    "    pass\n",
    "\n",
    "print('Done!!')"
   ]
  },
  {
   "cell_type": "code",
   "execution_count": null,
   "metadata": {},
   "outputs": [],
   "source": []
  },
  {
   "cell_type": "code",
   "execution_count": 109,
   "metadata": {},
   "outputs": [],
   "source": [
    "# 2. Conectandome a SQL\n",
    "\n",
    "# server_name\n",
    "# base_datos\n",
    "# user, password"
   ]
  },
  {
   "cell_type": "code",
   "execution_count": 110,
   "metadata": {},
   "outputs": [
    {
     "name": "stdout",
     "output_type": "stream",
     "text": [
      "Requirement already satisfied: pyodbc in c:\\users\\gon_2\\anaconda3\\lib\\site-packages (4.0.32)\n",
      "Collecting pyodbc\n",
      "  Downloading pyodbc-4.0.34-cp38-cp38-win_amd64.whl (75 kB)\n",
      "Installing collected packages: pyodbc\n",
      "  Attempting uninstall: pyodbc\n",
      "    Found existing installation: pyodbc 4.0.32\n",
      "    Uninstalling pyodbc-4.0.32:\n",
      "      Successfully uninstalled pyodbc-4.0.32\n",
      "Successfully installed pyodbc-4.0.34\n"
     ]
    }
   ],
   "source": [
    "!pip install pyodbc --upgrade"
   ]
  },
  {
   "cell_type": "code",
   "execution_count": 112,
   "metadata": {},
   "outputs": [],
   "source": [
    "import pandas as pd\n",
    "import pyodbc as podbc\n",
    "\n",
    "\n",
    "def conexion_sql_server(driver,server,database,username=None,password=None):\n",
    "    print(\"realizando conexion SQL\")\n",
    "    # cnxn = pyodbc.connect(r'Driver=SQL Server;Server=.\\SQLEXPRESS;Database=myDB;Trusted_Connection=yes;')\n",
    "    connection = podbc.connect('DRIVER='+driver+     # programa que permite el enlace con el computador \n",
    "                                ';SERVER='+server+   # computar o dirección ip de la computadora\n",
    "                                ';DATABASE='+database+  # colección de tablas\n",
    "                                ';Trusted_Connection=yes'\n",
    "                                # ';UID='+username+     # login \n",
    "                                # ';PWD='+ password\n",
    "                              )    #\n",
    "    print(\"exito!!\")\n",
    "    return connection\n",
    "\n",
    "def select_to_df(sql_query,connection):\n",
    "    #conectando a la base de datos\n",
    "    try:\n",
    "        #pasanod info a df\n",
    "        df = pd.read_sql(sql_query, connection)\n",
    "    except Exception as e:\n",
    "        print(e)\n",
    "    \n",
    "    #cerrando conexion\n",
    "    connection.close()\n",
    "    return df"
   ]
  },
  {
   "cell_type": "code",
   "execution_count": 132,
   "metadata": {},
   "outputs": [
    {
     "name": "stdout",
     "output_type": "stream",
     "text": [
      "realizando conexion SQL\n",
      "exito!!\n"
     ]
    }
   ],
   "source": [
    "conn = conexion_sql_server('{SQL Server Native Client 11.0}', 'DESKTOP-04UEK3O', 'AdventureWorks2019')"
   ]
  },
  {
   "cell_type": "code",
   "execution_count": 114,
   "metadata": {},
   "outputs": [
    {
     "name": "stderr",
     "output_type": "stream",
     "text": [
      "C:\\Users\\gon_2\\anaconda3\\lib\\site-packages\\pandas\\io\\sql.py:761: UserWarning: pandas only support SQLAlchemy connectable(engine/connection) ordatabase string URI or sqlite3 DBAPI2 connectionother DBAPI2 objects are not tested, please consider using SQLAlchemy\n",
      "  warnings.warn(\n"
     ]
    }
   ],
   "source": [
    "\n",
    "query = 'select * from AdventureWorks2019.Person.Person'\n",
    "df_sql = select_to_df(query, conn)"
   ]
  },
  {
   "cell_type": "code",
   "execution_count": 115,
   "metadata": {},
   "outputs": [
    {
     "data": {
      "text/html": [
       "<div>\n",
       "<style scoped>\n",
       "    .dataframe tbody tr th:only-of-type {\n",
       "        vertical-align: middle;\n",
       "    }\n",
       "\n",
       "    .dataframe tbody tr th {\n",
       "        vertical-align: top;\n",
       "    }\n",
       "\n",
       "    .dataframe thead th {\n",
       "        text-align: right;\n",
       "    }\n",
       "</style>\n",
       "<table border=\"1\" class=\"dataframe\">\n",
       "  <thead>\n",
       "    <tr style=\"text-align: right;\">\n",
       "      <th></th>\n",
       "      <th>BusinessEntityID</th>\n",
       "      <th>PersonType</th>\n",
       "      <th>NameStyle</th>\n",
       "      <th>Title</th>\n",
       "      <th>FirstName</th>\n",
       "      <th>MiddleName</th>\n",
       "      <th>LastName</th>\n",
       "      <th>Suffix</th>\n",
       "      <th>EmailPromotion</th>\n",
       "      <th>AdditionalContactInfo</th>\n",
       "      <th>Demographics</th>\n",
       "      <th>rowguid</th>\n",
       "      <th>ModifiedDate</th>\n",
       "    </tr>\n",
       "  </thead>\n",
       "  <tbody>\n",
       "    <tr>\n",
       "      <th>0</th>\n",
       "      <td>1</td>\n",
       "      <td>EM</td>\n",
       "      <td>False</td>\n",
       "      <td>None</td>\n",
       "      <td>Ken</td>\n",
       "      <td>J</td>\n",
       "      <td>Sánchez</td>\n",
       "      <td>None</td>\n",
       "      <td>0</td>\n",
       "      <td>None</td>\n",
       "      <td>&lt;IndividualSurvey xmlns=\"http://schemas.micros...</td>\n",
       "      <td>92C4279F-1207-48A3-8448-4636514EB7E2</td>\n",
       "      <td>2009-01-07</td>\n",
       "    </tr>\n",
       "    <tr>\n",
       "      <th>1</th>\n",
       "      <td>2</td>\n",
       "      <td>EM</td>\n",
       "      <td>False</td>\n",
       "      <td>None</td>\n",
       "      <td>Terri</td>\n",
       "      <td>Lee</td>\n",
       "      <td>Duffy</td>\n",
       "      <td>None</td>\n",
       "      <td>1</td>\n",
       "      <td>None</td>\n",
       "      <td>&lt;IndividualSurvey xmlns=\"http://schemas.micros...</td>\n",
       "      <td>D8763459-8AA8-47CC-AFF7-C9079AF79033</td>\n",
       "      <td>2008-01-24</td>\n",
       "    </tr>\n",
       "    <tr>\n",
       "      <th>2</th>\n",
       "      <td>3</td>\n",
       "      <td>EM</td>\n",
       "      <td>False</td>\n",
       "      <td>None</td>\n",
       "      <td>Roberto</td>\n",
       "      <td>None</td>\n",
       "      <td>Tamburello</td>\n",
       "      <td>None</td>\n",
       "      <td>0</td>\n",
       "      <td>None</td>\n",
       "      <td>&lt;IndividualSurvey xmlns=\"http://schemas.micros...</td>\n",
       "      <td>E1A2555E-0828-434B-A33B-6F38136A37DE</td>\n",
       "      <td>2007-11-04</td>\n",
       "    </tr>\n",
       "    <tr>\n",
       "      <th>3</th>\n",
       "      <td>4</td>\n",
       "      <td>EM</td>\n",
       "      <td>False</td>\n",
       "      <td>None</td>\n",
       "      <td>Rob</td>\n",
       "      <td>None</td>\n",
       "      <td>Walters</td>\n",
       "      <td>None</td>\n",
       "      <td>0</td>\n",
       "      <td>None</td>\n",
       "      <td>&lt;IndividualSurvey xmlns=\"http://schemas.micros...</td>\n",
       "      <td>F2D7CE06-38B3-4357-805B-F4B6B71C01FF</td>\n",
       "      <td>2007-11-28</td>\n",
       "    </tr>\n",
       "    <tr>\n",
       "      <th>4</th>\n",
       "      <td>5</td>\n",
       "      <td>EM</td>\n",
       "      <td>False</td>\n",
       "      <td>Ms.</td>\n",
       "      <td>Gail</td>\n",
       "      <td>A</td>\n",
       "      <td>Erickson</td>\n",
       "      <td>None</td>\n",
       "      <td>0</td>\n",
       "      <td>None</td>\n",
       "      <td>&lt;IndividualSurvey xmlns=\"http://schemas.micros...</td>\n",
       "      <td>F3A3F6B4-AE3B-430C-A754-9F2231BA6FEF</td>\n",
       "      <td>2007-12-30</td>\n",
       "    </tr>\n",
       "  </tbody>\n",
       "</table>\n",
       "</div>"
      ],
      "text/plain": [
       "   BusinessEntityID PersonType  NameStyle Title FirstName MiddleName  \\\n",
       "0                 1         EM      False  None       Ken          J   \n",
       "1                 2         EM      False  None     Terri        Lee   \n",
       "2                 3         EM      False  None   Roberto       None   \n",
       "3                 4         EM      False  None       Rob       None   \n",
       "4                 5         EM      False   Ms.      Gail          A   \n",
       "\n",
       "     LastName Suffix  EmailPromotion AdditionalContactInfo  \\\n",
       "0     Sánchez   None               0                  None   \n",
       "1       Duffy   None               1                  None   \n",
       "2  Tamburello   None               0                  None   \n",
       "3     Walters   None               0                  None   \n",
       "4    Erickson   None               0                  None   \n",
       "\n",
       "                                        Demographics  \\\n",
       "0  <IndividualSurvey xmlns=\"http://schemas.micros...   \n",
       "1  <IndividualSurvey xmlns=\"http://schemas.micros...   \n",
       "2  <IndividualSurvey xmlns=\"http://schemas.micros...   \n",
       "3  <IndividualSurvey xmlns=\"http://schemas.micros...   \n",
       "4  <IndividualSurvey xmlns=\"http://schemas.micros...   \n",
       "\n",
       "                                rowguid ModifiedDate  \n",
       "0  92C4279F-1207-48A3-8448-4636514EB7E2   2009-01-07  \n",
       "1  D8763459-8AA8-47CC-AFF7-C9079AF79033   2008-01-24  \n",
       "2  E1A2555E-0828-434B-A33B-6F38136A37DE   2007-11-04  \n",
       "3  F2D7CE06-38B3-4357-805B-F4B6B71C01FF   2007-11-28  \n",
       "4  F3A3F6B4-AE3B-430C-A754-9F2231BA6FEF   2007-12-30  "
      ]
     },
     "execution_count": 115,
     "metadata": {},
     "output_type": "execute_result"
    }
   ],
   "source": [
    "df_sql.head()"
   ]
  },
  {
   "cell_type": "code",
   "execution_count": 119,
   "metadata": {},
   "outputs": [],
   "source": [
    "df_process = df_sql[df_sql.PersonType == 'EM']"
   ]
  },
  {
   "cell_type": "code",
   "execution_count": 120,
   "metadata": {},
   "outputs": [
    {
     "data": {
      "text/html": [
       "<div>\n",
       "<style scoped>\n",
       "    .dataframe tbody tr th:only-of-type {\n",
       "        vertical-align: middle;\n",
       "    }\n",
       "\n",
       "    .dataframe tbody tr th {\n",
       "        vertical-align: top;\n",
       "    }\n",
       "\n",
       "    .dataframe thead th {\n",
       "        text-align: right;\n",
       "    }\n",
       "</style>\n",
       "<table border=\"1\" class=\"dataframe\">\n",
       "  <thead>\n",
       "    <tr style=\"text-align: right;\">\n",
       "      <th></th>\n",
       "      <th>BusinessEntityID</th>\n",
       "      <th>PersonType</th>\n",
       "      <th>NameStyle</th>\n",
       "      <th>Title</th>\n",
       "      <th>FirstName</th>\n",
       "      <th>MiddleName</th>\n",
       "      <th>LastName</th>\n",
       "      <th>Suffix</th>\n",
       "      <th>EmailPromotion</th>\n",
       "      <th>AdditionalContactInfo</th>\n",
       "      <th>Demographics</th>\n",
       "      <th>rowguid</th>\n",
       "      <th>ModifiedDate</th>\n",
       "    </tr>\n",
       "  </thead>\n",
       "  <tbody>\n",
       "    <tr>\n",
       "      <th>0</th>\n",
       "      <td>1</td>\n",
       "      <td>EM</td>\n",
       "      <td>False</td>\n",
       "      <td>None</td>\n",
       "      <td>Ken</td>\n",
       "      <td>J</td>\n",
       "      <td>Sánchez</td>\n",
       "      <td>None</td>\n",
       "      <td>0</td>\n",
       "      <td>None</td>\n",
       "      <td>&lt;IndividualSurvey xmlns=\"http://schemas.micros...</td>\n",
       "      <td>92C4279F-1207-48A3-8448-4636514EB7E2</td>\n",
       "      <td>2009-01-07</td>\n",
       "    </tr>\n",
       "    <tr>\n",
       "      <th>1</th>\n",
       "      <td>2</td>\n",
       "      <td>EM</td>\n",
       "      <td>False</td>\n",
       "      <td>None</td>\n",
       "      <td>Terri</td>\n",
       "      <td>Lee</td>\n",
       "      <td>Duffy</td>\n",
       "      <td>None</td>\n",
       "      <td>1</td>\n",
       "      <td>None</td>\n",
       "      <td>&lt;IndividualSurvey xmlns=\"http://schemas.micros...</td>\n",
       "      <td>D8763459-8AA8-47CC-AFF7-C9079AF79033</td>\n",
       "      <td>2008-01-24</td>\n",
       "    </tr>\n",
       "  </tbody>\n",
       "</table>\n",
       "</div>"
      ],
      "text/plain": [
       "   BusinessEntityID PersonType  NameStyle Title FirstName MiddleName LastName  \\\n",
       "0                 1         EM      False  None       Ken          J  Sánchez   \n",
       "1                 2         EM      False  None     Terri        Lee    Duffy   \n",
       "\n",
       "  Suffix  EmailPromotion AdditionalContactInfo  \\\n",
       "0   None               0                  None   \n",
       "1   None               1                  None   \n",
       "\n",
       "                                        Demographics  \\\n",
       "0  <IndividualSurvey xmlns=\"http://schemas.micros...   \n",
       "1  <IndividualSurvey xmlns=\"http://schemas.micros...   \n",
       "\n",
       "                                rowguid ModifiedDate  \n",
       "0  92C4279F-1207-48A3-8448-4636514EB7E2   2009-01-07  \n",
       "1  D8763459-8AA8-47CC-AFF7-C9079AF79033   2008-01-24  "
      ]
     },
     "execution_count": 120,
     "metadata": {},
     "output_type": "execute_result"
    }
   ],
   "source": [
    "df_process.head(2)"
   ]
  },
  {
   "cell_type": "code",
   "execution_count": 121,
   "metadata": {},
   "outputs": [
    {
     "data": {
      "text/plain": [
       "(273, 13)"
      ]
     },
     "execution_count": 121,
     "metadata": {},
     "output_type": "execute_result"
    }
   ],
   "source": [
    "df_process.shape"
   ]
  },
  {
   "cell_type": "code",
   "execution_count": null,
   "metadata": {},
   "outputs": [],
   "source": []
  },
  {
   "cell_type": "code",
   "execution_count": null,
   "metadata": {},
   "outputs": [],
   "source": []
  },
  {
   "cell_type": "code",
   "execution_count": 152,
   "metadata": {},
   "outputs": [
    {
     "name": "stdout",
     "output_type": "stream",
     "text": [
      "realizando conexion SQL\n",
      "exito!!\n"
     ]
    }
   ],
   "source": [
    "# escribiendo con pyodbc\n",
    "conn = conexion_sql_server('{SQL Server Native Client 11.0}', 'DESKTOP-04UEK3O', 'AdventureWorks2019')\n",
    "cursor=conn.cursor()\n",
    "\n",
    "# creating column list for insertion\n",
    "cols = \",\".join([str(i) for i in df_process.columns.tolist()])\n"
   ]
  },
  {
   "cell_type": "code",
   "execution_count": 143,
   "metadata": {},
   "outputs": [
    {
     "data": {
      "text/plain": [
       "'BusinessEntityID,PersonType,NameStyle,Title,FirstName,MiddleName,LastName,Suffix,EmailPromotion,AdditionalContactInfo,Demographics,rowguid,ModifiedDate'"
      ]
     },
     "execution_count": 143,
     "metadata": {},
     "output_type": "execute_result"
    }
   ],
   "source": [
    "cols"
   ]
  },
  {
   "cell_type": "code",
   "execution_count": 153,
   "metadata": {},
   "outputs": [],
   "source": [
    "x = \",\".join(['?' for i in df_process.columns] )\n",
    "# Insert DataFrame recrds one by one.\n",
    "for index, row in df_process.iterrows():\n",
    "     cursor.execute(f\"INSERT INTO Person.Person_pandas ({cols}) values({x})\",tuple(row))\n",
    "conn.commit() # confirmación de escritura"
   ]
  },
  {
   "cell_type": "code",
   "execution_count": 154,
   "metadata": {},
   "outputs": [],
   "source": [
    "cursor.close() # cerrar conección con servidor"
   ]
  },
  {
   "cell_type": "code",
   "execution_count": null,
   "metadata": {},
   "outputs": [],
   "source": []
  },
  {
   "cell_type": "code",
   "execution_count": null,
   "metadata": {},
   "outputs": [],
   "source": []
  },
  {
   "cell_type": "code",
   "execution_count": null,
   "metadata": {},
   "outputs": [],
   "source": []
  }
 ],
 "metadata": {
  "kernelspec": {
   "display_name": "Python 3 (ipykernel)",
   "language": "python",
   "name": "python3"
  },
  "language_info": {
   "codemirror_mode": {
    "name": "ipython",
    "version": 3
   },
   "file_extension": ".py",
   "mimetype": "text/x-python",
   "name": "python",
   "nbconvert_exporter": "python",
   "pygments_lexer": "ipython3",
   "version": "3.8.12"
  }
 },
 "nbformat": 4,
 "nbformat_minor": 4
}
