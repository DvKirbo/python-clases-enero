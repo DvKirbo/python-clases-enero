{
 "cells": [
  {
   "cell_type": "markdown",
   "metadata": {},
   "source": [
    "# SUBSTITUCION"
   ]
  },
  {
   "cell_type": "markdown",
   "metadata": {},
   "source": [
    "Implemente un programa que implemente un cifrado de sustitución, como se indica a continuación."
   ]
  },
  {
   "cell_type": "markdown",
   "metadata": {},
   "source": [
    "<img src='./img/ejercicio2.PNG'>\n",
    "<!-- \"C:\\Users\\gdelgadr\\Desktop\\JoinProcess\\PYTHON-FUNDAMENTOS-JOINPROCESS\\Modulo1\\Ejercicios\\img\\ejercicio1.PNG\" -->"
   ]
  },
  {
   "cell_type": "markdown",
   "metadata": {},
   "source": [
    "## ANTECEDENTES"
   ]
  },
  {
   "cell_type": "markdown",
   "metadata": {},
   "source": [
    "En un cifrado de sustitución, “ciframos” (es decir, ocultamos de forma reversible) un mensaje reemplazando cada letra por otra. Para ello utilizamos una clave : en este caso, un mapeo de cada una de las letras del alfabeto a la letra a la que debe corresponder cuando lo cifremos. Para \"descifrar\" el mensaje, el receptor del mensaje necesitaría conocer la clave, de modo que pueda revertir el proceso: traducir el texto cifrado (generalmente llamado texto cifrado ) al mensaje original (generalmente llamado texto plano )."
   ]
  },
  {
   "cell_type": "markdown",
   "metadata": {},
   "source": [
    "Una clave, por ejemplo, podría ser la cadena <b>NQXPOMAFTRHLZGECYJIUWSKDVB</b>. Esta clave de 26 caracteres significa que <b>A</b> (la primera letra del alfabeto) debe convertirse en <b>N</b> (el primer carácter de la clave), <b>B</b> (la segunda letra del alfabeto) debe convertirse en <b>Q</b> (el segundo carácter de la clave) y así sucesivamente."
   ]
  },
  {
   "cell_type": "markdown",
   "metadata": {},
   "source": [
    "Un mensaje como <b>HELLO</b>, entonces, sería encriptado como <b>FOLLE</b>, reemplazando cada una de las letras según el mapeo determinado por la clave."
   ]
  },
  {
   "cell_type": "markdown",
   "metadata": {},
   "source": [
    "Escriba un programa llamado <b>substitution</b> que le permita cifrar mensajes usando un cifrado de sustitución. En el momento en que el usuario ejecuta el programa, debe decidir, proporcionando un argumento de línea de comandos, cuál debe ser la clave en el mensaje secreto que proporcionará en tiempo de ejecución.\n",
    "\n"
   ]
  },
  {
   "cell_type": "markdown",
   "metadata": {},
   "source": [
    "A continuación se muestran algunos ejemplos de cómo podría funcionar el programa. Por ejemplo, si el usuario ingresa una clave de <code>YTNSHKVEFXRBAUQZCLWDMIPGJO</code> y un texto sin formato de <code>HELLO</code>:"
   ]
  },
  {
   "cell_type": "markdown",
   "metadata": {},
   "source": [
    "### Ejemplo1\n",
    "<code>python substitution.py YTNSHKVEFXRBAUQZCLWDMIPGJO <code>\n",
    "<code>plaintext:  HELLO<code>\n",
    "<code>ciphertext: EHBBQ<code>"
   ]
  },
  {
   "cell_type": "markdown",
   "metadata": {},
   "source": [
    "Así es como el programa podría funcionar si el usuario proporciona una clave <code>VCHPRZGJNTLSKFBDQWAXEUYMOI</code> y un texto sin formato de <code>hello, world</code>:"
   ]
  },
  {
   "cell_type": "markdown",
   "metadata": {},
   "source": [
    "### Ejemplo2\n",
    "<code>python substitution.py VCHPRZGJNTLSKFBDQWAXEUYMOI <code>\n",
    "plaintext:  hello, world\n",
    "ciphertext: jrssb, ybwsp"
   ]
  },
  {
   "cell_type": "markdown",
   "metadata": {},
   "source": [
    "Observe que ni la coma ni el espacio fueron sustituidos por el cifrado. ¡Sustituya únicamente caracteres alfabéticos! Observe también que se ha conservado el caso del mensaje original. Las letras minúsculas permanecen en minúsculas y las letras mayúsculas permanecen en mayúsculas.\n",
    "\n",
    "No importa si los caracteres de la clave en sí son mayúsculas o minúsculas. Una clave de <code>VCHPRZGJNTLSKFBDQWAXEUYMOI</code> es funcionalmente idéntica a una clave de <code>vchprzgjntlskfbdqwaxeuymoi</code>(tal cual, para el caso <code>VcHpRzGjNtLsKfBdQwAxEuYmOi</code>).\n",
    "\n",
    "¿Y si un usuario no proporciona una clave válida?"
   ]
  },
  {
   "cell_type": "markdown",
   "metadata": {},
   "source": [
    "<code>python substitution.py ABC\n",
    "Key must contain 26 characters."
   ]
  },
  {
   "cell_type": "markdown",
   "metadata": {},
   "source": [
    "Para todos los casos en que no se proporcione una clave válida el programa debe concluir con algún mensaje de error"
   ]
  },
  {
   "cell_type": "markdown",
   "metadata": {},
   "source": [
    "## ESPECIFICACIONES"
   ]
  },
  {
   "cell_type": "markdown",
   "metadata": {},
   "source": [
    "Diseñe e implemente un programa, <code>substitution</code> que encripta mensajes usando un cifrado de sustitución.\n",
    "\n",
    "- Implemente su programa en un archivo llamado <code>substitution.py</code>.\n",
    "- Su programa debe aceptar un único argumento de línea de comandos, la clave que se utilizará para la sustitución. La clave en sí no debe distinguir entre mayúsculas y minúsculas, por lo que si algún carácter de la clave está en mayúsculas o minúsculas no debería afectar el comportamiento de su programa.\n",
    "- Si su programa se ejecuta sin ningún argumento de línea de comando o con más de un argumento de línea de comando, su programa debe imprimir un mensaje de error de su elección (con <code>print</code>) y retornar un valor de <code>1</code>(que tiende a significar un error) inmediatamente.\n",
    "- Si la clave no es válida (por ejemplo, al no contener 26 caracteres, contener cualquier carácter que no sea un carácter alfabético o no contener cada letra exactamente una vez), su programa debe imprimir un mensaje de error de su elección (con <code>print</code>) y retornar un valor de <code>1</code>(que tiende a significar un error) inmediatamente.\n",
    "- Su programa debe generar <code>plaintext:</code> (sin una nueva línea) y luego solicitar al usuario un texto plano (usando <code>input</code>).\n",
    "- Su programa debe generar <code>ciphertext:</code>(sin una nueva línea) seguido por el texto cifrado correspondiente del texto sin formato, con cada carácter alfabético en el texto sin formato sustituido por el carácter correspondiente en el texto cifrado; Los caracteres no alfabéticos deben imprimirse sin cambios.\n",
    "- Su programa debe preservar el uso de mayúsculas y minúsculas: las letras en mayúscula deben permanecer en mayúsculas; las letras minúsculas deben permanecer en minúsculas.\n",
    "\n",
    "- Después de generar texto cifrado, debe imprimir una nueva línea con el valor de <code>0</code> (el cual implica ejecución exitosa)."
   ]
  },
  {
   "cell_type": "markdown",
   "metadata": {},
   "source": [
    "## Pruebas"
   ]
  },
  {
   "cell_type": "markdown",
   "metadata": {},
   "source": [
    "Asegúrese de probar su código para cada uno de los siguientes.\n",
    "\n",
    "- Ejecute su programa como python sustitucion.py, para cada uno de los ejemplos dados en esta página\n",
    "- Otras pruebas se realizarán durante la clase"
   ]
  },
  {
   "cell_type": "markdown",
   "metadata": {},
   "source": [
    "## Pseudo Código"
   ]
  },
  {
   "cell_type": "markdown",
   "metadata": {},
   "source": [
    "1. Leer <code>llave sustitucion</code> y solicitar <code>plaintext</code>\n",
    "2. Obtengo una lista con el <code>abecedario</code>\n",
    "3. Reccoro letra por letra de <code>plaintext</code>, identifico la posición de la letra en el <code>abecedario</code> y se reemplaza por la posición de la letra en la <code>llave sustitición</code>"
   ]
  },
  {
   "cell_type": "code",
   "execution_count": 3,
   "metadata": {},
   "outputs": [
    {
     "data": {
      "text/plain": [
       "'abcdefghijklmnopqrstuvwxyz'"
      ]
     },
     "execution_count": 3,
     "metadata": {},
     "output_type": "execute_result"
    }
   ],
   "source": [
    "# Nota: El alfabeto a emplear será el ingles\n",
    "import string\n",
    "\n",
    "abecerario = string.ascii_lowercase\n",
    "abecerario"
   ]
  },
  {
   "cell_type": "code",
   "execution_count": 4,
   "metadata": {},
   "outputs": [
    {
     "data": {
      "text/plain": [
       "True"
      ]
     },
     "execution_count": 4,
     "metadata": {},
     "output_type": "execute_result"
    }
   ],
   "source": [
    "# Podría emplear comprobaciones como la siguiente\n",
    "\n",
    "'a' in abecerario"
   ]
  },
  {
   "cell_type": "markdown",
   "metadata": {},
   "source": [
    "## Código"
   ]
  },
  {
   "cell_type": "code",
   "execution_count": null,
   "metadata": {},
   "outputs": [],
   "source": []
  },
  {
   "cell_type": "code",
   "execution_count": null,
   "metadata": {},
   "outputs": [],
   "source": []
  },
  {
   "cell_type": "code",
   "execution_count": null,
   "metadata": {},
   "outputs": [],
   "source": []
  },
  {
   "cell_type": "code",
   "execution_count": null,
   "metadata": {},
   "outputs": [],
   "source": []
  },
  {
   "cell_type": "code",
   "execution_count": null,
   "metadata": {},
   "outputs": [],
   "source": []
  }
 ],
 "metadata": {
  "kernelspec": {
   "display_name": "Python 3",
   "language": "python",
   "name": "python3"
  },
  "language_info": {
   "codemirror_mode": {
    "name": "ipython",
    "version": 3
   },
   "file_extension": ".py",
   "mimetype": "text/x-python",
   "name": "python",
   "nbconvert_exporter": "python",
   "pygments_lexer": "ipython3",
   "version": "3.8.12"
  }
 },
 "nbformat": 4,
 "nbformat_minor": 4
}
