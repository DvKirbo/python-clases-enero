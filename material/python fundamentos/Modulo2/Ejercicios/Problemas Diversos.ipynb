{
 "cells": [
  {
   "cell_type": "markdown",
   "metadata": {},
   "source": [
    "# PROBLEMAS DIVERSOS"
   ]
  },
  {
   "cell_type": "markdown",
   "metadata": {},
   "source": [
    "<h3>1.</h3>\n",
    "Realizar una función que permita la carga de n alumnos. Por cada alumno se deberá preguntar el nombre completo y permitir el ingreso de 3 notas. Las notas deben estar comprendidas entre 0 y 10. Devolver el listado de alumnos."
   ]
  },
  {
   "cell_type": "code",
   "execution_count": null,
   "metadata": {},
   "outputs": [],
   "source": []
  },
  {
   "cell_type": "code",
   "execution_count": 10,
   "metadata": {},
   "outputs": [],
   "source": [
    "# Ayuda: Sería una buena idea emplear listas y diccionarios para esta parte\n",
    "\n",
    "alumnos=list()\n",
    "sistema_notas ={ \n",
    "}\n",
    "\n",
    "def Ingreso_de_notas ():\n",
    "    n=int(input(\"Ingrese el numero de alumnos que va a clasificar: \\n\"))  \n",
    "    for i in range (n):\n",
    "        notas=list()\n",
    "        tempAlumnos=input(\"ingrese el nombre del alumno: \\n\")\n",
    "        for j in range (3):\n",
    "            bucle=True\n",
    "            while(bucle):\n",
    "                tempNotas=int(input(\"Ingrese las notas del alumno: \\n\"))\n",
    "                if tempNotas<0 or tempNotas>10:\n",
    "                    print(\"Error, introduzca las notas en el rango permitido\")\n",
    "                else:\n",
    "                    bucle=False\n",
    "            notas.append(tempNotas)\n",
    "        sistema_notas[str(tempAlumnos)]=notas\n",
    "    #print(sistema_notas)\n",
    "    for x in sistema_notas:\n",
    "        #print(x)\n",
    "        for y in [x]:\n",
    "            print (\"{}:{}\".format(y,sistema_notas[x]))"
   ]
  },
  {
   "cell_type": "markdown",
   "metadata": {},
   "source": [
    "### 2.\n",
    "Definir una función que dado un listado de alumnos evalúe cuántos aprobaron y cuántos desaprobaron, teniendo en cuenta que se aprueba con 4. La nota será el promedio de las 3 notas para cada alumno."
   ]
  },
  {
   "cell_type": "code",
   "execution_count": null,
   "metadata": {},
   "outputs": [],
   "source": []
  },
  {
   "cell_type": "markdown",
   "metadata": {},
   "source": [
    "### 3.\n",
    "Informar el promedio de nota del curso total."
   ]
  },
  {
   "cell_type": "code",
   "execution_count": null,
   "metadata": {},
   "outputs": [],
   "source": []
  },
  {
   "cell_type": "code",
   "execution_count": null,
   "metadata": {},
   "outputs": [],
   "source": []
  },
  {
   "cell_type": "markdown",
   "metadata": {},
   "source": [
    "### 4.\n",
    "Realizar una función que indique quién tuvo el promedio más alto y quién tuvo la nota promedio más baja."
   ]
  },
  {
   "cell_type": "code",
   "execution_count": null,
   "metadata": {},
   "outputs": [],
   "source": []
  },
  {
   "cell_type": "code",
   "execution_count": null,
   "metadata": {},
   "outputs": [],
   "source": []
  },
  {
   "cell_type": "code",
   "execution_count": null,
   "metadata": {},
   "outputs": [],
   "source": []
  },
  {
   "cell_type": "markdown",
   "metadata": {},
   "source": [
    "### 5.\n",
    "Realizar una función que permita buscar un alumno por nombre, siendo el nombre completo o parcial, y devuelva una lista con los n alumnos que concuerden con ese nombre junto con todos sus datos, incluido el promedio de sus notas."
   ]
  },
  {
   "cell_type": "code",
   "execution_count": null,
   "metadata": {},
   "outputs": [],
   "source": []
  }
 ],
 "metadata": {
  "kernelspec": {
   "display_name": "Python 3 (ipykernel)",
   "language": "python",
   "name": "python3"
  },
  "language_info": {
   "codemirror_mode": {
    "name": "ipython",
    "version": 3
   },
   "file_extension": ".py",
   "mimetype": "text/x-python",
   "name": "python",
   "nbconvert_exporter": "python",
   "pygments_lexer": "ipython3",
   "version": "3.9.13"
  },
  "vscode": {
   "interpreter": {
    "hash": "87ad4ba6ff4dc5b2109a662bd146d0d2c3ef15c8c30bbde14c72fbbd43084d40"
   }
  }
 },
 "nbformat": 4,
 "nbformat_minor": 4
}
